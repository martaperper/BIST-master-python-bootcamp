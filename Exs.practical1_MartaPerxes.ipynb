{
 "cells": [
  {
   "cell_type": "markdown",
   "metadata": {},
   "source": [
    "# Practical 1 \n",
    "## Marta Perxés Perich\n",
    "\n",
    "### Master of Multidisciplinary Research on Experimental Sciences. "
   ]
  },
  {
   "cell_type": "markdown",
   "metadata": {},
   "source": [
    "# Exercise 1: Paired t-test. To be submited\n",
    "\n",
    "To investigate the effects of lighting conditions on the orb-spinning spider webs, researchers measured the\n",
    "horizontal (width) and vertical (height) dimensions of the webs made by 17 spiders under light and dim\n",
    "conditions. Accepting that the webs of individual spiders vary considerably, they employed a paired design in\n",
    "which each individual spider acts as its own control. A paired t-test performs a one sample t-test on the\n",
    "differences between dimensions under light and dim conditions.\n",
    "\n",
    "You can find the data in the spider_web.csv file. Note the format of this data set. Rather than organizing the\n",
    "data into the usual long format in which variables are represented in columns and rows represent individual\n",
    "replicates, these data have been organized in wide format. Wide format is often used for data containing\n",
    "repeated measures from individual or other sampling units. Even though this is not necessary (as paired\n",
    "t-tests can be performed on long format data), traditionally it did allow more compact data management as\n",
    "well as making it easier to calculate the differences between repeated measurements on each individual.\n",
    "\n",
    "Perform two separate paired t-tests to test the following null hypotheses:\n",
    "\n",
    "* No effect of lighting on web width\n",
    "* No effect of lighting on web height"
   ]
  },
  {
   "cell_type": "code",
   "execution_count": 1,
   "metadata": {},
   "outputs": [],
   "source": [
    "# loading required functions and modules #\n",
    "import pandas as pd # Read data and work with data frames\n",
    "import matplotlib.pyplot as plt # Boxplot and histogram\n",
    "import statsmodels.api as sm # QQ plot\n",
    "import scipy.stats as stats # Basic statistics\n",
    "import numpy as np # Scientific computing"
   ]
  },
  {
   "cell_type": "code",
   "execution_count": 2,
   "metadata": {
    "scrolled": true
   },
   "outputs": [
    {
     "data": {
      "text/html": [
       "<div>\n",
       "<style scoped>\n",
       "    .dataframe tbody tr th:only-of-type {\n",
       "        vertical-align: middle;\n",
       "    }\n",
       "\n",
       "    .dataframe tbody tr th {\n",
       "        vertical-align: top;\n",
       "    }\n",
       "\n",
       "    .dataframe thead th {\n",
       "        text-align: right;\n",
       "    }\n",
       "</style>\n",
       "<table border=\"1\" class=\"dataframe\">\n",
       "  <thead>\n",
       "    <tr style=\"text-align: right;\">\n",
       "      <th></th>\n",
       "      <th>PAIR</th>\n",
       "      <th>VERTDIM</th>\n",
       "      <th>HORIZDIM</th>\n",
       "      <th>VERTLIGH</th>\n",
       "      <th>HORIZLIG</th>\n",
       "    </tr>\n",
       "  </thead>\n",
       "  <tbody>\n",
       "    <tr>\n",
       "      <th>0</th>\n",
       "      <td>K</td>\n",
       "      <td>300</td>\n",
       "      <td>295</td>\n",
       "      <td>80</td>\n",
       "      <td>60</td>\n",
       "    </tr>\n",
       "    <tr>\n",
       "      <th>1</th>\n",
       "      <td>M</td>\n",
       "      <td>240</td>\n",
       "      <td>260</td>\n",
       "      <td>120</td>\n",
       "      <td>140</td>\n",
       "    </tr>\n",
       "    <tr>\n",
       "      <th>2</th>\n",
       "      <td>N</td>\n",
       "      <td>250</td>\n",
       "      <td>280</td>\n",
       "      <td>170</td>\n",
       "      <td>160</td>\n",
       "    </tr>\n",
       "    <tr>\n",
       "      <th>3</th>\n",
       "      <td>O</td>\n",
       "      <td>220</td>\n",
       "      <td>250</td>\n",
       "      <td>90</td>\n",
       "      <td>120</td>\n",
       "    </tr>\n",
       "    <tr>\n",
       "      <th>4</th>\n",
       "      <td>P</td>\n",
       "      <td>160</td>\n",
       "      <td>160</td>\n",
       "      <td>150</td>\n",
       "      <td>180</td>\n",
       "    </tr>\n",
       "  </tbody>\n",
       "</table>\n",
       "</div>"
      ],
      "text/plain": [
       "  PAIR  VERTDIM  HORIZDIM  VERTLIGH  HORIZLIG\n",
       "0    K      300       295        80        60\n",
       "1    M      240       260       120       140\n",
       "2    N      250       280       170       160\n",
       "3    O      220       250        90       120\n",
       "4    P      160       160       150       180"
      ]
     },
     "execution_count": 2,
     "metadata": {},
     "output_type": "execute_result"
    }
   ],
   "source": [
    "sw=pd.read_csv('spider_web.txt', sep=\" \")\n",
    "sw.head()"
   ]
  },
  {
   "cell_type": "markdown",
   "metadata": {},
   "source": [
    "In this exercise we're going to perform two separate paired t-tests. \n",
    "\n",
    "\n",
    "First of all we need to state the hypothesis. On the first case we have\n",
    "\n",
    "\n",
    "    H0=> There is no effect of lighting on web width (HORIZDIM=HORIZLIG)\n",
    "    HA=> There is an effect of lighting on web witdth (HORIZDIM=/=HORIZLIG)\n",
    "    \n",
    "We perform the t-test. There are two ways of doing this, we can either use the python function designed for this which will also give us the p-value or we can calculate it as we would do it by hand."
   ]
  },
  {
   "cell_type": "code",
   "execution_count": 3,
   "metadata": {},
   "outputs": [
    {
     "data": {
      "text/plain": [
       "Ttest_indResult(statistic=2.1405166251313874, pvalue=0.04003367486004684)"
      ]
     },
     "execution_count": 3,
     "metadata": {},
     "output_type": "execute_result"
    }
   ],
   "source": [
    "stats.ttest_ind(sw.HORIZDIM,sw.HORIZLIG) #Using the python function"
   ]
  },
  {
   "cell_type": "markdown",
   "metadata": {},
   "source": [
    "The p-value is smaller than 0.05. In that case, we could refuse the null hypothesis (H0) with a 95% confidence."
   ]
  },
  {
   "cell_type": "code",
   "execution_count": 4,
   "metadata": {},
   "outputs": [
    {
     "name": "stdout",
     "output_type": "stream",
     "text": [
      "2.148217249443686\n"
     ]
    }
   ],
   "source": [
    "#We will get the same t-value if we use the formula for the t-value of a difference: t=(mean of the difference)/(sd/sqrt(n))\n",
    "sw[\"HDiff\"]=sw.HORIZDIM-sw.HORIZLIG\n",
    "thorizontal=sw.HDiff.mean()/(sw.HDiff.std()/np.sqrt(17))\n",
    "print(thorizontal)"
   ]
  },
  {
   "cell_type": "markdown",
   "metadata": {},
   "source": [
    "We see that we get the same result, however, with this method we do not get the p-value. When using python the other one is easier. Therefore we will only use stats.ttest for comparing vertdim and vertligh."
   ]
  },
  {
   "cell_type": "markdown",
   "metadata": {},
   "source": [
    "The second paired t-test will state the effect of lighting on web height:\n",
    "\n",
    "    H0=> There is no effect of lighting on web height (VERTDIM=VERTLIGH)\n",
    "    HA=> There is an effect of lighting on web height (VERTDIM=/=VERTLIGH)"
   ]
  },
  {
   "cell_type": "code",
   "execution_count": 5,
   "metadata": {},
   "outputs": [
    {
     "data": {
      "text/plain": [
       "Ttest_indResult(statistic=0.8887858861631696, pvalue=0.38075080527784877)"
      ]
     },
     "execution_count": 5,
     "metadata": {},
     "output_type": "execute_result"
    }
   ],
   "source": [
    "stats.ttest_ind(sw.VERTDIM,sw.VERTLIGH) #Using the python function"
   ]
  },
  {
   "cell_type": "markdown",
   "metadata": {},
   "source": [
    "In this case, the p-value is not smaller than 0.05 (which is the confidence interval we're using) and therefore we can't refuse the null hypothesis."
   ]
  },
  {
   "cell_type": "markdown",
   "metadata": {},
   "source": [
    "# Exercise 2: Sampling from a binomial distribution\n",
    "Now, we will answer the same questions but sampling from a binomial distribution. The binomial distribution arises whenever we perform a series of independent trials each of which can result in either success or failure.\n",
    "\n",
    "1. Sample from binomial distribution a thousand samples of sample size = 100 and plot the sampling distribution of the mean.\n",
    "\n",
    "2. Calculate the mean of the population and the sampling distribution of the mean. Are they the similar?\n",
    "\n",
    "3. Calculate the standard deviation of both distributions. Check if the CLT really estimates the sample standard deviation.\n",
    "\n",
    "4. What happens when you change the number of times that you sample? Try sampling 10 times, 100 times, and so on\n",
    "\n",
    "5. What happens when we increase the size of the sample that we take? Try sampling 3 values, 10, 50, 100, and so on."
   ]
  },
  {
   "cell_type": "code",
   "execution_count": 6,
   "metadata": {},
   "outputs": [
    {
     "data": {
      "text/plain": [
       "Text(0.5, 1.0, 'Binomial distribution, n=20 p=0,4')"
      ]
     },
     "execution_count": 6,
     "metadata": {},
     "output_type": "execute_result"
    },
    {
     "data": {
      "image/png": "[encoded data removed]",
      "text/plain": [
       "<Figure size 432x288 with 1 Axes>"
      ]
     },
     "metadata": {
      "needs_background": "light"
     },
     "output_type": "display_data"
    }
   ],
   "source": [
    "#we first generate a binomial distribution\n",
    "binomial=np.random.binomial(20,0.4,100000)\n",
    "plt.hist(binomial)\n",
    "plt.title(\"Binomial distribution, n=20 p=0,4\")"
   ]
  },
  {
   "cell_type": "code",
   "execution_count": 7,
   "metadata": {},
   "outputs": [],
   "source": [
    "def doSampling(dat, numSamples, sizeSamples):\n",
    "    # calculate and plot a sampling distribution of the mean\n",
    "    # parameters given are:\n",
    "        # dat = data to sample from (numeric vector),\n",
    "        # numSamples = number of times you want to sample (number)\n",
    "        # sizeSamples = size of the sample (number)\n",
    "    for i in range(numSamples):\n",
    "        # simple random sampling\n",
    "        get_sample = np.random.choice(dat, size = sizeSamples, replace = True) #replace=true fa que pugui agafar valors que ja hagi agafat abans\n",
    "        #random.choice, de les dades en tria sizesamples (en aquest cas 27)\n",
    "        #calculate mean and return it\n",
    "        yield np.mean(get_sample)"
   ]
  },
  {
   "cell_type": "code",
   "execution_count": 8,
   "metadata": {
    "scrolled": true
   },
   "outputs": [
    {
     "name": "stdout",
     "output_type": "stream",
     "text": [
      "The mean of the distribution is  7.99983\n",
      "The mean of the sampling distribution of the mean is  8.00991\n",
      "The std of the distribution is  2.1934607293270605\n",
      "The std of the sampling distribution of the mean is  0.2156786774347432\n"
     ]
    },
    {
     "data": {
      "image/png": "[encoded data removed]",
      "text/plain": [
       "<Figure size 432x288 with 1 Axes>"
      ]
     },
     "metadata": {
      "needs_background": "light"
     },
     "output_type": "display_data"
    }
   ],
   "source": [
    "dat=binomial\n",
    "numSamples=1000\n",
    "sizeSamples=100\n",
    "x=doSampling(dat, numSamples, sizeSamples)\n",
    "samplingdist=np.fromiter(x, float)\n",
    "plt.hist(samplingdist)\n",
    "print(\"The mean of the distribution is \", binomial.mean() )\n",
    "print(\"The mean of the sampling distribution of the mean is \", samplingdist.mean() )\n",
    "print(\"The std of the distribution is \", binomial.std() )\n",
    "print(\"The std of the sampling distribution of the mean is \", samplingdist.std() )"
   ]
  },
  {
   "cell_type": "markdown",
   "metadata": {},
   "source": [
    "The mean of the population and the mean of the sampling distribution are very similar, with less than 0.003 units of difference. \n",
    "\n",
    "The central limit theorem (CLT) states that the standard deviation of the sample distribution is std/sqrt(n). \n",
    "In this case, std(dist)/sqrt(100)=0.21913  =~ std(sampledist) = 0.21726 . Therefore, the central limit theorem estimates the std of the sample distribution very well.\n",
    "\n",
    "Now, we will see the effect of the number of samples we take. "
   ]
  },
  {
   "cell_type": "code",
   "execution_count": 9,
   "metadata": {},
   "outputs": [
    {
     "name": "stdout",
     "output_type": "stream",
     "text": [
      "8.049999999999999\n",
      "0.1361616686149229\n",
      "7.978500000000001\n",
      "0.22778663261921228\n",
      "7.987850000000001\n",
      "0.2232869846184502\n",
      "7.9984528\n",
      "0.2186902608077461\n"
     ]
    }
   ],
   "source": [
    "dat=binomial\n",
    "sizeSamples=100\n",
    "numSamples=[10,100,1000,100000]\n",
    "\n",
    "for i in numSamples:\n",
    "    x=doSampling(dat, i, sizeSamples)\n",
    "    samplingdist=np.fromiter(x, float)\n",
    "    print(samplingdist.mean())\n",
    "    print(samplingdist.std())"
   ]
  },
  {
   "cell_type": "markdown",
   "metadata": {},
   "source": [
    "As we can see, when changing the number of samples the mean and the standard deviation of the sampling distribution remain the same. The mean is close to the mean of the population and the standard deviation is std(dist)/sqrt(n).\n",
    "\n",
    "However, when we change the size of the samples.."
   ]
  },
  {
   "cell_type": "code",
   "execution_count": 10,
   "metadata": {},
   "outputs": [
    {
     "name": "stdout",
     "output_type": "stream",
     "text": [
      "7.996666666666667\n",
      "1.3178222776822204\n",
      "7.962999999999999\n",
      "0.6859526222706639\n",
      "8.007666666666667\n",
      "0.45082282797371986\n",
      "7.981600000000001\n",
      "0.1939727815957693\n",
      "7.996859999999999\n",
      "0.07020356401209274\n",
      "7.999762200000001\n",
      "0.007072551955270423\n"
     ]
    }
   ],
   "source": [
    "dat=binomial\n",
    "sizeSamples=[3,10,30,100,1000,100000]\n",
    "numSamples=100\n",
    "\n",
    "for i in sizeSamples:\n",
    "    x=doSampling(dat, numSamples, i)\n",
    "    samplingdist=np.fromiter(x, float)\n",
    "    print(samplingdist.mean())\n",
    "    print(samplingdist.std())"
   ]
  },
  {
   "cell_type": "markdown",
   "metadata": {},
   "source": [
    "In this case, we can see that while the mean is remaining the same, the standard deviation of the sampling distribution decreases, once again proving the central limit theorem and the std of each sample being std(dist)/sqrt(n), where n is the size of the samples but not the number of samples."
   ]
  },
  {
   "cell_type": "markdown",
   "metadata": {},
   "source": [
    "# Exercise 3: Sampling from an uniform distribution\n",
    "\n",
    "Finally, we will do the same using an uniform distribution. For instance, let’s generate an uniform distribution of\n",
    "numbers 0 to 9.\n",
    "\n",
    "1\\. Sample from uniform distribution a thousand samples of sample size = 100 and plot the sampling distribution of\n",
    "the mean.\n",
    "\n",
    "2\\. Calculate the mean of the population and the sampling distribution of the mean. Are they the similar?\n",
    "\n",
    "3\\. Calculate the standard deviation of both distributions. Check if the CLT really estimates the sample standard\n",
    "deviation.\n",
    "\n",
    "4\\. What happens when you change the number of times that you sample? Try sampling 10 times, 100 times, and so on.\n",
    "\n",
    "5\\. What happens when we increase the size of the sample that we take? Try sampling 3 values, 10, 50, 100, and so\n",
    "on.\n"
   ]
  },
  {
   "cell_type": "markdown",
   "metadata": {},
   "source": [
    "This exercise is very similar than the last one. We're going to do the same procedure. First, we create the uniform distribution."
   ]
  },
  {
   "cell_type": "code",
   "execution_count": 11,
   "metadata": {},
   "outputs": [
    {
     "data": {
      "text/plain": [
       "Text(0.5, 1.0, 'Uniform distribution')"
      ]
     },
     "execution_count": 11,
     "metadata": {},
     "output_type": "execute_result"
    },
    {
     "data": {
      "image/png": "[encoded data removed]",
      "text/plain": [
       "<Figure size 432x288 with 1 Axes>"
      ]
     },
     "metadata": {
      "needs_background": "light"
     },
     "output_type": "display_data"
    }
   ],
   "source": [
    "uniform=np.random.uniform(0,9,100000)\n",
    "plt.hist(uniform)\n",
    "plt.title(\"Uniform distribution\")"
   ]
  },
  {
   "cell_type": "code",
   "execution_count": 12,
   "metadata": {},
   "outputs": [
    {
     "name": "stdout",
     "output_type": "stream",
     "text": [
      "The mean of the distribution is  4.510210407921589\n",
      "The mean of the sampling distribution of the mean is  4.507037286853514\n",
      "The std of the distribution is  2.6010154307482485\n",
      "The std of the sampling distribution of the mean is  0.26232709697512674\n"
     ]
    },
    {
     "data": {
      "image/png": "[encoded data removed]",
      "text/plain": [
       "<Figure size 432x288 with 1 Axes>"
      ]
     },
     "metadata": {
      "needs_background": "light"
     },
     "output_type": "display_data"
    }
   ],
   "source": [
    "dat=uniform\n",
    "numSamples=1000\n",
    "sizeSamples=100\n",
    "x=doSampling(dat, numSamples, sizeSamples)\n",
    "samplingdist=np.fromiter(x, float)\n",
    "plt.hist(samplingdist)\n",
    "print(\"The mean of the distribution is \", uniform.mean() )\n",
    "print(\"The mean of the sampling distribution of the mean is \", samplingdist.mean() )\n",
    "print(\"The std of the distribution is \", uniform.std() )\n",
    "print(\"The std of the sampling distribution of the mean is \", samplingdist.std() )"
   ]
  },
  {
   "cell_type": "markdown",
   "metadata": {},
   "source": [
    "As we can see, when we sample from a uniform distribution a large amount of times, the mean distribution is normal, with the mean of the population (uniform distribution in this case) and the standard deviation being equal to std(uniform)/sqrt(n)."
   ]
  },
  {
   "cell_type": "code",
   "execution_count": 13,
   "metadata": {},
   "outputs": [
    {
     "name": "stdout",
     "output_type": "stream",
     "text": [
      "4.558732604004829\n",
      "0.3429510150217303\n",
      "4.500793052256798\n",
      "0.2342771948976813\n",
      "4.514511498422047\n",
      "0.2638301320047768\n",
      "4.509528913639423\n",
      "0.2600137233328699\n"
     ]
    }
   ],
   "source": [
    "dat=uniform\n",
    "sizeSamples=100\n",
    "numSamples=[10,100,1000,100000]\n",
    "\n",
    "for i in numSamples:\n",
    "    x=doSampling(dat, i, sizeSamples)\n",
    "    samplingdist=np.fromiter(x, float)\n",
    "    print(samplingdist.mean())\n",
    "    print(samplingdist.std())"
   ]
  },
  {
   "cell_type": "code",
   "execution_count": 14,
   "metadata": {},
   "outputs": [
    {
     "name": "stdout",
     "output_type": "stream",
     "text": [
      "8.063333333333334\n",
      "1.4186809209810203\n",
      "7.978000000000001\n",
      "0.6707577804244986\n",
      "7.992333333333334\n",
      "0.3855401694016102\n",
      "7.9731999999999985\n",
      "0.20757591382431628\n",
      "8.01051\n",
      "0.060335477954516936\n",
      "7.999191200000001\n",
      "0.00796584060598754\n"
     ]
    }
   ],
   "source": [
    "dat=binomial\n",
    "sizeSamples=[3,10,30,100,1000,100000]\n",
    "numSamples=100\n",
    "\n",
    "for i in sizeSamples:\n",
    "    x=doSampling(dat, numSamples, i)\n",
    "    samplingdist=np.fromiter(x, float)\n",
    "    print(samplingdist.mean())\n",
    "    print(samplingdist.std())"
   ]
  },
  {
   "cell_type": "markdown",
   "metadata": {},
   "source": [
    "We see again that by changing the number of samples the mean and the standard deviation of the sampling distribution remain the same. However, when we change the size of the sample, the standard deviation decreases according to the sqrt(sizeSample). "
   ]
  }
 ],
 "metadata": {
  "kernelspec": {
   "display_name": "Python 3",
   "language": "python",
   "name": "python3"
  },
  "language_info": {
   "codemirror_mode": {
    "name": "ipython",
    "version": 3
   },
   "file_extension": ".py",
   "mimetype": "text/x-python",
   "name": "python",
   "nbconvert_exporter": "python",
   "pygments_lexer": "ipython3",
   "version": "3.7.6"
  }
 },
 "nbformat": 4,
 "nbformat_minor": 4
}
