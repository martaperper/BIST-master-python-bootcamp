{
 "cells": [
  {
   "cell_type": "markdown",
   "metadata": {},
   "source": [
    "_Pablo Latorre and Hafid Laayouni_\n",
    "\n",
    "You need to install the following Python packages: _pandas, matplotlib, statsmodels, scipy and numpy._\n",
    "\n",
    "You can do it in Linux, for instance, with [pip installer](https://pypi.python.org/pypi/pip) by typing the following command in the terminal:\n",
    "\n",
    "__sudo pip install pandas matplotlib statsmodels scipy numpy__\n",
    "\n",
    "Then, you have to import in Python the following packages:"
   ]
  },
  {
   "cell_type": "code",
   "execution_count": 3,
   "metadata": {},
   "outputs": [],
   "source": [
    "# loading required functions and modules #\n",
    "import pandas as pd # Read data and work with data frames\n",
    "import matplotlib.pyplot as plt # Boxplot and histogram\n",
    "import statsmodels.api as sm # QQ plot\n",
    "import scipy.stats as stats # Basic statistics\n",
    "import numpy as np # Scientific computing"
   ]
  },
  {
   "cell_type": "markdown",
   "metadata": {},
   "source": [
    "Besides, at the end of this document there is a **Functions' guide** section with practical information about some of the functions used in this session."
   ]
  },
  {
   "cell_type": "markdown",
   "metadata": {},
   "source": [
    "# Functions in Python\n",
    "Defining functions in Python is very easy. We just have to define the name of the function and arguments using Python's specific notation. Here's an example of a function that sums two numbers."
   ]
  },
  {
   "cell_type": "code",
   "execution_count": 2,
   "metadata": {},
   "outputs": [
    {
     "data": {
      "text/plain": [
       "5"
      ]
     },
     "execution_count": 2,
     "metadata": {},
     "output_type": "execute_result"
    }
   ],
   "source": [
    "def doSum(number1, number2):\n",
    "    # do the operation and save it to a variable\n",
    "    result = number1 + number2\n",
    "    # output to return\n",
    "    return(result)\n",
    "\n",
    "doSum(2,3)"
   ]
  },
  {
   "cell_type": "code",
   "execution_count": 3,
   "metadata": {},
   "outputs": [
    {
     "data": {
      "text/plain": [
       "7"
      ]
     },
     "execution_count": 3,
     "metadata": {},
     "output_type": "execute_result"
    }
   ],
   "source": [
    "# we can save the output of the function into a variable\n",
    "result1_6 = doSum(1,6)\n",
    "result1_6"
   ]
  },
  {
   "cell_type": "markdown",
   "metadata": {},
   "source": [
    "Of course, Python has the built-in function *sum()* to do this:"
   ]
  },
  {
   "cell_type": "code",
   "execution_count": 4,
   "metadata": {},
   "outputs": [
    {
     "data": {
      "text/plain": [
       "5"
      ]
     },
     "execution_count": 4,
     "metadata": {},
     "output_type": "execute_result"
    }
   ],
   "source": [
    "sum([2,3])"
   ]
  },
  {
   "cell_type": "markdown",
   "metadata": {},
   "source": [
    "# Inference and Parameter estimation\n",
    "Here we have data on the genome size (measured in picograms of DNA per haploid cell) in two large groups of\n",
    "crustaceans. The cause of variation in genome size has been a puzzle for a long time; we’ll use these data to\n",
    "answer the biological question of whether some groups of crustaceans have different genome sizes than others.\n",
    "\n",
    "1\\. First we should observe the data, load the file into Python and graphically explore the dispersion and\n",
    "normality of the whole dataset. Looking at the histograms, do you think the data is normal?\n",
    "\n",
    "**HINT:** You can use *plt.boxplot()* function for boxplots and *plt.hist()* for histograms."
   ]
  },
  {
   "cell_type": "code",
   "execution_count": 5,
   "metadata": {},
   "outputs": [
    {
     "data": {
      "text/html": [
       "<div>\n",
       "<style scoped>\n",
       "    .dataframe tbody tr th:only-of-type {\n",
       "        vertical-align: middle;\n",
       "    }\n",
       "\n",
       "    .dataframe tbody tr th {\n",
       "        vertical-align: top;\n",
       "    }\n",
       "\n",
       "    .dataframe thead th {\n",
       "        text-align: right;\n",
       "    }\n",
       "</style>\n",
       "<table border=\"1\" class=\"dataframe\">\n",
       "  <thead>\n",
       "    <tr style=\"text-align: right;\">\n",
       "      <th></th>\n",
       "      <th>group</th>\n",
       "      <th>genome</th>\n",
       "    </tr>\n",
       "  </thead>\n",
       "  <tbody>\n",
       "    <tr>\n",
       "      <th>0</th>\n",
       "      <td>Decapods</td>\n",
       "      <td>1.60</td>\n",
       "    </tr>\n",
       "    <tr>\n",
       "      <th>1</th>\n",
       "      <td>Decapods</td>\n",
       "      <td>1.65</td>\n",
       "    </tr>\n",
       "    <tr>\n",
       "      <th>2</th>\n",
       "      <td>Decapods</td>\n",
       "      <td>1.80</td>\n",
       "    </tr>\n",
       "    <tr>\n",
       "      <th>3</th>\n",
       "      <td>Decapods</td>\n",
       "      <td>1.90</td>\n",
       "    </tr>\n",
       "    <tr>\n",
       "      <th>4</th>\n",
       "      <td>Decapods</td>\n",
       "      <td>1.94</td>\n",
       "    </tr>\n",
       "    <tr>\n",
       "      <th>5</th>\n",
       "      <td>Decapods</td>\n",
       "      <td>0.27</td>\n",
       "    </tr>\n",
       "    <tr>\n",
       "      <th>6</th>\n",
       "      <td>Decapods</td>\n",
       "      <td>0.44</td>\n",
       "    </tr>\n",
       "    <tr>\n",
       "      <th>7</th>\n",
       "      <td>Decapods</td>\n",
       "      <td>2.66</td>\n",
       "    </tr>\n",
       "    <tr>\n",
       "      <th>8</th>\n",
       "      <td>Decapods</td>\n",
       "      <td>2.78</td>\n",
       "    </tr>\n",
       "    <tr>\n",
       "      <th>9</th>\n",
       "      <td>Decapods</td>\n",
       "      <td>0.01</td>\n",
       "    </tr>\n",
       "  </tbody>\n",
       "</table>\n",
       "</div>"
      ],
      "text/plain": [
       "      group  genome\n",
       "0  Decapods    1.60\n",
       "1  Decapods    1.65\n",
       "2  Decapods    1.80\n",
       "3  Decapods    1.90\n",
       "4  Decapods    1.94\n",
       "5  Decapods    0.27\n",
       "6  Decapods    0.44\n",
       "7  Decapods    2.66\n",
       "8  Decapods    2.78\n",
       "9  Decapods    0.01"
      ]
     },
     "execution_count": 5,
     "metadata": {},
     "output_type": "execute_result"
    }
   ],
   "source": [
    "df = pd.read_csv('genome_size_long_format.txt', sep=\"\\t\", header=None)\n",
    "df.columns=[\"group\",\"genome\"]\n",
    "df[:10]"
   ]
  },
  {
   "cell_type": "markdown",
   "metadata": {},
   "source": [
    "In this case, the independant data is categorical (group: decapods or isopods) and the dependant variable is a number."
   ]
  },
  {
   "cell_type": "code",
   "execution_count": 6,
   "metadata": {
    "scrolled": true
   },
   "outputs": [
    {
     "data": {
      "text/plain": [
       "{'whiskers': [<matplotlib.lines.Line2D at 0x239c402d048>,\n",
       "  <matplotlib.lines.Line2D at 0x239c4044988>],\n",
       " 'caps': [<matplotlib.lines.Line2D at 0x239c404fb88>,\n",
       "  <matplotlib.lines.Line2D at 0x239c404fc88>],\n",
       " 'boxes': [<matplotlib.lines.Line2D at 0x239c4038c08>],\n",
       " 'medians': [<matplotlib.lines.Line2D at 0x239c4054a48>],\n",
       " 'fliers': [<matplotlib.lines.Line2D at 0x239c4054b48>],\n",
       " 'means': []}"
      ]
     },
     "execution_count": 6,
     "metadata": {},
     "output_type": "execute_result"
    },
    {
     "data": {
      "image/png": "[encoded data removed]",
      "text/plain": [
       "<Figure size 432x288 with 1 Axes>"
      ]
     },
     "metadata": {
      "needs_background": "light"
     },
     "output_type": "display_data"
    }
   ],
   "source": [
    "plt.boxplot(df.genome)"
   ]
  },
  {
   "cell_type": "markdown",
   "metadata": {},
   "source": [
    "Median is located in the orange line.\n",
    "Box includes from Q1 to Q3.\n",
    "25% of the data is located before Q1\n",
    "Points out of the line= Outliers. \n",
    "IQR=Q3-Q1 and the lines go from (Q1-1.5IQR) and Q3+1.5IQR)\n",
    "\n",
    "In our case is not symmetrical (it's skewed to the right) because high values are more extreme. Our mean is higher than the median. "
   ]
  },
  {
   "cell_type": "code",
   "execution_count": 7,
   "metadata": {},
   "outputs": [],
   "source": [
    "dec=df[df.group == 'Decapods']\n",
    "iso=df[df.group == 'Isopods']"
   ]
  },
  {
   "cell_type": "code",
   "execution_count": 8,
   "metadata": {},
   "outputs": [
    {
     "data": {
      "text/plain": [
       "{'whiskers': [<matplotlib.lines.Line2D at 0x239c40fac88>,\n",
       "  <matplotlib.lines.Line2D at 0x239c40fad88>],\n",
       " 'caps': [<matplotlib.lines.Line2D at 0x239c40fddc8>,\n",
       "  <matplotlib.lines.Line2D at 0x239c40fdec8>],\n",
       " 'boxes': [<matplotlib.lines.Line2D at 0x239c40fa148>],\n",
       " 'medians': [<matplotlib.lines.Line2D at 0x239c4103ec8>],\n",
       " 'fliers': [<matplotlib.lines.Line2D at 0x239c4103fc8>],\n",
       " 'means': []}"
      ]
     },
     "execution_count": 8,
     "metadata": {},
     "output_type": "execute_result"
    },
    {
     "data": {
      "image/png": "[encoded data removed]",
      "text/plain": [
       "<Figure size 432x288 with 1 Axes>"
      ]
     },
     "metadata": {
      "needs_background": "light"
     },
     "output_type": "display_data"
    }
   ],
   "source": [
    "plt.boxplot(dec.genome)"
   ]
  },
  {
   "cell_type": "markdown",
   "metadata": {},
   "source": []
  },
  {
   "cell_type": "code",
   "execution_count": 9,
   "metadata": {},
   "outputs": [
    {
     "data": {
      "text/plain": [
       "{'whiskers': [<matplotlib.lines.Line2D at 0x239c41699c8>,\n",
       "  <matplotlib.lines.Line2D at 0x239c4169ac8>],\n",
       " 'caps': [<matplotlib.lines.Line2D at 0x239c416d988>,\n",
       "  <matplotlib.lines.Line2D at 0x239c416dfc8>],\n",
       " 'boxes': [<matplotlib.lines.Line2D at 0x239c4163ec8>],\n",
       " 'medians': [<matplotlib.lines.Line2D at 0x239c4170908>],\n",
       " 'fliers': [<matplotlib.lines.Line2D at 0x239c4170f48>],\n",
       " 'means': []}"
      ]
     },
     "execution_count": 9,
     "metadata": {},
     "output_type": "execute_result"
    },
    {
     "data": {
      "image/png": "[encoded data removed]",
      "text/plain": [
       "<Figure size 432x288 with 1 Axes>"
      ]
     },
     "metadata": {
      "needs_background": "light"
     },
     "output_type": "display_data"
    }
   ],
   "source": [
    "plt.boxplot(iso.genome)"
   ]
  },
  {
   "cell_type": "code",
   "execution_count": 10,
   "metadata": {},
   "outputs": [
    {
     "data": {
      "text/plain": [
       "Decapods         AxesSubplot(0.1,0.15;0.363636x0.75)\n",
       "Isopods     AxesSubplot(0.536364,0.15;0.363636x0.75)\n",
       "dtype: object"
      ]
     },
     "execution_count": 10,
     "metadata": {},
     "output_type": "execute_result"
    },
    {
     "data": {
      "image/png": "[encoded data removed]",
      "text/plain": [
       "<Figure size 432x288 with 2 Axes>"
      ]
     },
     "metadata": {
      "needs_background": "light"
     },
     "output_type": "display_data"
    }
   ],
   "source": [
    "df.groupby(\"group\").boxplot()"
   ]
  },
  {
   "cell_type": "code",
   "execution_count": 11,
   "metadata": {},
   "outputs": [
    {
     "data": {
      "text/html": [
       "<div>\n",
       "<style scoped>\n",
       "    .dataframe tbody tr th:only-of-type {\n",
       "        vertical-align: middle;\n",
       "    }\n",
       "\n",
       "    .dataframe tbody tr th {\n",
       "        vertical-align: top;\n",
       "    }\n",
       "\n",
       "    .dataframe thead th {\n",
       "        text-align: right;\n",
       "    }\n",
       "</style>\n",
       "<table border=\"1\" class=\"dataframe\">\n",
       "  <thead>\n",
       "    <tr style=\"text-align: right;\">\n",
       "      <th></th>\n",
       "      <th>genome</th>\n",
       "    </tr>\n",
       "  </thead>\n",
       "  <tbody>\n",
       "    <tr>\n",
       "      <th>count</th>\n",
       "      <td>54.000000</td>\n",
       "    </tr>\n",
       "    <tr>\n",
       "      <th>mean</th>\n",
       "      <td>2.755370</td>\n",
       "    </tr>\n",
       "    <tr>\n",
       "      <th>std</th>\n",
       "      <td>2.867481</td>\n",
       "    </tr>\n",
       "    <tr>\n",
       "      <th>min</th>\n",
       "      <td>0.010000</td>\n",
       "    </tr>\n",
       "    <tr>\n",
       "      <th>25%</th>\n",
       "      <td>0.497500</td>\n",
       "    </tr>\n",
       "    <tr>\n",
       "      <th>50%</th>\n",
       "      <td>1.785000</td>\n",
       "    </tr>\n",
       "    <tr>\n",
       "      <th>75%</th>\n",
       "      <td>3.445000</td>\n",
       "    </tr>\n",
       "    <tr>\n",
       "      <th>max</th>\n",
       "      <td>10.890000</td>\n",
       "    </tr>\n",
       "  </tbody>\n",
       "</table>\n",
       "</div>"
      ],
      "text/plain": [
       "          genome\n",
       "count  54.000000\n",
       "mean    2.755370\n",
       "std     2.867481\n",
       "min     0.010000\n",
       "25%     0.497500\n",
       "50%     1.785000\n",
       "75%     3.445000\n",
       "max    10.890000"
      ]
     },
     "execution_count": 11,
     "metadata": {},
     "output_type": "execute_result"
    }
   ],
   "source": [
    "df.describe()"
   ]
  },
  {
   "cell_type": "markdown",
   "metadata": {},
   "source": [
    "The data is clearly skewed to the right. It does not look like it follows a normal distribution."
   ]
  },
  {
   "cell_type": "code",
   "execution_count": 12,
   "metadata": {},
   "outputs": [
    {
     "data": {
      "text/plain": [
       "array([<matplotlib.axes._subplots.AxesSubplot object at 0x00000239C43ED688>,\n",
       "       <matplotlib.axes._subplots.AxesSubplot object at 0x00000239C441C308>],\n",
       "      dtype=object)"
      ]
     },
     "execution_count": 12,
     "metadata": {},
     "output_type": "execute_result"
    },
    {
     "data": {
      "image/png": "[encoded data removed]",
      "text/plain": [
       "<Figure size 432x288 with 1 Axes>"
      ]
     },
     "metadata": {
      "needs_background": "light"
     },
     "output_type": "display_data"
    },
    {
     "data": {
      "image/png": "[encoded data removed]",
      "text/plain": [
       "<Figure size 432x288 with 1 Axes>"
      ]
     },
     "metadata": {
      "needs_background": "light"
     },
     "output_type": "display_data"
    },
    {
     "data": {
      "image/png": "[encoded data removed]",
      "text/plain": [
       "<Figure size 432x288 with 1 Axes>"
      ]
     },
     "metadata": {
      "needs_background": "light"
     },
     "output_type": "display_data"
    },
    {
     "data": {
      "image/png": "[encoded data removed]",
      "text/plain": [
       "<Figure size 432x288 with 2 Axes>"
      ]
     },
     "metadata": {
      "needs_background": "light"
     },
     "output_type": "display_data"
    }
   ],
   "source": [
    "df.hist()\n",
    "dec.hist()\n",
    "plt.title(\"decapods\")\n",
    "iso.hist()\n",
    "plt.title(\"isopods\")\n",
    "df.genome.hist(by=df.group) #histogram by groups"
   ]
  },
  {
   "cell_type": "markdown",
   "metadata": {},
   "source": [
    "A better graphical way to look at data normality is to perform a Q-Q plot. A histogram shows the frequencies\n",
    "of different values in the variable (counts). Depending on how the histogram looks it can be misleading. It’s\n",
    "better to use the Q-Q plot. A Q-Q plot shows the mapping between the distribution of the data and the ideal\n",
    "distribution (the normal distribution in this case). Usually a line is plotted through the quartiles. When the\n",
    "dots follow the line closely, the data has a normal distribution.\n",
    "\n",
    "**HINT:** We can use *sm.qqplot()* function to draw a Q-Q plot in Python."
   ]
  },
  {
   "cell_type": "code",
   "execution_count": 13,
   "metadata": {},
   "outputs": [
    {
     "data": {
      "text/plain": [
       "Text(0.5, 1.0, 'isopods')"
      ]
     },
     "execution_count": 13,
     "metadata": {},
     "output_type": "execute_result"
    },
    {
     "data": {
      "image/png": "[encoded data removed]",
      "text/plain": [
       "<Figure size 432x288 with 1 Axes>"
      ]
     },
     "metadata": {
      "needs_background": "light"
     },
     "output_type": "display_data"
    },
    {
     "data": {
      "image/png": "[encoded data removed]",
      "text/plain": [
       "<Figure size 432x288 with 1 Axes>"
      ]
     },
     "metadata": {
      "needs_background": "light"
     },
     "output_type": "display_data"
    }
   ],
   "source": [
    "sm.qqplot(dec.genome, line=\"q\")\n",
    "plt.title(\"decapods\")\n",
    "sm.qqplot(iso.genome, line=\"q\")\n",
    "plt.title(\"isopods\")\n"
   ]
  },
  {
   "cell_type": "markdown",
   "metadata": {},
   "source": [
    "In python, the QQ-plot compares our data to a normal distribution.\n",
    "On the x axis we plot the theoretical values that would correspond to a normal distribution of same mean and same std. In the y axis we plot the actual data.\n",
    "In our case, data is not normal, as it's not found in the diagonal: There is not good correspondence between what is expected and the results.\n",
    "\n",
    "Spoiler: QQplot might be more useful than certain statistical tests."
   ]
  },
  {
   "cell_type": "markdown",
   "metadata": {},
   "source": [
    "2\\. Calculate mean and variance of each group. Compare them."
   ]
  },
  {
   "cell_type": "code",
   "execution_count": 14,
   "metadata": {},
   "outputs": [
    {
     "data": {
      "text/html": [
       "<div>\n",
       "<style scoped>\n",
       "    .dataframe tbody tr th:only-of-type {\n",
       "        vertical-align: middle;\n",
       "    }\n",
       "\n",
       "    .dataframe tbody tr th {\n",
       "        vertical-align: top;\n",
       "    }\n",
       "\n",
       "    .dataframe thead tr th {\n",
       "        text-align: left;\n",
       "    }\n",
       "\n",
       "    .dataframe thead tr:last-of-type th {\n",
       "        text-align: right;\n",
       "    }\n",
       "</style>\n",
       "<table border=\"1\" class=\"dataframe\">\n",
       "  <thead>\n",
       "    <tr>\n",
       "      <th></th>\n",
       "      <th colspan=\"8\" halign=\"left\">genome</th>\n",
       "    </tr>\n",
       "    <tr>\n",
       "      <th></th>\n",
       "      <th>count</th>\n",
       "      <th>mean</th>\n",
       "      <th>std</th>\n",
       "      <th>min</th>\n",
       "      <th>25%</th>\n",
       "      <th>50%</th>\n",
       "      <th>75%</th>\n",
       "      <th>max</th>\n",
       "    </tr>\n",
       "    <tr>\n",
       "      <th>group</th>\n",
       "      <th></th>\n",
       "      <th></th>\n",
       "      <th></th>\n",
       "      <th></th>\n",
       "      <th></th>\n",
       "      <th></th>\n",
       "      <th></th>\n",
       "      <th></th>\n",
       "    </tr>\n",
       "  </thead>\n",
       "  <tbody>\n",
       "    <tr>\n",
       "      <th>Decapods</th>\n",
       "      <td>27.0</td>\n",
       "      <td>4.133333</td>\n",
       "      <td>3.175416</td>\n",
       "      <td>0.01</td>\n",
       "      <td>1.85</td>\n",
       "      <td>2.75</td>\n",
       "      <td>6.515</td>\n",
       "      <td>10.89</td>\n",
       "    </tr>\n",
       "    <tr>\n",
       "      <th>Isopods</th>\n",
       "      <td>27.0</td>\n",
       "      <td>1.377407</td>\n",
       "      <td>1.653557</td>\n",
       "      <td>0.19</td>\n",
       "      <td>0.29</td>\n",
       "      <td>0.70</td>\n",
       "      <td>1.700</td>\n",
       "      <td>6.81</td>\n",
       "    </tr>\n",
       "  </tbody>\n",
       "</table>\n",
       "</div>"
      ],
      "text/plain": [
       "         genome                                                    \n",
       "          count      mean       std   min   25%   50%    75%    max\n",
       "group                                                              \n",
       "Decapods   27.0  4.133333  3.175416  0.01  1.85  2.75  6.515  10.89\n",
       "Isopods    27.0  1.377407  1.653557  0.19  0.29  0.70  1.700   6.81"
      ]
     },
     "execution_count": 14,
     "metadata": {},
     "output_type": "execute_result"
    }
   ],
   "source": [
    "df.groupby(\"group\").describe()"
   ]
  },
  {
   "cell_type": "markdown",
   "metadata": {},
   "source": [
    "We could have also calculated the variance directly by grouping data "
   ]
  },
  {
   "cell_type": "code",
   "execution_count": 15,
   "metadata": {},
   "outputs": [
    {
     "data": {
      "text/plain": [
       "10.083269230769229"
      ]
     },
     "execution_count": 15,
     "metadata": {},
     "output_type": "execute_result"
    }
   ],
   "source": [
    "np.var(df[df.group == 'Decapods']['genome'], ddof=1) #note that we have one degree of freedom and we need to state it."
   ]
  },
  {
   "cell_type": "code",
   "execution_count": 16,
   "metadata": {},
   "outputs": [
    {
     "data": {
      "text/plain": [
       "2.7342507122507125"
      ]
     },
     "execution_count": 16,
     "metadata": {},
     "output_type": "execute_result"
    }
   ],
   "source": [
    "np.var(df[df.group == 'Isopods']['genome'], ddof=1)"
   ]
  },
  {
   "cell_type": "markdown",
   "metadata": {},
   "source": [
    "Before trying to analyze the data, let's use this data set to explore together how the sampling process may affect the\n",
    "estimation results.\n",
    "\n",
    "# Population and sample\n",
    "\n",
    "Let’s set a population with our best estimate of the mean and variance we can get from our dataset and proceed to a\n",
    "simulation of the sampling process.\n",
    "\n",
    "Calculate the best estimate of the mean and the variance assuming the genome size of Decapods and Isopods is the\n",
    "same.\n",
    "\n",
    "Eventhough our variable is not normal, let assume we are working with a normal distribution. Later on we will\n",
    "transform our variable to approximate normality\n",
    "\n",
    "# Sampling from a normal distribution\n",
    "\n",
    "We are going to recreate the data about genome size. Then we will see how sample size and number of samples can\n",
    "affect the sampling distribution.\n",
    "\n",
    "Given we want to simulate a sampling from a normal distribution we will apply the log10 transformation to our data.\n",
    "Use the *log10()* function. Calculate the mean and the variance of the newly transformed data. Are the variances more\n",
    "similar now?\n"
   ]
  },
  {
   "cell_type": "code",
   "execution_count": 17,
   "metadata": {},
   "outputs": [
    {
     "data": {
      "text/html": [
       "<div>\n",
       "<style scoped>\n",
       "    .dataframe tbody tr th:only-of-type {\n",
       "        vertical-align: middle;\n",
       "    }\n",
       "\n",
       "    .dataframe tbody tr th {\n",
       "        vertical-align: top;\n",
       "    }\n",
       "\n",
       "    .dataframe thead th {\n",
       "        text-align: right;\n",
       "    }\n",
       "</style>\n",
       "<table border=\"1\" class=\"dataframe\">\n",
       "  <thead>\n",
       "    <tr style=\"text-align: right;\">\n",
       "      <th></th>\n",
       "      <th>group</th>\n",
       "      <th>genome</th>\n",
       "      <th>log10</th>\n",
       "    </tr>\n",
       "  </thead>\n",
       "  <tbody>\n",
       "    <tr>\n",
       "      <th>0</th>\n",
       "      <td>Decapods</td>\n",
       "      <td>1.60</td>\n",
       "      <td>0.204120</td>\n",
       "    </tr>\n",
       "    <tr>\n",
       "      <th>1</th>\n",
       "      <td>Decapods</td>\n",
       "      <td>1.65</td>\n",
       "      <td>0.217484</td>\n",
       "    </tr>\n",
       "    <tr>\n",
       "      <th>2</th>\n",
       "      <td>Decapods</td>\n",
       "      <td>1.80</td>\n",
       "      <td>0.255273</td>\n",
       "    </tr>\n",
       "    <tr>\n",
       "      <th>3</th>\n",
       "      <td>Decapods</td>\n",
       "      <td>1.90</td>\n",
       "      <td>0.278754</td>\n",
       "    </tr>\n",
       "    <tr>\n",
       "      <th>4</th>\n",
       "      <td>Decapods</td>\n",
       "      <td>1.94</td>\n",
       "      <td>0.287802</td>\n",
       "    </tr>\n",
       "  </tbody>\n",
       "</table>\n",
       "</div>"
      ],
      "text/plain": [
       "      group  genome     log10\n",
       "0  Decapods    1.60  0.204120\n",
       "1  Decapods    1.65  0.217484\n",
       "2  Decapods    1.80  0.255273\n",
       "3  Decapods    1.90  0.278754\n",
       "4  Decapods    1.94  0.287802"
      ]
     },
     "execution_count": 17,
     "metadata": {},
     "output_type": "execute_result"
    }
   ],
   "source": [
    "df[\"log10\"]=np.log10(df.genome)\n",
    "df.head()"
   ]
  },
  {
   "cell_type": "code",
   "execution_count": 18,
   "metadata": {},
   "outputs": [
    {
     "data": {
      "text/html": [
       "<div>\n",
       "<style scoped>\n",
       "    .dataframe tbody tr th:only-of-type {\n",
       "        vertical-align: middle;\n",
       "    }\n",
       "\n",
       "    .dataframe tbody tr th {\n",
       "        vertical-align: top;\n",
       "    }\n",
       "\n",
       "    .dataframe thead th {\n",
       "        text-align: right;\n",
       "    }\n",
       "</style>\n",
       "<table border=\"1\" class=\"dataframe\">\n",
       "  <thead>\n",
       "    <tr style=\"text-align: right;\">\n",
       "      <th></th>\n",
       "      <th>count</th>\n",
       "      <th>mean</th>\n",
       "      <th>std</th>\n",
       "      <th>min</th>\n",
       "      <th>25%</th>\n",
       "      <th>50%</th>\n",
       "      <th>75%</th>\n",
       "      <th>max</th>\n",
       "    </tr>\n",
       "    <tr>\n",
       "      <th>group</th>\n",
       "      <th></th>\n",
       "      <th></th>\n",
       "      <th></th>\n",
       "      <th></th>\n",
       "      <th></th>\n",
       "      <th></th>\n",
       "      <th></th>\n",
       "      <th></th>\n",
       "    </tr>\n",
       "  </thead>\n",
       "  <tbody>\n",
       "    <tr>\n",
       "      <th>Decapods</th>\n",
       "      <td>27.0</td>\n",
       "      <td>0.402046</td>\n",
       "      <td>0.617043</td>\n",
       "      <td>-2.000000</td>\n",
       "      <td>0.267013</td>\n",
       "      <td>0.439333</td>\n",
       "      <td>0.813904</td>\n",
       "      <td>1.037028</td>\n",
       "    </tr>\n",
       "    <tr>\n",
       "      <th>Isopods</th>\n",
       "      <td>27.0</td>\n",
       "      <td>-0.106685</td>\n",
       "      <td>0.461436</td>\n",
       "      <td>-0.721246</td>\n",
       "      <td>-0.537860</td>\n",
       "      <td>-0.154902</td>\n",
       "      <td>0.230080</td>\n",
       "      <td>0.833147</td>\n",
       "    </tr>\n",
       "  </tbody>\n",
       "</table>\n",
       "</div>"
      ],
      "text/plain": [
       "          count      mean       std       min       25%       50%       75%  \\\n",
       "group                                                                         \n",
       "Decapods   27.0  0.402046  0.617043 -2.000000  0.267013  0.439333  0.813904   \n",
       "Isopods    27.0 -0.106685  0.461436 -0.721246 -0.537860 -0.154902  0.230080   \n",
       "\n",
       "               max  \n",
       "group               \n",
       "Decapods  1.037028  \n",
       "Isopods   0.833147  "
      ]
     },
     "execution_count": 18,
     "metadata": {},
     "output_type": "execute_result"
    }
   ],
   "source": [
    "df.groupby('group').describe()['log10']"
   ]
  },
  {
   "cell_type": "markdown",
   "metadata": {},
   "source": [
    "STD has decreased a lot after the transformation: log10 pulls extreme values close to the cluster of data, making the data more symmetrical.\n",
    "\n",
    "t-test assumes groups have the same variance. "
   ]
  },
  {
   "cell_type": "markdown",
   "metadata": {},
   "source": [
    "Now plot the histogram and the Q-Q plot of the transformed data. Do they look nearly normal?"
   ]
  },
  {
   "cell_type": "code",
   "execution_count": 19,
   "metadata": {},
   "outputs": [
    {
     "data": {
      "text/plain": [
       "Text(0.5, 1.0, 'isopods')"
      ]
     },
     "execution_count": 19,
     "metadata": {},
     "output_type": "execute_result"
    },
    {
     "data": {
      "image/png": "[encoded data removed]",
      "text/plain": [
       "<Figure size 432x288 with 1 Axes>"
      ]
     },
     "metadata": {
      "needs_background": "light"
     },
     "output_type": "display_data"
    },
    {
     "data": {
      "image/png": "[encoded data removed]",
      "text/plain": [
       "<Figure size 432x288 with 1 Axes>"
      ]
     },
     "metadata": {
      "needs_background": "light"
     },
     "output_type": "display_data"
    }
   ],
   "source": [
    "dec=df[df.group == 'Decapods']\n",
    "iso=df[df.group == 'Isopods']\n",
    "sm.qqplot(dec.log10)\n",
    "plt.title(\"decapods\")\n",
    "sm.qqplot(iso.log10)\n",
    "plt.title(\"isopods\")"
   ]
  },
  {
   "cell_type": "markdown",
   "metadata": {},
   "source": [
    "First, we need to create the values of genome size. We’ll use the function **random.normal()** from Numpy to create a random normal distribution with mean = 0.1476808 and sd = 0.5976242.\n",
    "\n",
    "*IMPORTANT*: If you are creating random variables or sampling variables randomly, you should use the function\n",
    "**random.seed()** from Numpy to set the seed number. That means that you “set” the sequence of random numbers that Python gives you (they are pseudo-random), so you can reproduce your work later on. If not different sessions will give different simulation results."
   ]
  },
  {
   "cell_type": "code",
   "execution_count": 20,
   "metadata": {},
   "outputs": [
    {
     "data": {
      "image/png": "[encoded data removed]",
      "text/plain": [
       "<Figure size 432x288 with 1 Axes>"
      ]
     },
     "metadata": {
      "needs_background": "light"
     },
     "output_type": "display_data"
    },
    {
     "data": {
      "text/plain": [
       "(array([2.50000e+01, 1.08100e+03, 1.71970e+04, 1.13781e+05, 3.10395e+05,\n",
       "        3.53591e+05, 1.68117e+05, 3.30600e+04, 2.66000e+03, 9.30000e+01]),\n",
       " array([-2.84181393, -2.26098531, -1.68015669, -1.09932808, -0.51849946,\n",
       "         0.06232916,  0.64315778,  1.22398639,  1.80481501,  2.38564363,\n",
       "         2.96647225]),\n",
       " <a list of 10 Patch objects>)"
      ]
     },
     "execution_count": 20,
     "metadata": {},
     "output_type": "execute_result"
    },
    {
     "data": {
      "image/png": "[encoded data removed]",
      "text/plain": [
       "<Figure size 432x288 with 1 Axes>"
      ]
     },
     "metadata": {
      "needs_background": "light"
     },
     "output_type": "display_data"
    }
   ],
   "source": [
    "np.random.seed(0) #important if we are interested in having a reproducible analysis. \n",
    "genomesize = np.random.normal(loc=0.1476808, scale=0.5976242, size=1000000) #creo un set de dades constants\n",
    "plt.boxplot(genomesize)\n",
    "plt.show()\n",
    "plt.title(\"A normal distribution with mean=0.14 and std=0.60\")\n",
    "plt.hist(genomesize)"
   ]
  },
  {
   "cell_type": "markdown",
   "metadata": {},
   "source": [
    "1\\. Sample from genome size a thousand samples of sample size = 27 and plot the sampling distribution of the\n",
    "mean.\n",
    "\n",
    "To do the sampling we wrote a function called *doSampling()*. Feel free to change it or wrote your own!\n",
    "\n",
    "**HINT**: If you use *doSampling()* function, you can collect the results of the sampling with *np.fromiter()* function."
   ]
  },
  {
   "cell_type": "code",
   "execution_count": 21,
   "metadata": {},
   "outputs": [],
   "source": [
    "def doSampling(dat, numSamples, sizeSamples):\n",
    "    # calculate and plot a sampling distribution of the mean\n",
    "    # parameters given are:\n",
    "        # dat = data to sample from (numeric vector),\n",
    "        # numSamples = number of times you want to sample (number)\n",
    "        # sizeSamples = size of the sample (number)\n",
    "    for i in range(numSamples):\n",
    "        # simple random sampling\n",
    "        get_sample = np.random.choice(dat, size = sizeSamples, replace = True) #replace=true fa que pugui agafar valors que ja hagi agafat abans\n",
    "        #random.choice, de les dades en tria sizesamples (en aquest cas 27)\n",
    "        #calculate mean and return it\n",
    "        yield np.mean(get_sample)\n"
   ]
  },
  {
   "cell_type": "markdown",
   "metadata": {},
   "source": [
    "With yield we're generating an iterable object. With return we would be generating numbers."
   ]
  },
  {
   "cell_type": "code",
   "execution_count": 22,
   "metadata": {},
   "outputs": [],
   "source": [
    "x=doSampling(genomesize, 1000, 27) #agafem 1000 vegades una mostra de 27 elements"
   ]
  },
  {
   "cell_type": "code",
   "execution_count": 23,
   "metadata": {},
   "outputs": [],
   "source": [
    "samplingdist=np.fromiter(x, float)"
   ]
  },
  {
   "cell_type": "markdown",
   "metadata": {},
   "source": [
    "fromiter is a way of collecting the data from the function."
   ]
  },
  {
   "cell_type": "code",
   "execution_count": 24,
   "metadata": {
    "scrolled": true
   },
   "outputs": [
    {
     "data": {
      "text/plain": [
       "Text(0, 0.5, 'value')"
      ]
     },
     "execution_count": 24,
     "metadata": {},
     "output_type": "execute_result"
    },
    {
     "data": {
      "image/png": "[encoded data removed]",
      "text/plain": [
       "<Figure size 432x288 with 1 Axes>"
      ]
     },
     "metadata": {
      "needs_background": "light"
     },
     "output_type": "display_data"
    }
   ],
   "source": [
    "plt.boxplot(samplingdist)\n",
    "plt.title(\"Sampling distribution boxplot, 1000 samples of 27 individuals each\")\n",
    "plt.ylabel(\"value\")\n"
   ]
  },
  {
   "cell_type": "code",
   "execution_count": 25,
   "metadata": {},
   "outputs": [
    {
     "data": {
      "text/plain": [
       "Text(0, 0.5, 'value')"
      ]
     },
     "execution_count": 25,
     "metadata": {},
     "output_type": "execute_result"
    },
    {
     "data": {
      "image/png": "[encoded data removed]",
      "text/plain": [
       "<Figure size 432x288 with 1 Axes>"
      ]
     },
     "metadata": {
      "needs_background": "light"
     },
     "output_type": "display_data"
    }
   ],
   "source": [
    "plt.hist(samplingdist)\n",
    "plt.title(\"Sampling distribution boxplot, 1000 samples of 27 individuals each\")\n",
    "plt.ylabel(\"value\")"
   ]
  },
  {
   "cell_type": "markdown",
   "metadata": {},
   "source": [
    "2\\. Calculate the mean of the population and the sampling distribution of the mean. Are they similar?"
   ]
  },
  {
   "cell_type": "code",
   "execution_count": 26,
   "metadata": {},
   "outputs": [
    {
     "name": "stdout",
     "output_type": "stream",
     "text": [
      "0.150724813222857\n",
      "0.14858449535163015\n"
     ]
    }
   ],
   "source": [
    "print(samplingdist.mean()) #sampling distribution\n",
    "print(genomesize.mean()) #population"
   ]
  },
  {
   "cell_type": "markdown",
   "metadata": {},
   "source": [
    "3\\. Calculate the standard deviation of both distributions. Check if the CLT really estimates the sample standard\n",
    "deviation.\n"
   ]
  },
  {
   "cell_type": "markdown",
   "metadata": {},
   "source": [
    "A l'hora de fer la std hem de posar-hi ddof=1 que significa que restem 1 al número de degrees of freedom. \n",
    "\n",
    "A més, el número que volem comparar és la std de la sampling distribution, que hauria de ser igual a l'std de la sampling distribution dividit per l'arrel del número d'individuals a cada mostra (veure apunts)"
   ]
  },
  {
   "cell_type": "code",
   "execution_count": 27,
   "metadata": {},
   "outputs": [
    {
     "name": "stdout",
     "output_type": "stream",
     "text": [
      "0.1159834320741404\n",
      "0.11500383989913565\n"
     ]
    }
   ],
   "source": [
    "print(samplingdist.std(ddof=1)) #sampling distribution\n",
    "print(genomesize.std(ddof=1)/(np.sqrt(27))) #population"
   ]
  },
  {
   "cell_type": "markdown",
   "metadata": {},
   "source": [
    "4\\. What happens when you change the number of times that you sample? Try sampling 10 times, 100 times, and so on."
   ]
  },
  {
   "cell_type": "code",
   "execution_count": 28,
   "metadata": {},
   "outputs": [
    {
     "name": "stdout",
     "output_type": "stream",
     "text": [
      "The mean of the sampling distribution is  0.20501848996001998\n",
      "The mean of the population is  0.14858449535163015\n",
      "The standard deviation of the sampling distribution is  0.09382044264338614\n",
      "The standard deviation of the population is  0.11500383989913565\n"
     ]
    },
    {
     "data": {
      "image/png": "[encoded data removed]",
      "text/plain": [
       "<Figure size 432x288 with 1 Axes>"
      ]
     },
     "metadata": {
      "needs_background": "light"
     },
     "output_type": "display_data"
    }
   ],
   "source": [
    "x=doSampling(genomesize, 10, 27) #agafem 10 vegades una mostra de 27 elements\n",
    "samplingdist=np.fromiter(x, float)\n",
    "plt.hist(samplingdist)\n",
    "plt.title(\"Sampling distribution boxplot, 10 samples of 27 individuals each\")\n",
    "plt.ylabel(\"value\")\n",
    "print(\"The mean of the sampling distribution is \", samplingdist.mean()) #sampling distribution\n",
    "print(\"The mean of the population is \", genomesize.mean()) #population\n",
    "print(\"The standard deviation of the sampling distribution is \", samplingdist.std(ddof=1)) #sampling distribution\n",
    "print(\"The standard deviation of the population is \", genomesize.std(ddof=1)/(np.sqrt(27))) #population"
   ]
  },
  {
   "cell_type": "code",
   "execution_count": 29,
   "metadata": {},
   "outputs": [
    {
     "name": "stdout",
     "output_type": "stream",
     "text": [
      "The mean of the sampling distribution is  0.16776025841284123\n",
      "The mean of the population is  0.14858449535163015\n",
      "The standard deviation of the sampling distribution is  0.10842432875483934\n",
      "The standard deviation of the population is  0.11500383989913565\n"
     ]
    },
    {
     "data": {
      "image/png": "[encoded data removed]",
      "text/plain": [
       "<Figure size 432x288 with 1 Axes>"
      ]
     },
     "metadata": {
      "needs_background": "light"
     },
     "output_type": "display_data"
    }
   ],
   "source": [
    "x=doSampling(genomesize, 100, 27) #agafem 100 vegades una mostra de 27 elements\n",
    "samplingdist=np.fromiter(x, float)\n",
    "plt.hist(samplingdist)\n",
    "plt.title(\"Sampling distribution boxplot, 100 samples of 27 individuals each\")\n",
    "plt.ylabel(\"value\")\n",
    "print(\"The mean of the sampling distribution is \", samplingdist.mean()) #sampling distribution\n",
    "print(\"The mean of the population is \", genomesize.mean()) #population\n",
    "print(\"The standard deviation of the sampling distribution is \", samplingdist.std(ddof=1)) #sampling distribution\n",
    "print(\"The standard deviation of the population is \", genomesize.std(ddof=1)/(np.sqrt(27))) #population"
   ]
  },
  {
   "cell_type": "code",
   "execution_count": 30,
   "metadata": {},
   "outputs": [
    {
     "name": "stdout",
     "output_type": "stream",
     "text": [
      "The mean of the sampling distribution is  0.1420556012041392\n",
      "The mean of the population is  0.14858449535163015\n",
      "The standard deviation of the sampling distribution is  0.11400735039993405\n",
      "The standard deviation of the population is  0.11500383989913565\n"
     ]
    },
    {
     "data": {
      "image/png": "[encoded data removed]",
      "text/plain": [
       "<Figure size 432x288 with 1 Axes>"
      ]
     },
     "metadata": {
      "needs_background": "light"
     },
     "output_type": "display_data"
    }
   ],
   "source": [
    "x=doSampling(genomesize, 1000, 27) #agafem 1000 vegades una mostra de 27 elements\n",
    "samplingdist=np.fromiter(x, float)\n",
    "plt.hist(samplingdist)\n",
    "plt.title(\"Sampling distribution boxplot, 1000 samples of 27 individuals each\")\n",
    "plt.ylabel(\"value\")\n",
    "print(\"The mean of the sampling distribution is \", samplingdist.mean()) #sampling distribution\n",
    "print(\"The mean of the population is \", genomesize.mean()) #population\n",
    "print(\"The standard deviation of the sampling distribution is \", samplingdist.std(ddof=1)) #sampling distribution\n",
    "print(\"The standard deviation of the population is \", genomesize.std(ddof=1)/(np.sqrt(27))) #population"
   ]
  },
  {
   "cell_type": "code",
   "execution_count": 31,
   "metadata": {},
   "outputs": [
    {
     "name": "stdout",
     "output_type": "stream",
     "text": [
      "The mean of the sampling distribution is  0.1486361102957764\n",
      "The mean of the population is  0.14858449535163015\n",
      "The standard deviation of the sampling distribution is  0.1143819582466555\n",
      "The standard deviation of the population is  0.11500383989913565\n"
     ]
    },
    {
     "data": {
      "image/png": "[encoded data removed]",
      "text/plain": [
       "<Figure size 432x288 with 1 Axes>"
      ]
     },
     "metadata": {
      "needs_background": "light"
     },
     "output_type": "display_data"
    }
   ],
   "source": [
    "x=doSampling(genomesize, 100000, 27) #agafem 100000 vegades una mostra de 27 elements\n",
    "samplingdist=np.fromiter(x, float)\n",
    "plt.hist(samplingdist)\n",
    "plt.title(\"Sampling distribution boxplot, 100000 samples of 27 individuals each\")\n",
    "plt.ylabel(\"value\")\n",
    "print(\"The mean of the sampling distribution is \", samplingdist.mean()) #sampling distribution\n",
    "print(\"The mean of the population is \", genomesize.mean()) #population\n",
    "print(\"The standard deviation of the sampling distribution is \", samplingdist.std(ddof=1)) #sampling distribution\n",
    "print(\"The standard deviation of the population is \", genomesize.std(ddof=1)/(np.sqrt(27))) #population"
   ]
  },
  {
   "cell_type": "code",
   "execution_count": null,
   "metadata": {},
   "outputs": [],
   "source": []
  },
  {
   "cell_type": "markdown",
   "metadata": {},
   "source": [
    "Not really! As we increase the number of samples, the distribution approaches a normal distribution, the mean of the sampling distribution is closer to the mean of the population and the standard deviation of the sampling distribution is always the std the sampling distribution of the population / sqrt(n) (on n=27, número de mostres a cada sample)"
   ]
  },
  {
   "cell_type": "markdown",
   "metadata": {},
   "source": [
    "5\\. What happens when we increase the size of the sample that we take? Try sampling 3 values, 10, 50, 100, and so on."
   ]
  },
  {
   "cell_type": "code",
   "execution_count": 32,
   "metadata": {},
   "outputs": [
    {
     "name": "stdout",
     "output_type": "stream",
     "text": [
      "The mean of the sampling distribution is  0.13097437100062095\n",
      "The mean of the population is  0.14858449535163015\n",
      "The standard deviation of the sampling distribution is  0.3359403621603992\n",
      "The standard deviation of the population is  0.345011519697407\n"
     ]
    },
    {
     "data": {
      "image/png": "[encoded data removed]",
      "text/plain": [
       "<Figure size 432x288 with 1 Axes>"
      ]
     },
     "metadata": {
      "needs_background": "light"
     },
     "output_type": "display_data"
    }
   ],
   "source": [
    "x=doSampling(genomesize, 1000, 3) #agafem 10 vegades una mostra de 3 elements\n",
    "samplingdist=np.fromiter(x, float)\n",
    "plt.hist(samplingdist)\n",
    "plt.title(\"Sampling distribution boxplot, 10 samples of 3 individuals each\")\n",
    "plt.ylabel(\"value\")\n",
    "print(\"The mean of the sampling distribution is \", samplingdist.mean()) #sampling distribution\n",
    "print(\"The mean of the population is \", genomesize.mean()) #population\n",
    "print(\"The standard deviation of the sampling distribution is \", samplingdist.std(ddof=1)) #sampling distribution\n",
    "print(\"The standard deviation of the population is \", genomesize.std(ddof=1)/(np.sqrt(3))) #population"
   ]
  },
  {
   "cell_type": "code",
   "execution_count": 33,
   "metadata": {},
   "outputs": [
    {
     "name": "stdout",
     "output_type": "stream",
     "text": [
      "The mean of the sampling distribution is  0.1472946824278559\n",
      "The mean of the population is  0.14858449535163015\n",
      "The standard deviation of the sampling distribution is  0.190577079026131\n",
      "The standard deviation of the population is  0.18897059193740773\n"
     ]
    },
    {
     "data": {
      "image/png": "[encoded data removed]",
      "text/plain": [
       "<Figure size 432x288 with 1 Axes>"
      ]
     },
     "metadata": {
      "needs_background": "light"
     },
     "output_type": "display_data"
    }
   ],
   "source": [
    "x=doSampling(genomesize, 1000, 10) #agafem 10 vegades una mostra de 10 elements\n",
    "samplingdist=np.fromiter(x, float)\n",
    "plt.hist(samplingdist)\n",
    "plt.title(\"Sampling distribution boxplot, 10 samples of 10 individuals each\")\n",
    "plt.ylabel(\"value\")\n",
    "print(\"The mean of the sampling distribution is \", samplingdist.mean()) #sampling distribution\n",
    "print(\"The mean of the population is \", genomesize.mean()) #population\n",
    "print(\"The standard deviation of the sampling distribution is \", samplingdist.std(ddof=1)) #sampling distribution\n",
    "print(\"The standard deviation of the population is \", genomesize.std(ddof=1)/(np.sqrt(10))) #population"
   ]
  },
  {
   "cell_type": "code",
   "execution_count": 34,
   "metadata": {},
   "outputs": [
    {
     "name": "stdout",
     "output_type": "stream",
     "text": [
      "The mean of the sampling distribution is  0.15014227631719018\n",
      "The mean of the population is  0.14858449535163015\n",
      "The standard deviation of the sampling distribution is  0.06232596052187671\n",
      "The standard deviation of the population is  0.05975774813124594\n"
     ]
    },
    {
     "data": {
      "image/png": "[encoded data removed]",
      "text/plain": [
       "<Figure size 432x288 with 1 Axes>"
      ]
     },
     "metadata": {
      "needs_background": "light"
     },
     "output_type": "display_data"
    }
   ],
   "source": [
    "x=doSampling(genomesize, 1000, 100) #agafem 10 vegades una mostra de 100 elements\n",
    "samplingdist=np.fromiter(x, float)\n",
    "plt.hist(samplingdist)\n",
    "plt.title(\"Sampling distribution boxplot, 10 samples of 100 individuals each\")\n",
    "plt.ylabel(\"value\")\n",
    "print(\"The mean of the sampling distribution is \", samplingdist.mean()) #sampling distribution\n",
    "print(\"The mean of the population is \", genomesize.mean()) #population\n",
    "print(\"The standard deviation of the sampling distribution is \", samplingdist.std(ddof=1)) #sampling distribution\n",
    "print(\"The standard deviation of the population is \", genomesize.std(ddof=1)/(np.sqrt(100))) #population"
   ]
  },
  {
   "cell_type": "markdown",
   "metadata": {},
   "source": [
    "In that case, as we increase the sample size the std gets smaller."
   ]
  },
  {
   "cell_type": "markdown",
   "metadata": {},
   "source": [
    "<b>When we increase the sample size the standard deviation of the sampling distribution decreases and we approach more the law of large numbers.\n",
    "    However, when we change only the number of samples, the parameters won't change: the std will remain the same. So, we only need to do enough samples but once we've done enough it won't change anymore.\n",
    "    \n",
    "    Comparing plots with different number of points is not useful!"
   ]
  },
  {
   "cell_type": "markdown",
   "metadata": {},
   "source": [
    "# Student t-test\n",
    "\n",
    "Going back to our dataset. The dependent variable is continous, the independent variable is categorical and we have 2\n",
    "groups. The appropiate statistical test is a t-test. However, given the dependent variable is not normally distributed,\n",
    "and the variances are not similar between the groups, we cannot use the Student t test directly. To do it we have\n",
    "transformed the data to fit it into a normal distribution. We applied the log10 transformation to our data.\n",
    "\n",
    "**HINT**: A function for performing t-test in Python is *stats.ttest_ind()*"
   ]
  },
  {
   "cell_type": "markdown",
   "metadata": {},
   "source": [
    "Null hypothesis: decapods and ispods have the same genome size\n",
    "Alternative hypothesis: Genome size is different"
   ]
  },
  {
   "cell_type": "code",
   "execution_count": 35,
   "metadata": {},
   "outputs": [],
   "source": [
    "stats.ttest_ind?"
   ]
  },
  {
   "cell_type": "code",
   "execution_count": 36,
   "metadata": {},
   "outputs": [
    {
     "data": {
      "text/plain": [
       "Ttest_indResult(statistic=3.430827411085974, pvalue=0.0011868462908959305)"
      ]
     },
     "execution_count": 36,
     "metadata": {},
     "output_type": "execute_result"
    }
   ],
   "source": [
    "stats.ttest_ind(dec.log10, iso.log10) #statistic is tstudent"
   ]
  },
  {
   "cell_type": "markdown",
   "metadata": {},
   "source": [
    "What does that mean?\n",
    "3.43 = Signal to noise ratio: \n",
    "p= if it was only noise, we could get a number similar to this one with a probability of a 0.11%"
   ]
  },
  {
   "cell_type": "code",
   "execution_count": 37,
   "metadata": {},
   "outputs": [
    {
     "name": "stdout",
     "output_type": "stream",
     "text": [
      "3.430827411085974\n"
     ]
    }
   ],
   "source": [
    "tvalue=stats.ttest_ind(dec.log10, iso.log10)[0]\n",
    "print(tvalue)"
   ]
  },
  {
   "cell_type": "markdown",
   "metadata": {},
   "source": [
    "Decapods amd isopods genome size is different with a confidence (alpha) of 99% assuming the sample is normally distributed and the sample is a good estimate of the population. COMMENT RESULT WHEN COMMENTING THE PRACTICAL"
   ]
  },
  {
   "cell_type": "markdown",
   "metadata": {},
   "source": [
    "True, but often we do not really care about the alpha value but only getting a very small p, which means that we can reject our hypothesis with high confidence."
   ]
  },
  {
   "cell_type": "markdown",
   "metadata": {},
   "source": [
    "# t-test simulation\n",
    "1\\. The p-value obtained in the t-test analysis is based on the theoretical t-distribution. However, we can also\n",
    "calculate the p-value by simulating the null hypothesis of the groups having the same mean genome size. Then,\n",
    "the p-value would be the probability of obtaining a t-value equal or higher than the one observed in our\n",
    "empirical data.\n",
    "\n",
    "\n",
    "Let’s create a random normal distribution with the mean and variance of the whole dataset."
   ]
  },
  {
   "cell_type": "code",
   "execution_count": 38,
   "metadata": {},
   "outputs": [
    {
     "name": "stdout",
     "output_type": "stream",
     "text": [
      "0.14768079007846735\n",
      "0.5976242406316196\n"
     ]
    }
   ],
   "source": [
    "print(df.log10.mean())\n",
    "print(df.log10.std())"
   ]
  },
  {
   "cell_type": "code",
   "execution_count": 39,
   "metadata": {},
   "outputs": [],
   "source": [
    "np.random.seed(1) #utilitzant les dades amb\n",
    "genomesize_datalog = np.random.normal(0.1476807, 0.5976242, 1000000) #creo un set de dades constants amb la mitjana i variança de les dades"
   ]
  },
  {
   "cell_type": "code",
   "execution_count": 40,
   "metadata": {},
   "outputs": [],
   "source": [
    "np.random.seed(1) #utilitzant les dades sense logaritmes\n",
    "genomesize_data = np.random.normal(2.755370, 2.867481, 1000000) #creo un set de dades constants amb la mitjana i variança de les dades"
   ]
  },
  {
   "cell_type": "markdown",
   "metadata": {},
   "source": [
    "2\\. Now we will start our sampling experiment, which will consist of drawing 10.000 times two samples of size 27\n",
    "each and calculate the t-value. The distribution of the t-values obtained is an empirical t-distribution. There are\n",
    "several ways of doing this calculation, for instance with a for loop."
   ]
  },
  {
   "cell_type": "code",
   "execution_count": 41,
   "metadata": {},
   "outputs": [],
   "source": [
    "def doSamplingT(dat, numSamples, sizeSamples):\n",
    "    # calculate and plot a sampling distribution of the mean\n",
    "    # parameters given are:\n",
    "        # dat = data to sample from (numeric vector),\n",
    "        # numSamples = number of times you want to sample (number)\n",
    "        # sizeSamples = size of the sample (number)\n",
    "    for i in range(numSamples):\n",
    "        # simple random sampling\n",
    "        get_sample1 = np.random.choice(dat, size = sizeSamples, replace = True)\n",
    "        get_sample2 = np.random.choice(dat, size = sizeSamples, replace = True)#replace=true fa que pugui agafar valors que ja hagi agafat abans\n",
    "        #random.choice, de les dades en tria sizesamples \n",
    "        #calculate mean and return it\n",
    "        yield stats.ttest_ind(get_sample1,get_sample2)[0] #aquest 0 fa que només s'agafi l'statistic (tvalue)\n"
   ]
  },
  {
   "cell_type": "code",
   "execution_count": 77,
   "metadata": {},
   "outputs": [
    {
     "name": "stdout",
     "output_type": "stream",
     "text": [
      "0.011416122277584689\n",
      "1.0177842170662617\n"
     ]
    },
    {
     "data": {
      "image/png": "[encoded data removed]",
      "text/plain": [
       "<Figure size 432x288 with 1 Axes>"
      ]
     },
     "metadata": {
      "needs_background": "light"
     },
     "output_type": "display_data"
    }
   ],
   "source": [
    "y=doSamplingT(genomesize_datalog, 10000, 27) \n",
    "ttest=np.fromiter(y, float)\n",
    "plt.hist(ttest)\n",
    "plt.plot(tvalue,0,'ro') #plots the tvalue in the plot.\n",
    "print(ttest.mean())\n",
    "print(ttest.std())"
   ]
  },
  {
   "cell_type": "markdown",
   "metadata": {},
   "source": [
    "3\\. Now calculate the p-value using the distribution of t-values obtained"
   ]
  },
  {
   "cell_type": "markdown",
   "metadata": {},
   "source": [
    "en quina probabilitat existeix aquesta t en l'altra distribució?"
   ]
  },
  {
   "cell_type": "code",
   "execution_count": 78,
   "metadata": {},
   "outputs": [
    {
     "data": {
      "text/plain": [
       "0.0018"
      ]
     },
     "execution_count": 78,
     "metadata": {},
     "output_type": "execute_result"
    }
   ],
   "source": [
    "signif = ttest[ttest >= tvalue]\n",
    "(len(signif) / 10000) *2\n",
    "\n"
   ]
  },
  {
   "cell_type": "markdown",
   "metadata": {},
   "source": [
    "This is the calculated p value. It's still lower than 0,025, so the data between decapods and isopods is different with a 95% of confidence."
   ]
  },
  {
   "cell_type": "markdown",
   "metadata": {},
   "source": [
    "If we want smaller p-values we should increase the number of iterations. It's a result of the number of samples we're taking. We're not gonna take a smaller p value than 1/numsamples."
   ]
  },
  {
   "cell_type": "markdown",
   "metadata": {},
   "source": [
    "# Randomization test\n",
    "\n",
    "You have to reproduce the same simulation but instead of using a sampling from a normal distribution with the same\n",
    "mean and variance, you will apply a randomization test. The randomization test gives us a way to measure the\n",
    "variability in the difference of two sample means. Our goal is to compare the observed difference between Decapods\n",
    "and Isopods to the expected difference due to chance.\n",
    "\n",
    "To perform a randomization test you have to take your initial dataset of 54 individuals and randomly divide the\n",
    "sample into two groups. There is a huge number of different possible ways to divide the 54 observations into two\n",
    "groups, each of size 27 (could you calculate the number?). We will do this resampling process only 10.000 times. For\n",
    "each time you resample, you will have to perform the t-test on the two samples and save the t-value in a vector (as you\n",
    "already did). The result will be a distribution of t-values to estimate the significance of your result.\n",
    "\n",
    "Do the experiment on both the raw data and the transformed one. Compare the results that you obtained in the\n",
    "previous section and give your opinion of the whole experiment."
   ]
  },
  {
   "cell_type": "code",
   "execution_count": 44,
   "metadata": {},
   "outputs": [],
   "source": [
    "def doSamplingT1(dat, numSamples, sizeSamples):\n",
    "    for i in range(numSamples):\n",
    "        g1 = np.random.choice(df.genome, size = 27)\n",
    "        g2 = [j for j in df.genome if j not in g1]\n",
    "        tval = stats.ttest_ind(g1,g2)[0]\n",
    "        yield(tval)\n",
    "\n"
   ]
  },
  {
   "cell_type": "code",
   "execution_count": 45,
   "metadata": {},
   "outputs": [],
   "source": [
    "z=doSamplingT1(df.genome, 10000, 27)\n",
    "ttest=np.fromiter(z,float)"
   ]
  },
  {
   "cell_type": "code",
   "execution_count": 46,
   "metadata": {},
   "outputs": [
    {
     "data": {
      "text/plain": [
       "0.004"
      ]
     },
     "execution_count": 46,
     "metadata": {},
     "output_type": "execute_result"
    }
   ],
   "source": [
    "signif = ttest[ttest >= tvalue]\n",
    "(len(signif) / 10000) *2"
   ]
  },
  {
   "cell_type": "markdown",
   "metadata": {},
   "source": [
    "This is the ttest results for the raw data, without log10. The obtained p value is greater than 0,025, so we couldn't conclude decapods and isopods have different genome sizes."
   ]
  },
  {
   "cell_type": "code",
   "execution_count": 47,
   "metadata": {},
   "outputs": [
    {
     "data": {
      "text/plain": [
       "0.003"
      ]
     },
     "execution_count": 47,
     "metadata": {},
     "output_type": "execute_result"
    }
   ],
   "source": [
    "def doSamplingTlog(dat, numSamples, sizeSamples):\n",
    "    for i in range(numSamples):\n",
    "        g1 = np.random.choice(df.log10, size = 27)\n",
    "        g2 = [j for j in df.log10 if j not in g1]\n",
    "        tval = stats.ttest_ind(g1,g2)[0]\n",
    "        yield(tval)\n",
    "z=doSamplingTlog(df.log10,10000,27)\n",
    "ttest=np.fromiter(z,float)\n",
    "signif = ttest[ttest >= tvalue]\n",
    "(len(signif) / 10000) *2"
   ]
  },
  {
   "cell_type": "markdown",
   "metadata": {},
   "source": [
    "Now the p value is smaller than 0,025, so, after applying log10 to the values of the sample we can conclude that the two groups of individuals (decapods and isopods) have different genome sizes."
   ]
  },
  {
   "cell_type": "markdown",
   "metadata": {},
   "source": [
    "In the randomization tests there are no assumptions: we don't need to know if the distribution is normal or not before doing. We're just counting how many values are higher than ours. "
   ]
  },
  {
   "cell_type": "markdown",
   "metadata": {},
   "source": [
    "This will be useful when we want to take some parameters from our sample but it does not follow a specific distribution."
   ]
  },
  {
   "cell_type": "markdown",
   "metadata": {},
   "source": [
    "# Exercise 1: Paired t-test. To be submited\n",
    "\n",
    "To investigate the effects of lighting conditions on the orb-spinning spider webs, researchers measured the\n",
    "horizontal (width) and vertical (height) dimensions of the webs made by 17 spiders under light and dim\n",
    "conditions. Accepting that the webs of individual spiders vary considerably, they employed a paired design in\n",
    "which each individual spider acts as its own control. A paired t-test performs a one sample t-test on the\n",
    "differences between dimensions under light and dim conditions.\n",
    "\n",
    "You can find the data in the spider_web.csv file. Note the format of this data set. Rather than organizing the\n",
    "data into the usual long format in which variables are represented in columns and rows represent individual\n",
    "replicates, these data have been organized in wide format. Wide format is often used for data containing\n",
    "repeated measures from individual or other sampling units. Even though this is not necessary (as paired\n",
    "t-tests can be performed on long format data), traditionally it did allow more compact data management as\n",
    "well as making it easier to calculate the differences between repeated measurements on each individual.\n",
    "\n",
    "Perform two separate paired t-tests to test the following null hypotheses:\n",
    "\n",
    "* No effect of lighting on web width\n",
    "* No effect of lighting on web height"
   ]
  },
  {
   "cell_type": "code",
   "execution_count": 4,
   "metadata": {
    "scrolled": false
   },
   "outputs": [
    {
     "data": {
      "text/html": [
       "<div>\n",
       "<style scoped>\n",
       "    .dataframe tbody tr th:only-of-type {\n",
       "        vertical-align: middle;\n",
       "    }\n",
       "\n",
       "    .dataframe tbody tr th {\n",
       "        vertical-align: top;\n",
       "    }\n",
       "\n",
       "    .dataframe thead th {\n",
       "        text-align: right;\n",
       "    }\n",
       "</style>\n",
       "<table border=\"1\" class=\"dataframe\">\n",
       "  <thead>\n",
       "    <tr style=\"text-align: right;\">\n",
       "      <th></th>\n",
       "      <th>PAIR</th>\n",
       "      <th>VERTDIM</th>\n",
       "      <th>HORIZDIM</th>\n",
       "      <th>VERTLIGH</th>\n",
       "      <th>HORIZLIG</th>\n",
       "    </tr>\n",
       "  </thead>\n",
       "  <tbody>\n",
       "    <tr>\n",
       "      <th>0</th>\n",
       "      <td>K</td>\n",
       "      <td>300</td>\n",
       "      <td>295</td>\n",
       "      <td>80</td>\n",
       "      <td>60</td>\n",
       "    </tr>\n",
       "    <tr>\n",
       "      <th>1</th>\n",
       "      <td>M</td>\n",
       "      <td>240</td>\n",
       "      <td>260</td>\n",
       "      <td>120</td>\n",
       "      <td>140</td>\n",
       "    </tr>\n",
       "    <tr>\n",
       "      <th>2</th>\n",
       "      <td>N</td>\n",
       "      <td>250</td>\n",
       "      <td>280</td>\n",
       "      <td>170</td>\n",
       "      <td>160</td>\n",
       "    </tr>\n",
       "    <tr>\n",
       "      <th>3</th>\n",
       "      <td>O</td>\n",
       "      <td>220</td>\n",
       "      <td>250</td>\n",
       "      <td>90</td>\n",
       "      <td>120</td>\n",
       "    </tr>\n",
       "    <tr>\n",
       "      <th>4</th>\n",
       "      <td>P</td>\n",
       "      <td>160</td>\n",
       "      <td>160</td>\n",
       "      <td>150</td>\n",
       "      <td>180</td>\n",
       "    </tr>\n",
       "  </tbody>\n",
       "</table>\n",
       "</div>"
      ],
      "text/plain": [
       "  PAIR  VERTDIM  HORIZDIM  VERTLIGH  HORIZLIG\n",
       "0    K      300       295        80        60\n",
       "1    M      240       260       120       140\n",
       "2    N      250       280       170       160\n",
       "3    O      220       250        90       120\n",
       "4    P      160       160       150       180"
      ]
     },
     "execution_count": 4,
     "metadata": {},
     "output_type": "execute_result"
    }
   ],
   "source": [
    "sw=pd.read_csv('spider_web.txt', sep=\" \")\n",
    "sw.head()"
   ]
  },
  {
   "cell_type": "code",
   "execution_count": 9,
   "metadata": {},
   "outputs": [
    {
     "data": {
      "text/html": [
       "<div>\n",
       "<style scoped>\n",
       "    .dataframe tbody tr th:only-of-type {\n",
       "        vertical-align: middle;\n",
       "    }\n",
       "\n",
       "    .dataframe tbody tr th {\n",
       "        vertical-align: top;\n",
       "    }\n",
       "\n",
       "    .dataframe thead th {\n",
       "        text-align: right;\n",
       "    }\n",
       "</style>\n",
       "<table border=\"1\" class=\"dataframe\">\n",
       "  <thead>\n",
       "    <tr style=\"text-align: right;\">\n",
       "      <th></th>\n",
       "      <th>PAIR</th>\n",
       "      <th>VERTDIM</th>\n",
       "      <th>HORIZDIM</th>\n",
       "      <th>VERTLIGH</th>\n",
       "      <th>HORIZLIG</th>\n",
       "      <th>HDiff</th>\n",
       "      <th>VDiff</th>\n",
       "    </tr>\n",
       "  </thead>\n",
       "  <tbody>\n",
       "    <tr>\n",
       "      <th>0</th>\n",
       "      <td>K</td>\n",
       "      <td>300</td>\n",
       "      <td>295</td>\n",
       "      <td>80</td>\n",
       "      <td>60</td>\n",
       "      <td>235</td>\n",
       "      <td>220</td>\n",
       "    </tr>\n",
       "    <tr>\n",
       "      <th>1</th>\n",
       "      <td>M</td>\n",
       "      <td>240</td>\n",
       "      <td>260</td>\n",
       "      <td>120</td>\n",
       "      <td>140</td>\n",
       "      <td>120</td>\n",
       "      <td>120</td>\n",
       "    </tr>\n",
       "    <tr>\n",
       "      <th>2</th>\n",
       "      <td>N</td>\n",
       "      <td>250</td>\n",
       "      <td>280</td>\n",
       "      <td>170</td>\n",
       "      <td>160</td>\n",
       "      <td>120</td>\n",
       "      <td>80</td>\n",
       "    </tr>\n",
       "    <tr>\n",
       "      <th>3</th>\n",
       "      <td>O</td>\n",
       "      <td>220</td>\n",
       "      <td>250</td>\n",
       "      <td>90</td>\n",
       "      <td>120</td>\n",
       "      <td>130</td>\n",
       "      <td>130</td>\n",
       "    </tr>\n",
       "    <tr>\n",
       "      <th>4</th>\n",
       "      <td>P</td>\n",
       "      <td>160</td>\n",
       "      <td>160</td>\n",
       "      <td>150</td>\n",
       "      <td>180</td>\n",
       "      <td>-20</td>\n",
       "      <td>10</td>\n",
       "    </tr>\n",
       "  </tbody>\n",
       "</table>\n",
       "</div>"
      ],
      "text/plain": [
       "  PAIR  VERTDIM  HORIZDIM  VERTLIGH  HORIZLIG  HDiff  VDiff\n",
       "0    K      300       295        80        60    235    220\n",
       "1    M      240       260       120       140    120    120\n",
       "2    N      250       280       170       160    120     80\n",
       "3    O      220       250        90       120    130    130\n",
       "4    P      160       160       150       180    -20     10"
      ]
     },
     "execution_count": 9,
     "metadata": {},
     "output_type": "execute_result"
    }
   ],
   "source": [
    "x=sw[:5]\n",
    "x"
   ]
  },
  {
   "cell_type": "code",
   "execution_count": 10,
   "metadata": {},
   "outputs": [
    {
     "data": {
      "text/plain": [
       "Ttest_indResult(statistic=3.7374279052496484, pvalue=0.005726431770229171)"
      ]
     },
     "execution_count": 10,
     "metadata": {},
     "output_type": "execute_result"
    }
   ],
   "source": [
    "stats.ttest_ind(x.HORIZDIM, x.HORIZLIG)"
   ]
  },
  {
   "cell_type": "code",
   "execution_count": 5,
   "metadata": {
    "scrolled": false
   },
   "outputs": [
    {
     "name": "stdout",
     "output_type": "stream",
     "text": [
      "Ttest_indResult(statistic=0.8887858861631696, pvalue=0.38075080527784877)\n"
     ]
    }
   ],
   "source": [
    "x=stats.ttest_ind(sw.VERTDIM,sw.VERTLIGH)\n",
    "if x[1] < 0.05:\n",
    "    print(\"There is a significant difference on spider web height under light\")\n",
    "else: print(x)"
   ]
  },
  {
   "cell_type": "code",
   "execution_count": 6,
   "metadata": {},
   "outputs": [
    {
     "name": "stdout",
     "output_type": "stream",
     "text": [
      "There is a significant difference on spider web height under light\n"
     ]
    }
   ],
   "source": [
    "x=stats.ttest_ind(sw.HORIZDIM,sw.HORIZLIG)\n",
    "if x[1] < 0.05:\n",
    "    print(\"There is a significant difference on spider web height under light\")\n",
    "else: print(x)"
   ]
  },
  {
   "cell_type": "code",
   "execution_count": 16,
   "metadata": {},
   "outputs": [
    {
     "data": {
      "text/plain": [
       "Ttest_indResult(statistic=2.1405166251313874, pvalue=0.04003367486004684)"
      ]
     },
     "execution_count": 16,
     "metadata": {},
     "output_type": "execute_result"
    }
   ],
   "source": [
    "stats.ttest_ind(sw.HORIZDIM,sw.HORIZLIG)"
   ]
  },
  {
   "cell_type": "markdown",
   "metadata": {},
   "source": [
    "What's below is not needed, because we don't need to compare if Hdiff is different than Vdiff, but only if there's a difference between lighting or not lighting."
   ]
  },
  {
   "cell_type": "code",
   "execution_count": 7,
   "metadata": {},
   "outputs": [
    {
     "data": {
      "text/html": [
       "<div>\n",
       "<style scoped>\n",
       "    .dataframe tbody tr th:only-of-type {\n",
       "        vertical-align: middle;\n",
       "    }\n",
       "\n",
       "    .dataframe tbody tr th {\n",
       "        vertical-align: top;\n",
       "    }\n",
       "\n",
       "    .dataframe thead th {\n",
       "        text-align: right;\n",
       "    }\n",
       "</style>\n",
       "<table border=\"1\" class=\"dataframe\">\n",
       "  <thead>\n",
       "    <tr style=\"text-align: right;\">\n",
       "      <th></th>\n",
       "      <th>PAIR</th>\n",
       "      <th>VERTDIM</th>\n",
       "      <th>HORIZDIM</th>\n",
       "      <th>VERTLIGH</th>\n",
       "      <th>HORIZLIG</th>\n",
       "      <th>HDiff</th>\n",
       "      <th>VDiff</th>\n",
       "    </tr>\n",
       "  </thead>\n",
       "  <tbody>\n",
       "    <tr>\n",
       "      <th>0</th>\n",
       "      <td>K</td>\n",
       "      <td>300</td>\n",
       "      <td>295</td>\n",
       "      <td>80</td>\n",
       "      <td>60</td>\n",
       "      <td>235</td>\n",
       "      <td>220</td>\n",
       "    </tr>\n",
       "    <tr>\n",
       "      <th>1</th>\n",
       "      <td>M</td>\n",
       "      <td>240</td>\n",
       "      <td>260</td>\n",
       "      <td>120</td>\n",
       "      <td>140</td>\n",
       "      <td>120</td>\n",
       "      <td>120</td>\n",
       "    </tr>\n",
       "    <tr>\n",
       "      <th>2</th>\n",
       "      <td>N</td>\n",
       "      <td>250</td>\n",
       "      <td>280</td>\n",
       "      <td>170</td>\n",
       "      <td>160</td>\n",
       "      <td>120</td>\n",
       "      <td>80</td>\n",
       "    </tr>\n",
       "    <tr>\n",
       "      <th>3</th>\n",
       "      <td>O</td>\n",
       "      <td>220</td>\n",
       "      <td>250</td>\n",
       "      <td>90</td>\n",
       "      <td>120</td>\n",
       "      <td>130</td>\n",
       "      <td>130</td>\n",
       "    </tr>\n",
       "    <tr>\n",
       "      <th>4</th>\n",
       "      <td>P</td>\n",
       "      <td>160</td>\n",
       "      <td>160</td>\n",
       "      <td>150</td>\n",
       "      <td>180</td>\n",
       "      <td>-20</td>\n",
       "      <td>10</td>\n",
       "    </tr>\n",
       "    <tr>\n",
       "      <th>5</th>\n",
       "      <td>R</td>\n",
       "      <td>170</td>\n",
       "      <td>150</td>\n",
       "      <td>110</td>\n",
       "      <td>90</td>\n",
       "      <td>60</td>\n",
       "      <td>60</td>\n",
       "    </tr>\n",
       "    <tr>\n",
       "      <th>6</th>\n",
       "      <td>S</td>\n",
       "      <td>300</td>\n",
       "      <td>290</td>\n",
       "      <td>260</td>\n",
       "      <td>120</td>\n",
       "      <td>170</td>\n",
       "      <td>40</td>\n",
       "    </tr>\n",
       "    <tr>\n",
       "      <th>7</th>\n",
       "      <td>A</td>\n",
       "      <td>180</td>\n",
       "      <td>120</td>\n",
       "      <td>240</td>\n",
       "      <td>220</td>\n",
       "      <td>-100</td>\n",
       "      <td>-60</td>\n",
       "    </tr>\n",
       "    <tr>\n",
       "      <th>8</th>\n",
       "      <td>B</td>\n",
       "      <td>200</td>\n",
       "      <td>210</td>\n",
       "      <td>190</td>\n",
       "      <td>210</td>\n",
       "      <td>0</td>\n",
       "      <td>10</td>\n",
       "    </tr>\n",
       "    <tr>\n",
       "      <th>9</th>\n",
       "      <td>D+</td>\n",
       "      <td>80</td>\n",
       "      <td>120</td>\n",
       "      <td>120</td>\n",
       "      <td>150</td>\n",
       "      <td>-30</td>\n",
       "      <td>-40</td>\n",
       "    </tr>\n",
       "  </tbody>\n",
       "</table>\n",
       "</div>"
      ],
      "text/plain": [
       "  PAIR  VERTDIM  HORIZDIM  VERTLIGH  HORIZLIG  HDiff  VDiff\n",
       "0    K      300       295        80        60    235    220\n",
       "1    M      240       260       120       140    120    120\n",
       "2    N      250       280       170       160    120     80\n",
       "3    O      220       250        90       120    130    130\n",
       "4    P      160       160       150       180    -20     10\n",
       "5    R      170       150       110        90     60     60\n",
       "6    S      300       290       260       120    170     40\n",
       "7    A      180       120       240       220   -100    -60\n",
       "8    B      200       210       190       210      0     10\n",
       "9   D+       80       120       120       150    -30    -40"
      ]
     },
     "execution_count": 7,
     "metadata": {},
     "output_type": "execute_result"
    }
   ],
   "source": [
    "sw[\"HDiff\"]=sw.HORIZDIM-sw.HORIZLIG\n",
    "sw[\"VDiff\"]=sw.VERTDIM-sw.VERTLIGH\n",
    "sw[:10]\n",
    "#We want to perform a paried T-test, so we calculate the difference on horizontal and vertical lenght with dim light or bright light. "
   ]
  },
  {
   "cell_type": "code",
   "execution_count": 52,
   "metadata": {},
   "outputs": [
    {
     "name": "stdout",
     "output_type": "stream",
     "text": [
      "2.148217249443686\n"
     ]
    }
   ],
   "source": [
    "thorizontal=sw.HDiff.mean()/(sw.HDiff.std()/np.sqrt(17))\n",
    "print(thorizontal)"
   ]
  },
  {
   "cell_type": "code",
   "execution_count": 53,
   "metadata": {},
   "outputs": [
    {
     "name": "stdout",
     "output_type": "stream",
     "text": [
      "0.9654483652369754\n"
     ]
    }
   ],
   "source": [
    "tvertical=sw.VDiff.mean()/(sw.VDiff.std()/np.sqrt(17))\n",
    "print(tvertical)"
   ]
  },
  {
   "cell_type": "code",
   "execution_count": 54,
   "metadata": {},
   "outputs": [
    {
     "data": {
      "text/plain": [
       "Ttest_indResult(statistic=0.8450884627911325, pvalue=0.40433597830398493)"
      ]
     },
     "execution_count": 54,
     "metadata": {},
     "output_type": "execute_result"
    }
   ],
   "source": [
    "stats.ttest_ind(sw.HDiff,sw.VDiff)"
   ]
  },
  {
   "cell_type": "markdown",
   "metadata": {},
   "source": [
    "The p value is not smaller than 0.025, therefore, we can't conclude that the horizontal and vertical lenght of a spider net vary in a different way when applying light to spider nets."
   ]
  },
  {
   "cell_type": "markdown",
   "metadata": {},
   "source": [
    "# Exercise 2: Sampling from a binomial distribution\n",
    "\n",
    "Now, we will answer the same questions but sampling from a binomial distribution. The binomial distribution arises\n",
    "whenever we perform a series of independent trials each of which can result in either success or failure.\n",
    "\n",
    "1\\. Sample from binomial distribution a thousand samples of sample size = 100 and plot the sampling distribution\n",
    "of the mean.\n",
    "\n",
    "2\\. Calculate the mean of the population and the sampling distribution of the mean. Are they the similar?\n",
    "\n",
    "3\\. Calculate the standard deviation of both distributions. Check if the CLT really estimates the sample standard\n",
    "deviation.\n",
    "\n",
    "4\\. What happens when you change the number of times that you sample? Try sampling 10 times, 100 times, and so\n",
    "on\n",
    "\n",
    "5\\. What happens when we increase the size of the sample that we take? Try sampling 3 values, 10, 50, 100, and so\n",
    "on.\n"
   ]
  },
  {
   "cell_type": "code",
   "execution_count": 55,
   "metadata": {},
   "outputs": [
    {
     "data": {
      "text/plain": [
       "Text(0.5, 1.0, 'Binomial distribution, n=20 p=0,4')"
      ]
     },
     "execution_count": 55,
     "metadata": {},
     "output_type": "execute_result"
    },
    {
     "data": {
      "image/png": "[encoded data removed]",
      "text/plain": [
       "<Figure size 432x288 with 1 Axes>"
      ]
     },
     "metadata": {
      "needs_background": "light"
     },
     "output_type": "display_data"
    }
   ],
   "source": [
    "#we first generate a binomial distribution\n",
    "binomial=np.random.binomial(20,0.4,100000)\n",
    "plt.hist(binomial)\n",
    "plt.title(\"Binomial distribution, n=20 p=0,4\")"
   ]
  },
  {
   "cell_type": "code",
   "execution_count": 56,
   "metadata": {
    "scrolled": true
   },
   "outputs": [
    {
     "name": "stdout",
     "output_type": "stream",
     "text": [
      "The mean of the distribution is  7.9966\n",
      "The mean of the sampling distribution of the mean is  8.00155\n",
      "The std of the distribution is  2.192593997985035\n",
      "The std of the sampling distribution of the mean is  0.22138901847201004\n",
      "The std of the sampling distribution corresponds to what we would expect, and it is the std of the uniform distribution / sqrt(number of samples)\n",
      "The means difference is smaller than 0.01\n"
     ]
    },
    {
     "data": {
      "image/png": "[encoded data removed]",
      "text/plain": [
       "<Figure size 432x288 with 1 Axes>"
      ]
     },
     "metadata": {
      "needs_background": "light"
     },
     "output_type": "display_data"
    }
   ],
   "source": [
    "nsamples=1000\n",
    "sizesamples=100\n",
    "x=doSampling(binomial, nsamples, sizesamples) \n",
    "samplingdist=np.fromiter(x, float)\n",
    "plt.hist(samplingdist)\n",
    "print(\"The mean of the distribution is \", binomial.mean() )\n",
    "print(\"The mean of the sampling distribution of the mean is \", samplingdist.mean() )\n",
    "print(\"The std of the distribution is \", binomial.std() )\n",
    "print(\"The std of the sampling distribution of the mean is \", samplingdist.std() )\n",
    "if binomial.std()/np.sqrt(100) - samplingdist.std() <0.01:\n",
    "    print(\"The std of the sampling distribution corresponds to what we would expect, and it is the std of the uniform distribution / sqrt(number of samples)\")\n",
    "else:\n",
    "    print(\"The sampling distribution std does not correspond to what we expect\")\n",
    "\n",
    "if abs(binomial.mean()-samplingdist.mean()) < 0.001:\n",
    "     print(\"The means difference is smaller than 0.001\")\n",
    "elif abs(binomial.mean()-samplingdist.mean()) < 0.01:\n",
    "    print(\"The means difference is smaller than 0.01\")"
   ]
  },
  {
   "cell_type": "code",
   "execution_count": 57,
   "metadata": {},
   "outputs": [
    {
     "name": "stdout",
     "output_type": "stream",
     "text": [
      "The mean of the distribution is  7.9966\n",
      "The mean of the sampling distribution of the mean is  8.078\n",
      "The std of the distribution is  2.192593997985035\n",
      "The std of the sampling distribution of the mean is  0.22301569451498235\n",
      "The std of the sampling distribution corresponds to what we would expect, and it is the std of the uniform distribution / sqrt(number of samples)\n"
     ]
    },
    {
     "data": {
      "image/png": "[encoded data removed]",
      "text/plain": [
       "<Figure size 432x288 with 1 Axes>"
      ]
     },
     "metadata": {
      "needs_background": "light"
     },
     "output_type": "display_data"
    }
   ],
   "source": [
    "nsamples=10\n",
    "sizesamples=100\n",
    "x=doSampling(binomial, nsamples, sizesamples) \n",
    "samplingdist=np.fromiter(x, float)\n",
    "plt.hist(samplingdist)\n",
    "print(\"The mean of the distribution is \", binomial.mean() )\n",
    "print(\"The mean of the sampling distribution of the mean is \", samplingdist.mean() )\n",
    "print(\"The std of the distribution is \", binomial.std() )\n",
    "print(\"The std of the sampling distribution of the mean is \", samplingdist.std() )\n",
    "if binomial.std()/np.sqrt(100) - samplingdist.std() <0.01:\n",
    "    print(\"The std of the sampling distribution corresponds to what we would expect, and it is the std of the uniform distribution / sqrt(number of samples)\")\n",
    "else:\n",
    "    print(\"The sampling distribution std does not correspond to what we expect\")\n",
    "\n",
    "if abs(binomial.mean()-samplingdist.mean()) < 0.001:\n",
    "     print(\"The means difference is smaller than 0.001\")\n",
    "elif abs(binomial.mean()-samplingdist.mean()) < 0.01:\n",
    "    print(\"The means difference is smaller than 0.01\")"
   ]
  },
  {
   "cell_type": "markdown",
   "metadata": {},
   "source": [
    "with this very few amount of samples, the mean is very different and the sampling distribution is not normal"
   ]
  },
  {
   "cell_type": "code",
   "execution_count": 58,
   "metadata": {},
   "outputs": [
    {
     "name": "stdout",
     "output_type": "stream",
     "text": [
      "The mean of the distribution is  7.9966\n",
      "The mean of the sampling distribution of the mean is  7.978300000000001\n",
      "The std of the distribution is  2.192593997985035\n",
      "The std of the sampling distribution of the mean is  0.23512998532726526\n",
      "The std of the sampling distribution corresponds to what we would expect, and it is the std of the uniform distribution / sqrt(number of samples)\n"
     ]
    },
    {
     "data": {
      "image/png": "[encoded data removed]",
      "text/plain": [
       "<Figure size 432x288 with 1 Axes>"
      ]
     },
     "metadata": {
      "needs_background": "light"
     },
     "output_type": "display_data"
    }
   ],
   "source": [
    "nsamples=100\n",
    "sizesamples=100\n",
    "x=doSampling(binomial, nsamples, sizesamples) \n",
    "samplingdist=np.fromiter(x, float)\n",
    "plt.hist(samplingdist)\n",
    "print(\"The mean of the distribution is \", binomial.mean() )\n",
    "print(\"The mean of the sampling distribution of the mean is \", samplingdist.mean() )\n",
    "print(\"The std of the distribution is \", binomial.std() )\n",
    "print(\"The std of the sampling distribution of the mean is \", samplingdist.std() )\n",
    "if binomial.std()/np.sqrt(100) - samplingdist.std() <0.01:\n",
    "    print(\"The std of the sampling distribution corresponds to what we would expect, and it is the std of the uniform distribution / sqrt(number of samples)\")\n",
    "else:\n",
    "    print(\"The sampling distribution std does not correspond to what we expect\")\n",
    "\n",
    "if abs(binomial.mean()-samplingdist.mean()) < 0.001:\n",
    "     print(\"The means difference is smaller than 0.001\")\n",
    "elif abs(binomial.mean()-samplingdist.mean()) < 0.01:\n",
    "    print(\"The means difference is smaller than 0.01\")"
   ]
  },
  {
   "cell_type": "code",
   "execution_count": 59,
   "metadata": {},
   "outputs": [
    {
     "name": "stdout",
     "output_type": "stream",
     "text": [
      "The mean of the distribution is  7.9966\n",
      "The mean of the sampling distribution of the mean is  7.9977350000000005\n",
      "The std of the distribution is  2.192593997985035\n",
      "The std of the sampling distribution of the mean is  0.22068842238549805\n",
      "The std of the sampling distribution corresponds to what we would expect, and it is the std of the uniform distribution / sqrt(number of samples)\n",
      "The means difference is smaller than 0.01\n"
     ]
    },
    {
     "data": {
      "image/png": "[encoded data removed]",
      "text/plain": [
       "<Figure size 432x288 with 1 Axes>"
      ]
     },
     "metadata": {
      "needs_background": "light"
     },
     "output_type": "display_data"
    }
   ],
   "source": [
    "nsamples=10000\n",
    "sizesamples=100\n",
    "x=doSampling(binomial, nsamples, sizesamples) \n",
    "samplingdist=np.fromiter(x, float)\n",
    "plt.hist(samplingdist)\n",
    "print(\"The mean of the distribution is \", binomial.mean() )\n",
    "print(\"The mean of the sampling distribution of the mean is \", samplingdist.mean() )\n",
    "print(\"The std of the distribution is \", binomial.std() )\n",
    "print(\"The std of the sampling distribution of the mean is \", samplingdist.std() )\n",
    "if binomial.std()/np.sqrt(100) - samplingdist.std() <0.01:\n",
    "    print(\"The std of the sampling distribution corresponds to what we would expect, and it is the std of the uniform distribution / sqrt(number of samples)\")\n",
    "else:\n",
    "    print(\"The sampling distribution std does not correspond to what we expect\")\n",
    "\n",
    "if abs(binomial.mean()-samplingdist.mean()) < 0.001:\n",
    "     print(\"The means difference is smaller than 0.001\")\n",
    "elif abs(binomial.mean()-samplingdist.mean()) < 0.01:\n",
    "    print(\"The means difference is smaller than 0.01\")"
   ]
  },
  {
   "cell_type": "markdown",
   "metadata": {},
   "source": [
    "As we increase the number of samples we get a normal distribution."
   ]
  },
  {
   "cell_type": "code",
   "execution_count": 60,
   "metadata": {},
   "outputs": [
    {
     "name": "stdout",
     "output_type": "stream",
     "text": [
      "The mean of the distribution is  7.9966\n",
      "The mean of the sampling distribution of the mean is  8.016\n",
      "The std of the distribution is  2.192593997985035\n",
      "The std of the sampling distribution of the mean is  1.2699823270861335\n",
      "The std of the sampling distribution corresponds to what we would expect, and it is the std of the uniform distribution / sqrt(number of samples)\n"
     ]
    },
    {
     "data": {
      "image/png": "[encoded data removed]",
      "text/plain": [
       "<Figure size 432x288 with 1 Axes>"
      ]
     },
     "metadata": {
      "needs_background": "light"
     },
     "output_type": "display_data"
    }
   ],
   "source": [
    "nsamples=1000\n",
    "sizesamples=3\n",
    "x=doSampling(binomial, nsamples, sizesamples) \n",
    "samplingdist=np.fromiter(x, float)\n",
    "plt.hist(samplingdist)\n",
    "print(\"The mean of the distribution is \", binomial.mean() )\n",
    "print(\"The mean of the sampling distribution of the mean is \", samplingdist.mean() )\n",
    "print(\"The std of the distribution is \", binomial.std() )\n",
    "print(\"The std of the sampling distribution of the mean is \", samplingdist.std() )\n",
    "if binomial.std()/np.sqrt(sizesamples) - samplingdist.std() <0.01:\n",
    "    print(\"The std of the sampling distribution corresponds to what we would expect, and it is the std of the uniform distribution / sqrt(number of samples)\")\n",
    "else:\n",
    "    print(\"The sampling distribution std does not correspond to what we expect\")\n",
    "\n",
    "if abs(binomial.mean()-samplingdist.mean()) < 0.001:\n",
    "     print(\"The means difference is smaller than 0.001\")\n",
    "elif abs(binomial.mean()-samplingdist.mean()) < 0.01:\n",
    "    print(\"The means difference is smaller than 0.01\")"
   ]
  },
  {
   "cell_type": "code",
   "execution_count": 61,
   "metadata": {},
   "outputs": [
    {
     "name": "stdout",
     "output_type": "stream",
     "text": [
      "The mean of the distribution is  7.9966\n",
      "The mean of the sampling distribution of the mean is  7.9933000000000005\n",
      "The std of the distribution is  2.192593997985035\n",
      "The std of the sampling distribution of the mean is  0.6840358981807898\n",
      "The std of the sampling distribution corresponds to what we would expect, and it is the std of the uniform distribution / sqrt(number of samples)\n",
      "The means difference is smaller than 0.01\n"
     ]
    },
    {
     "data": {
      "image/png": "[encoded data removed]",
      "text/plain": [
       "<Figure size 432x288 with 1 Axes>"
      ]
     },
     "metadata": {
      "needs_background": "light"
     },
     "output_type": "display_data"
    }
   ],
   "source": [
    "nsamples=1000\n",
    "sizesamples=10\n",
    "x=doSampling(binomial, nsamples, sizesamples) \n",
    "samplingdist=np.fromiter(x, float)\n",
    "plt.hist(samplingdist)\n",
    "print(\"The mean of the distribution is \", binomial.mean() )\n",
    "print(\"The mean of the sampling distribution of the mean is \", samplingdist.mean() )\n",
    "print(\"The std of the distribution is \", binomial.std() )\n",
    "print(\"The std of the sampling distribution of the mean is \", samplingdist.std() )\n",
    "if binomial.std()/np.sqrt(sizesamples) - samplingdist.std() <0.01:\n",
    "    print(\"The std of the sampling distribution corresponds to what we would expect, and it is the std of the uniform distribution / sqrt(number of samples)\")\n",
    "else:\n",
    "    print(\"The sampling distribution std does not correspond to what we expect\")\n",
    "\n",
    "if abs(binomial.mean()-samplingdist.mean()) < 0.001:\n",
    "     print(\"The means difference is smaller than 0.001\")\n",
    "elif abs(binomial.mean()-samplingdist.mean()) < 0.01:\n",
    "    print(\"The means difference is smaller than 0.01\")"
   ]
  },
  {
   "cell_type": "code",
   "execution_count": 62,
   "metadata": {},
   "outputs": [
    {
     "name": "stdout",
     "output_type": "stream",
     "text": [
      "The mean of the distribution is  7.9966\n",
      "The mean of the sampling distribution of the mean is  7.995001\n",
      "The std of the distribution is  2.192593997985035\n",
      "The std of the sampling distribution of the mean is  0.06842478351445477\n",
      "The std of the sampling distribution corresponds to what we would expect, and it is the std of the uniform distribution / sqrt(number of samples)\n",
      "The means difference is smaller than 0.01\n"
     ]
    },
    {
     "data": {
      "image/png": "[encoded data removed]",
      "text/plain": [
       "<Figure size 432x288 with 1 Axes>"
      ]
     },
     "metadata": {
      "needs_background": "light"
     },
     "output_type": "display_data"
    }
   ],
   "source": [
    "nsamples=1000\n",
    "sizesamples=1000\n",
    "x=doSampling(binomial, nsamples, sizesamples) \n",
    "samplingdist=np.fromiter(x, float)\n",
    "plt.hist(samplingdist)\n",
    "print(\"The mean of the distribution is \", binomial.mean() )\n",
    "print(\"The mean of the sampling distribution of the mean is \", samplingdist.mean() )\n",
    "print(\"The std of the distribution is \", binomial.std() )\n",
    "print(\"The std of the sampling distribution of the mean is \", samplingdist.std() )\n",
    "if binomial.std()/np.sqrt(sizesamples) - samplingdist.std() <0.01:\n",
    "    print(\"The std of the sampling distribution corresponds to what we would expect, and it is the std of the uniform distribution / sqrt(number of samples)\")\n",
    "else:\n",
    "    print(\"The sampling distribution std does not correspond to what we expect\")\n",
    "\n",
    "if abs(binomial.mean()-samplingdist.mean()) < 0.001:\n",
    "     print(\"The means difference is smaller than 0.001\")\n",
    "elif abs(binomial.mean()-samplingdist.mean()) < 0.01:\n",
    "    print(\"The means difference is smaller than 0.01\")"
   ]
  },
  {
   "cell_type": "markdown",
   "metadata": {},
   "source": [
    "As we get more data the distribution approaches to a normal distribution. In the case of increasing the sample size, the standard deviation of the sampling distribution decreases."
   ]
  },
  {
   "cell_type": "markdown",
   "metadata": {},
   "source": [
    "\n",
    "# Exercise 3: Sampling from an uniform distribution\n",
    "\n",
    "Finally, we will do the same using an uniform distribution. For instance, let’s generate an uniform distribution of\n",
    "numbers 0 to 9.\n",
    "\n",
    "1\\. Sample from uniform distribution a thousand samples of sample size = 100 and plot the sampling distribution of\n",
    "the mean.\n",
    "\n",
    "2\\. Calculate the mean of the population and the sampling distribution of the mean. Are they the similar?\n",
    "\n",
    "3\\. Calculate the standard deviation of both distributions. Check if the CLT really estimates the sample standard\n",
    "deviation.\n",
    "\n",
    "4\\. What happens when you change the number of times that you sample? Try sampling 10 times, 100 times, and so on.\n",
    "\n",
    "5\\. What happens when we increase the size of the sample that we take? Try sampling 3 values, 10, 50, 100, and so\n",
    "on.\n"
   ]
  },
  {
   "cell_type": "code",
   "execution_count": 63,
   "metadata": {},
   "outputs": [
    {
     "data": {
      "text/plain": [
       "Text(0.5, 1.0, 'uniform distribution')"
      ]
     },
     "execution_count": 63,
     "metadata": {},
     "output_type": "execute_result"
    },
    {
     "data": {
      "image/png": "[encoded data removed]",
      "text/plain": [
       "<Figure size 432x288 with 1 Axes>"
      ]
     },
     "metadata": {
      "needs_background": "light"
     },
     "output_type": "display_data"
    }
   ],
   "source": [
    "np.random.seed(3)\n",
    "uniform=np.random.randint(0,10, size=1000000)\n",
    "plt.hist(uniform)\n",
    "plt.title(\"uniform distribution\")\n"
   ]
  },
  {
   "cell_type": "code",
   "execution_count": 64,
   "metadata": {},
   "outputs": [
    {
     "name": "stdout",
     "output_type": "stream",
     "text": [
      "The mean of the distribution is  4.499665\n",
      "The mean of the sampling distribution of the mean is  4.49607\n",
      "The std of the distribution is  2.871053445649349\n",
      "The std of the sampling distribution of the mean is  0.2862475416488323\n",
      "The std of the sampling distribution corresponds to what we would expect, and it is the std of the uniform distribution / sqrt(number of samples)\n",
      "The means difference is smaller than 0.01\n"
     ]
    },
    {
     "data": {
      "image/png": "[encoded data removed]",
      "text/plain": [
       "<Figure size 432x288 with 1 Axes>"
      ]
     },
     "metadata": {
      "needs_background": "light"
     },
     "output_type": "display_data"
    }
   ],
   "source": [
    "x=doSampling(uniform, 1000, 100) \n",
    "samplingdist=np.fromiter(x, float)\n",
    "plt.hist(samplingdist)\n",
    "plt.title('Sampling distribution of the mean of an uniform distribution when taking 1000 samples of 100 individuals each')\n",
    "plt.ylabel(\"value\")\n",
    "print(\"The mean of the distribution is \", uniform.mean() )\n",
    "print(\"The mean of the sampling distribution of the mean is \", samplingdist.mean() )\n",
    "print(\"The std of the distribution is \", uniform.std() )\n",
    "print(\"The std of the sampling distribution of the mean is \", samplingdist.std() )\n",
    "if uniform.std()/np.sqrt(100) - samplingdist.std() <0.01:\n",
    "    print(\"The std of the sampling distribution corresponds to what we would expect, and it is the std of the uniform distribution / sqrt(number of samples)\")\n",
    "else:\n",
    "    print(\"The sampling distribution std does not correspond to what we expect\")\n",
    "\n",
    "if abs(uniform.mean()-samplingdist.mean()) < 0.001:\n",
    "     print(\"The means difference is smaller than 0.001\")\n",
    "elif abs(uniform.mean()-samplingdist.mean()) < 0.01:\n",
    "    print(\"The means difference is smaller than 0.01\")\n"
   ]
  },
  {
   "cell_type": "markdown",
   "metadata": {},
   "source": [
    "The mean of the uniform distribution and the sampling distribution of the mean is the same.\n",
    "\n",
    "Now, we sample different times"
   ]
  },
  {
   "cell_type": "code",
   "execution_count": 65,
   "metadata": {},
   "outputs": [
    {
     "name": "stdout",
     "output_type": "stream",
     "text": [
      "The mean of the distribution is  4.499665\n",
      "The mean of the sampling distribution of the mean is  4.5520000000000005\n",
      "The std of the distribution is  2.871053445649349\n",
      "The std of the sampling distribution of the mean is  0.34818960352084044\n",
      "The std of the sampling distribution corresponds to what we would expect, and it is the std of the uniform distribution / sqrt(number of samples)\n",
      "The means are not too close\n"
     ]
    },
    {
     "data": {
      "image/png": "[encoded data removed]",
      "text/plain": [
       "<Figure size 432x288 with 1 Axes>"
      ]
     },
     "metadata": {
      "needs_background": "light"
     },
     "output_type": "display_data"
    }
   ],
   "source": [
    "#we sample 10 times\n",
    "\n",
    "x=doSampling(uniform, 10, 100) \n",
    "samplingdist=np.fromiter(x, float)\n",
    "plt.hist(samplingdist)\n",
    "plt.title('Sampling distribution of the mean of an uniform distribution when taking 10 samples of 100 individuals each')\n",
    "plt.ylabel(\"value\")\n",
    "print(\"The mean of the distribution is \", uniform.mean() )\n",
    "print(\"The mean of the sampling distribution of the mean is \", samplingdist.mean() )\n",
    "print(\"The std of the distribution is \", uniform.std() )\n",
    "print(\"The std of the sampling distribution of the mean is \", samplingdist.std() )\n",
    "if uniform.std()/np.sqrt(100) - samplingdist.std() <0.01:\n",
    "    print(\"The std of the sampling distribution corresponds to what we would expect, and it is the std of the uniform distribution / sqrt(number of samples)\")\n",
    "else:\n",
    "    print(\"The sampling distribution std does not correspond to what we expect\")\n",
    "\n",
    "if abs(uniform.mean()-samplingdist.mean()) < 0.001:\n",
    "     print(\"The means difference is smaller than 0.001\")\n",
    "elif abs(uniform.mean()-samplingdist.mean()) < 0.01:\n",
    "    print(\"The means difference is smaller than 0.01\")\n",
    "else:\n",
    "    print(\"The means are not too close\")"
   ]
  },
  {
   "cell_type": "code",
   "execution_count": 66,
   "metadata": {},
   "outputs": [
    {
     "name": "stdout",
     "output_type": "stream",
     "text": [
      "The mean of the distribution is  4.499665\n",
      "The mean of the sampling distribution of the mean is  4.4595\n",
      "The std of the distribution is  2.871053445649349\n",
      "The std of the sampling distribution of the mean is  0.2763670566474955\n",
      "The sampling distribution std does not correspond to what we expect\n",
      "The means are not too close\n"
     ]
    },
    {
     "data": {
      "image/png": "[encoded data removed]",
      "text/plain": [
       "<Figure size 432x288 with 1 Axes>"
      ]
     },
     "metadata": {
      "needs_background": "light"
     },
     "output_type": "display_data"
    }
   ],
   "source": [
    "#we sample 100 times\n",
    "\n",
    "x=doSampling(uniform, 100, 100) \n",
    "samplingdist=np.fromiter(x, float)\n",
    "plt.hist(samplingdist)\n",
    "plt.title('Sampling distribution of the mean of an uniform distribution when taking 100 samples of 100 individuals each')\n",
    "plt.ylabel(\"value\")\n",
    "print(\"The mean of the distribution is \", uniform.mean() )\n",
    "print(\"The mean of the sampling distribution of the mean is \", samplingdist.mean() )\n",
    "print(\"The std of the distribution is \", uniform.std() )\n",
    "print(\"The std of the sampling distribution of the mean is \", samplingdist.std() )\n",
    "if uniform.std()/np.sqrt(100) - samplingdist.std() <0.01:\n",
    "    print(\"The std of the sampling distribution corresponds to what we would expect, and it is the std of the uniform distribution / sqrt(number of samples)\")\n",
    "else:\n",
    "    print(\"The sampling distribution std does not correspond to what we expect\")\n",
    "\n",
    "if abs(uniform.mean()-samplingdist.mean()) < 0.001:\n",
    "     print(\"The means difference is smaller than 0.001\")\n",
    "elif abs(uniform.mean()-samplingdist.mean()) < 0.01:\n",
    "    print(\"The means difference is smaller than 0.01\")\n",
    "else:\n",
    "    print(\"The means are not too close\")"
   ]
  },
  {
   "cell_type": "code",
   "execution_count": 67,
   "metadata": {},
   "outputs": [
    {
     "data": {
      "text/plain": [
       "4.4595"
      ]
     },
     "execution_count": 67,
     "metadata": {},
     "output_type": "execute_result"
    }
   ],
   "source": [
    "samplingdist.mean()"
   ]
  },
  {
   "cell_type": "code",
   "execution_count": 68,
   "metadata": {},
   "outputs": [
    {
     "name": "stdout",
     "output_type": "stream",
     "text": [
      "The mean of the distribution is  4.499665\n",
      "The mean of the sampling distribution of the mean is  4.51429\n",
      "The std of the distribution is  2.871053445649349\n",
      "The std of the sampling distribution of the mean is  0.29110117811510144\n",
      "The std of the sampling distribution corresponds to what we would expect, and it is the std of the uniform distribution / sqrt(number of samples)\n",
      "The means are not too close\n"
     ]
    },
    {
     "data": {
      "image/png": "[encoded data removed]",
      "text/plain": [
       "<Figure size 432x288 with 1 Axes>"
      ]
     },
     "metadata": {
      "needs_background": "light"
     },
     "output_type": "display_data"
    }
   ],
   "source": [
    "#we sample 1000 times\n",
    "\n",
    "x=doSampling(uniform, 1000, 100) \n",
    "samplingdist=np.fromiter(x, float)\n",
    "plt.hist(samplingdist)\n",
    "plt.title('Sampling distribution of the mean of an uniform distribution when taking 1000 samples of 100 individuals each')\n",
    "plt.ylabel(\"value\")\n",
    "print(\"The mean of the distribution is \", uniform.mean() )\n",
    "print(\"The mean of the sampling distribution of the mean is \", samplingdist.mean() )\n",
    "print(\"The std of the distribution is \", uniform.std() )\n",
    "print(\"The std of the sampling distribution of the mean is \", samplingdist.std() )\n",
    "if uniform.std()/np.sqrt(100) - samplingdist.std() <0.01:\n",
    "    print(\"The std of the sampling distribution corresponds to what we would expect, and it is the std of the uniform distribution / sqrt(number of samples)\")\n",
    "else:\n",
    "    print(\"The sampling distribution std does not correspond to what we expect\")\n",
    "\n",
    "if abs(uniform.mean()-samplingdist.mean()) < 0.001:\n",
    "     print(\"The means difference is smaller than 0.001\")\n",
    "elif abs(uniform.mean()-samplingdist.mean()) < 0.01:\n",
    "    print(\"The means difference is smaller than 0.01\")\n",
    "else:\n",
    "    print(\"The means are not too close\")"
   ]
  },
  {
   "cell_type": "code",
   "execution_count": 69,
   "metadata": {},
   "outputs": [
    {
     "name": "stdout",
     "output_type": "stream",
     "text": [
      "The mean of the distribution is  4.499665\n",
      "The mean of the sampling distribution of the mean is  4.497258\n",
      "The std of the distribution is  2.871053445649349\n",
      "The std of the sampling distribution of the mean is  0.2851487005686682\n",
      "The std of the sampling distribution corresponds to what we would expect, and it is the std of the uniform distribution / sqrt(number of samples)\n",
      "The means difference is smaller than 0.01\n"
     ]
    },
    {
     "data": {
      "image/png": "[encoded data removed]",
      "text/plain": [
       "<Figure size 432x288 with 1 Axes>"
      ]
     },
     "metadata": {
      "needs_background": "light"
     },
     "output_type": "display_data"
    }
   ],
   "source": [
    "#we sample 100000 times\n",
    "\n",
    "x=doSampling(uniform, 10000, 100) \n",
    "samplingdist=np.fromiter(x, float)\n",
    "plt.hist(samplingdist)\n",
    "plt.title('Sampling distribution of the mean of an uniform distribution when taking 100000 samples of 100 individuals each')\n",
    "plt.ylabel(\"value\")\n",
    "print(\"The mean of the distribution is \", uniform.mean() )\n",
    "print(\"The mean of the sampling distribution of the mean is \", samplingdist.mean() )\n",
    "print(\"The std of the distribution is \", uniform.std() )\n",
    "print(\"The std of the sampling distribution of the mean is \", samplingdist.std() )\n",
    "if uniform.std()/np.sqrt(100) - samplingdist.std() <0.01:\n",
    "    print(\"The std of the sampling distribution corresponds to what we would expect, and it is the std of the uniform distribution / sqrt(number of samples)\")\n",
    "else:\n",
    "    print(\"The sampling distribution std does not correspond to what we expect\")\n",
    "\n",
    "if abs(uniform.mean()-samplingdist.mean()) < 0.001:\n",
    "     print(\"The means difference is smaller than 0.001\")\n",
    "elif abs(uniform.mean()-samplingdist.mean()) < 0.01:\n",
    "    print(\"The means difference is smaller than 0.01\")\n",
    "else:\n",
    "    print(\"The means are not too close\")"
   ]
  },
  {
   "cell_type": "markdown",
   "metadata": {},
   "source": [
    "We see that the std of the sampling distribution stays the same, while the mean approaches the population mean as we increase the number of samples.\n",
    "\n",
    "Now, we increase the number of individuals taken in each sample. The std will decrease."
   ]
  },
  {
   "cell_type": "code",
   "execution_count": 70,
   "metadata": {},
   "outputs": [
    {
     "name": "stdout",
     "output_type": "stream",
     "text": [
      "The mean of the distribution is  4.499665\n",
      "The mean of the sampling distribution of the mean is  4.515700000000001\n",
      "The std of the distribution is  2.871053445649349\n",
      "The std of the sampling distribution of the mean is  0.882203780313823\n",
      "The sampling distribution std does not correspond to what we expect\n",
      "The means are not too close\n"
     ]
    },
    {
     "data": {
      "image/png": "[encoded data removed]",
      "text/plain": [
       "<Figure size 432x288 with 1 Axes>"
      ]
     },
     "metadata": {
      "needs_background": "light"
     },
     "output_type": "display_data"
    }
   ],
   "source": [
    "#Changing the number of individuals of each of the 1000 samples\n",
    "\n",
    "x=doSampling(uniform, 1000, 10) \n",
    "samplingdist=np.fromiter(x, float)\n",
    "plt.hist(samplingdist)\n",
    "plt.title('Sampling distribution of the mean of an uniform distribution when taking 1000 samples of 10 individuals each')\n",
    "plt.ylabel(\"value\")\n",
    "print(\"The mean of the distribution is \", uniform.mean() )\n",
    "print(\"The mean of the sampling distribution of the mean is \", samplingdist.mean() )\n",
    "print(\"The std of the distribution is \", uniform.std() )\n",
    "print(\"The std of the sampling distribution of the mean is \", samplingdist.std() )\n",
    "if uniform.std()/np.sqrt(10) - samplingdist.std() <0.01:\n",
    "    print(\"The std of the sampling distribution corresponds to what we would expect, and it is the std of the uniform distribution / sqrt(number of samples)\")\n",
    "else:\n",
    "    print(\"The sampling distribution std does not correspond to what we expect\")\n",
    "\n",
    "if abs(uniform.mean()-samplingdist.mean()) < 0.001:\n",
    "     print(\"The means difference is smaller than 0.001\")\n",
    "elif abs(uniform.mean()-samplingdist.mean()) < 0.01:\n",
    "    print(\"The means difference is smaller than 0.01\")\n",
    "else:\n",
    "    print(\"The means are not too close\")"
   ]
  },
  {
   "cell_type": "code",
   "execution_count": 71,
   "metadata": {},
   "outputs": [
    {
     "name": "stdout",
     "output_type": "stream",
     "text": [
      "The mean of the distribution is  4.499665\n",
      "The mean of the sampling distribution of the mean is  4.5008099999999995\n",
      "The std of the distribution is  2.871053445649349\n",
      "The std of the sampling distribution of the mean is  0.2913236068361093\n",
      "The std of the sampling distribution corresponds to what we would expect, and it is the std of the uniform distribution / sqrt(number of samples)\n",
      "The means difference is smaller than 0.01\n"
     ]
    },
    {
     "data": {
      "image/png": "[encoded data removed]",
      "text/plain": [
       "<Figure size 432x288 with 1 Axes>"
      ]
     },
     "metadata": {
      "needs_background": "light"
     },
     "output_type": "display_data"
    }
   ],
   "source": [
    "#Changing the number of individuals of each of the 1000 samples\n",
    "\n",
    "x=doSampling(uniform, 1000, 100) \n",
    "samplingdist=np.fromiter(x, float)\n",
    "plt.hist(samplingdist)\n",
    "plt.title('Sampling distribution of the mean of an uniform distribution when taking 1000 samples of 100 individuals each')\n",
    "plt.ylabel(\"value\")\n",
    "print(\"The mean of the distribution is \", uniform.mean() )\n",
    "print(\"The mean of the sampling distribution of the mean is \", samplingdist.mean() )\n",
    "print(\"The std of the distribution is \", uniform.std() )\n",
    "print(\"The std of the sampling distribution of the mean is \", samplingdist.std() )\n",
    "if uniform.std()/np.sqrt(100) - samplingdist.std() <0.01:\n",
    "    print(\"The std of the sampling distribution corresponds to what we would expect, and it is the std of the uniform distribution / sqrt(number of samples)\")\n",
    "else:\n",
    "    print(\"The sampling distribution std does not correspond to what we expect\")\n",
    "\n",
    "if abs(uniform.mean()-samplingdist.mean()) < 0.001:\n",
    "     print(\"The means difference is smaller than 0.001\")\n",
    "elif abs(uniform.mean()-samplingdist.mean()) < 0.01:\n",
    "    print(\"The means difference is smaller than 0.01\")\n",
    "else:\n",
    "    print(\"The means are not too close\")"
   ]
  },
  {
   "cell_type": "code",
   "execution_count": 72,
   "metadata": {},
   "outputs": [
    {
     "name": "stdout",
     "output_type": "stream",
     "text": [
      "The mean of the distribution is  4.499665\n",
      "The mean of the sampling distribution of the mean is  4.498808\n",
      "The std of the distribution is  2.871053445649349\n",
      "The std of the sampling distribution of the mean is  0.08792467876540692\n",
      "The std of the sampling distribution corresponds to what we would expect, and it is the std of the uniform distribution / sqrt(number of samples)\n",
      "The means difference is smaller than 0.001\n"
     ]
    },
    {
     "data": {
      "image/png": "[encoded data removed]",
      "text/plain": [
       "<Figure size 432x288 with 1 Axes>"
      ]
     },
     "metadata": {
      "needs_background": "light"
     },
     "output_type": "display_data"
    }
   ],
   "source": [
    "#Changing the number of individuals of each of the 1000 samples\n",
    "\n",
    "x=doSampling(uniform, 1000, 1000) \n",
    "samplingdist=np.fromiter(x, float)\n",
    "plt.hist(samplingdist)\n",
    "plt.title('Sampling distribution of the mean of an uniform distribution when taking 1000 samples of 1000 individuals each')\n",
    "plt.ylabel(\"value\")\n",
    "print(\"The mean of the distribution is \", uniform.mean() )\n",
    "print(\"The mean of the sampling distribution of the mean is \", samplingdist.mean() )\n",
    "print(\"The std of the distribution is \", uniform.std() )\n",
    "print(\"The std of the sampling distribution of the mean is \", samplingdist.std() )\n",
    "if uniform.std()/np.sqrt(1000) - samplingdist.std() <0.01:\n",
    "    print(\"The std of the sampling distribution corresponds to what we would expect, and it is the std of the uniform distribution / sqrt(number of samples)\")\n",
    "else:\n",
    "    print(\"The sampling distribution std does not correspond to what we expect\")\n",
    "\n",
    "if abs(uniform.mean()-samplingdist.mean()) < 0.001:\n",
    "     print(\"The means difference is smaller than 0.001\")\n",
    "elif abs(uniform.mean()-samplingdist.mean()) < 0.01:\n",
    "    print(\"The means difference is smaller than 0.01\")\n",
    "else:\n",
    "    print(\"The means are not too close\")"
   ]
  },
  {
   "cell_type": "code",
   "execution_count": 73,
   "metadata": {},
   "outputs": [
    {
     "name": "stdout",
     "output_type": "stream",
     "text": [
      "The mean of the distribution is  4.499665\n",
      "The mean of the sampling distribution of the mean is  4.4992936100000005\n",
      "The std of the distribution is  2.871053445649349\n",
      "The std of the sampling distribution of the mean is  0.008788590869297544\n",
      "The std of the sampling distribution corresponds to what we would expect, and it is the std of the uniform distribution / sqrt(number of samples)\n",
      "The means difference is smaller than 0.001\n"
     ]
    },
    {
     "data": {
      "image/png": "[encoded data removed]",
      "text/plain": [
       "<Figure size 432x288 with 1 Axes>"
      ]
     },
     "metadata": {
      "needs_background": "light"
     },
     "output_type": "display_data"
    }
   ],
   "source": [
    "#Changing the number of individuals of each of the 1000 samples\n",
    "\n",
    "x=doSampling(uniform, 1000, 100000) \n",
    "samplingdist=np.fromiter(x, float)\n",
    "plt.hist(samplingdist)\n",
    "plt.title('Sampling distribution of the mean of an uniform distribution when taking 1000 samples of 100000 individuals each')\n",
    "plt.ylabel(\"value\")\n",
    "print(\"The mean of the distribution is \", uniform.mean() )\n",
    "print(\"The mean of the sampling distribution of the mean is \", samplingdist.mean() )\n",
    "print(\"The std of the distribution is \", uniform.std() )\n",
    "print(\"The std of the sampling distribution of the mean is \", samplingdist.std() )\n",
    "if uniform.std()/np.sqrt(100000) - samplingdist.std() <0.01:\n",
    "    print(\"The std of the sampling distribution corresponds to what we would expect, and it is the std of the uniform distribution / sqrt(number of samples)\")\n",
    "else:\n",
    "    print(\"The sampling distribution std does not correspond to what we expect\")\n",
    "\n",
    "if abs(uniform.mean()-samplingdist.mean()) < 0.001:\n",
    "     print(\"The means difference is smaller than 0.001\")\n",
    "elif abs(uniform.mean()-samplingdist.mean()) < 0.01:\n",
    "    print(\"The means difference is smaller than 0.01\")\n",
    "else:\n",
    "    print(\"The means are not too close\")"
   ]
  },
  {
   "cell_type": "markdown",
   "metadata": {},
   "source": [
    "\n",
    "# Functions' guide\n",
    "\n",
    "Here you can find a brief help section for the most relevant functions and arguments used through the session. For detailled information about specific functions and extra functionalities remember that you can check the manual of a function by typing *help(your_function)* or just using Google. \n",
    "\n",
    "* **pd.read_table(data, header=None)**\n",
    "\n",
    "    Read general delimited file into DataFrame.\n",
    "\n",
    "    header=None implies that we don't have a header in our data and we don't want Python to interpret the first line f the data as the header, which is the default.\n",
    "    \n",
    "\n",
    "* **sm.qqplot(data, line = 'q')**\n",
    "\n",
    "    Q-Q plot of the quantiles of x versus the quantiles/ppf of a distribution.\n",
    "\n",
    "    “q” - A line is fit through the quartiles.\n",
    "    \n",
    "\n",
    "* **np.random.normal(size = size_of_your_sample, loc = mean, scale =sd)**\n",
    "\n",
    "    Draw random samples from a normal (Gaussian) distribution.\n",
    "\n",
    "    size - Number of samples you want to draw from a normal distribution.\n",
    "    loc - Mean (“centre”) of the distribution.\n",
    "    scale - Standard deviation (spread or “width”) of the distribution. Must be non-negative.\n",
    "    \n",
    "\n",
    "* **np.random.choice(data, size = size_of_your_sample, replace = True)**\n",
    "\n",
    "    Generates a random sample from a given data.\n",
    "\n",
    "    size = Number of samples you want to draw from your data\n",
    "    replace = True: Sample with replacement, meaning that you can draw the same value several times."
   ]
  }
 ],
 "metadata": {
  "kernelspec": {
   "display_name": "Python 3",
   "language": "python",
   "name": "python3"
  },
  "language_info": {
   "codemirror_mode": {
    "name": "ipython",
    "version": 3
   },
   "file_extension": ".py",
   "mimetype": "text/x-python",
   "name": "python",
   "nbconvert_exporter": "python",
   "pygments_lexer": "ipython3",
   "version": "3.7.6"
  }
 },
 "nbformat": 4,
 "nbformat_minor": 2
}
