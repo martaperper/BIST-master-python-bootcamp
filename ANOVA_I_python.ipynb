{
 "cells": [
  {
   "cell_type": "markdown",
   "metadata": {},
   "source": [
    "_Pablo Latorre and Hafid Laayouni_\n",
    "\n",
    "You need to install the following Python packages: _pandas, numpy, scipy, statsmodels, matplotlib and pingouin._\n",
    "\n",
    "You can do it in Linux, for instance, with [pip installer](https://pip.pypa.io/en/stable/installing/) by typing the following command in the terminal:\n",
    "\n",
    "__sudo pip install pandas numpy statsmodels scipy matplotlib pingouin__\n",
    "\n",
    "Then, you have to import in Python the following packages:"
   ]
  },
  {
   "cell_type": "code",
   "execution_count": 2,
   "metadata": {},
   "outputs": [],
   "source": [
    "# loading required functions and modules #\n",
    "import pandas as pd\n",
    "import numpy as np\n",
    "import statsmodels.api as sm\n",
    "from statsmodels.formula.api import ols\n",
    "import scipy.stats as stats\n",
    "import matplotlib.pyplot as plt\n",
    "import pingouin as pg\n",
    "import seaborn as sb"
   ]
  },
  {
   "cell_type": "markdown",
   "metadata": {},
   "source": [
    "Besides, at the end of this document there is a **Functions' guide** section with practical information about some of the functions used in this session."
   ]
  },
  {
   "cell_type": "markdown",
   "metadata": {},
   "source": [
    "# Introduction to One-way Analysis of Variance\n",
    "\n",
    "## Definition\n",
    "\n",
    "The one-way analysis of variance (ANOVA) is used to compare several groups of a quantitative variable.\n",
    "Specifically, it is a way to calculate if there are any statistically significant differences between the means of\n",
    "three or more independent groups. It tests the following null hypothesis:\n",
    "\\begin{equation*}\n",
    "H_0: \\mu_1 = \\mu_2 = \\mu_3 = ... = \\mu_a\n",
    "\\end{equation*}\n",
    "Where $\\mu =$ group mean and $a =$ number of groups.\n",
    "\n",
    "In the case that the one-way ANOVA returns a significant result, the alternative hypothesis ($H_A$) is accepted,\n",
    "meaning that at least two group means are statistically different. However, the ANOVA statistic will not tell\n",
    "you which are the significantly different groups, for that we will need a post hoc test.\n",
    "\n",
    "## Assumptions\n",
    "\n",
    "In order to use the ANOVA test statistic, three main assumptions must be satisfied:\n",
    "\n",
    "* The dependent variable is normally distributed in each group.\n",
    "\n",
    "* There is homogeneity of variances, the population variances in each group are equal.\n",
    "\n",
    "* Independence of observations.\n",
    "\n",
    "## Example\n",
    "\n",
    "Let’s work with the following simple example:\n"
   ]
  },
  {
   "cell_type": "code",
   "execution_count": 3,
   "metadata": {},
   "outputs": [
    {
     "data": {
      "text/html": [
       "<div>\n",
       "<style scoped>\n",
       "    .dataframe tbody tr th:only-of-type {\n",
       "        vertical-align: middle;\n",
       "    }\n",
       "\n",
       "    .dataframe tbody tr th {\n",
       "        vertical-align: top;\n",
       "    }\n",
       "\n",
       "    .dataframe thead th {\n",
       "        text-align: right;\n",
       "    }\n",
       "</style>\n",
       "<table border=\"1\" class=\"dataframe\">\n",
       "  <thead>\n",
       "    <tr style=\"text-align: right;\">\n",
       "      <th></th>\n",
       "      <th>fertilizer1</th>\n",
       "      <th>fertilizer2</th>\n",
       "      <th>fertilizer3</th>\n",
       "    </tr>\n",
       "  </thead>\n",
       "  <tbody>\n",
       "    <tr>\n",
       "      <th>0</th>\n",
       "      <td>6.27</td>\n",
       "      <td>3.07</td>\n",
       "      <td>4.04</td>\n",
       "    </tr>\n",
       "    <tr>\n",
       "      <th>1</th>\n",
       "      <td>5.36</td>\n",
       "      <td>3.29</td>\n",
       "      <td>3.79</td>\n",
       "    </tr>\n",
       "    <tr>\n",
       "      <th>2</th>\n",
       "      <td>6.39</td>\n",
       "      <td>4.04</td>\n",
       "      <td>4.56</td>\n",
       "    </tr>\n",
       "    <tr>\n",
       "      <th>3</th>\n",
       "      <td>4.85</td>\n",
       "      <td>4.19</td>\n",
       "      <td>4.55</td>\n",
       "    </tr>\n",
       "    <tr>\n",
       "      <th>4</th>\n",
       "      <td>5.99</td>\n",
       "      <td>3.41</td>\n",
       "      <td>4.55</td>\n",
       "    </tr>\n",
       "    <tr>\n",
       "      <th>5</th>\n",
       "      <td>7.14</td>\n",
       "      <td>3.75</td>\n",
       "      <td>4.53</td>\n",
       "    </tr>\n",
       "    <tr>\n",
       "      <th>6</th>\n",
       "      <td>5.08</td>\n",
       "      <td>4.87</td>\n",
       "      <td>3.53</td>\n",
       "    </tr>\n",
       "    <tr>\n",
       "      <th>7</th>\n",
       "      <td>4.07</td>\n",
       "      <td>3.94</td>\n",
       "      <td>3.71</td>\n",
       "    </tr>\n",
       "    <tr>\n",
       "      <th>8</th>\n",
       "      <td>4.35</td>\n",
       "      <td>6.28</td>\n",
       "      <td>7.00</td>\n",
       "    </tr>\n",
       "    <tr>\n",
       "      <th>9</th>\n",
       "      <td>4.95</td>\n",
       "      <td>3.15</td>\n",
       "      <td>4.61</td>\n",
       "    </tr>\n",
       "  </tbody>\n",
       "</table>\n",
       "</div>"
      ],
      "text/plain": [
       "   fertilizer1  fertilizer2  fertilizer3\n",
       "0         6.27         3.07         4.04\n",
       "1         5.36         3.29         3.79\n",
       "2         6.39         4.04         4.56\n",
       "3         4.85         4.19         4.55\n",
       "4         5.99         3.41         4.55\n",
       "5         7.14         3.75         4.53\n",
       "6         5.08         4.87         3.53\n",
       "7         4.07         3.94         3.71\n",
       "8         4.35         6.28         7.00\n",
       "9         4.95         3.15         4.61"
      ]
     },
     "execution_count": 3,
     "metadata": {},
     "output_type": "execute_result"
    }
   ],
   "source": [
    "# dictionary with type of fertilizer as key and array of production as values\n",
    "values = {'fertilizer1' : [6.27,5.36,6.39,4.85,5.99,7.14,5.08,4.07,4.35,4.95],\n",
    "'fertilizer2' : [3.07,3.29,4.04,4.19,3.41,3.75,4.87,3.94,6.28,3.15],\n",
    "'fertilizer3' : [4.04,3.79,4.56,4.55,4.55,4.53,3.53,3.71,7.00,4.61]}\n",
    "# create panda dataframe\n",
    "data = pd.DataFrame(values)\n",
    "data"
   ]
  },
  {
   "cell_type": "markdown",
   "metadata": {},
   "source": [
    "The data represents the production of pumpkins of plots that received treatments with different fertilizers.\n",
    "The question we ask ourselves here is: does the fertilizer have an effect on the pumpkin production?\n",
    "To answer this question, we could use one-way ANOVA."
   ]
  },
  {
   "cell_type": "markdown",
   "metadata": {},
   "source": [
    "\n",
    "# The ANOVA Python function\n",
    "First, we need a special format of the data to work with Python, it is called long-format data. We will import it from the file *fertilizer_long_format.txt*"
   ]
  },
  {
   "cell_type": "code",
   "execution_count": 4,
   "metadata": {},
   "outputs": [
    {
     "data": {
      "text/html": [
       "<div>\n",
       "<style scoped>\n",
       "    .dataframe tbody tr th:only-of-type {\n",
       "        vertical-align: middle;\n",
       "    }\n",
       "\n",
       "    .dataframe tbody tr th {\n",
       "        vertical-align: top;\n",
       "    }\n",
       "\n",
       "    .dataframe thead th {\n",
       "        text-align: right;\n",
       "    }\n",
       "</style>\n",
       "<table border=\"1\" class=\"dataframe\">\n",
       "  <thead>\n",
       "    <tr style=\"text-align: right;\">\n",
       "      <th></th>\n",
       "      <th>fertilizer</th>\n",
       "      <th>production</th>\n",
       "    </tr>\n",
       "  </thead>\n",
       "  <tbody>\n",
       "    <tr>\n",
       "      <th>0</th>\n",
       "      <td>fertilizer1</td>\n",
       "      <td>6.27</td>\n",
       "    </tr>\n",
       "    <tr>\n",
       "      <th>1</th>\n",
       "      <td>fertilizer1</td>\n",
       "      <td>5.36</td>\n",
       "    </tr>\n",
       "    <tr>\n",
       "      <th>2</th>\n",
       "      <td>fertilizer1</td>\n",
       "      <td>6.39</td>\n",
       "    </tr>\n",
       "    <tr>\n",
       "      <th>3</th>\n",
       "      <td>fertilizer1</td>\n",
       "      <td>4.85</td>\n",
       "    </tr>\n",
       "    <tr>\n",
       "      <th>4</th>\n",
       "      <td>fertilizer1</td>\n",
       "      <td>5.99</td>\n",
       "    </tr>\n",
       "  </tbody>\n",
       "</table>\n",
       "</div>"
      ],
      "text/plain": [
       "    fertilizer  production\n",
       "0  fertilizer1        6.27\n",
       "1  fertilizer1        5.36\n",
       "2  fertilizer1        6.39\n",
       "3  fertilizer1        4.85\n",
       "4  fertilizer1        5.99"
      ]
     },
     "execution_count": 4,
     "metadata": {},
     "output_type": "execute_result"
    }
   ],
   "source": [
    "fd = pd.read_table(\"fertilizer_long_format.txt\", sep=' ') #fd vol dir fertilizer data\n",
    "fd.head()"
   ]
  },
  {
   "cell_type": "code",
   "execution_count": 4,
   "metadata": {},
   "outputs": [
    {
     "data": {
      "text/html": [
       "<div>\n",
       "<style scoped>\n",
       "    .dataframe tbody tr th:only-of-type {\n",
       "        vertical-align: middle;\n",
       "    }\n",
       "\n",
       "    .dataframe tbody tr th {\n",
       "        vertical-align: top;\n",
       "    }\n",
       "\n",
       "    .dataframe thead th {\n",
       "        text-align: right;\n",
       "    }\n",
       "</style>\n",
       "<table border=\"1\" class=\"dataframe\">\n",
       "  <thead>\n",
       "    <tr style=\"text-align: right;\">\n",
       "      <th></th>\n",
       "      <th>production</th>\n",
       "    </tr>\n",
       "    <tr>\n",
       "      <th>fertilizer</th>\n",
       "      <th></th>\n",
       "    </tr>\n",
       "  </thead>\n",
       "  <tbody>\n",
       "    <tr>\n",
       "      <th>fertilizer1</th>\n",
       "      <td>5.44</td>\n",
       "    </tr>\n",
       "    <tr>\n",
       "      <th>fertilizer2</th>\n",
       "      <td>4.00</td>\n",
       "    </tr>\n",
       "    <tr>\n",
       "      <th>fertilizer3</th>\n",
       "      <td>4.49</td>\n",
       "    </tr>\n",
       "  </tbody>\n",
       "</table>\n",
       "</div>"
      ],
      "text/plain": [
       "             production\n",
       "fertilizer             \n",
       "fertilizer1        5.44\n",
       "fertilizer2        4.00\n",
       "fertilizer3        4.49"
      ]
     },
     "execution_count": 4,
     "metadata": {},
     "output_type": "execute_result"
    }
   ],
   "source": [
    "fd.groupby('fertilizer').agg('mean').round(2)"
   ]
  },
  {
   "cell_type": "code",
   "execution_count": 5,
   "metadata": {},
   "outputs": [
    {
     "data": {
      "text/html": [
       "<div>\n",
       "<style scoped>\n",
       "    .dataframe tbody tr th:only-of-type {\n",
       "        vertical-align: middle;\n",
       "    }\n",
       "\n",
       "    .dataframe tbody tr th {\n",
       "        vertical-align: top;\n",
       "    }\n",
       "\n",
       "    .dataframe thead th {\n",
       "        text-align: right;\n",
       "    }\n",
       "</style>\n",
       "<table border=\"1\" class=\"dataframe\">\n",
       "  <thead>\n",
       "    <tr style=\"text-align: right;\">\n",
       "      <th></th>\n",
       "      <th>production</th>\n",
       "    </tr>\n",
       "    <tr>\n",
       "      <th>fertilizer</th>\n",
       "      <th></th>\n",
       "    </tr>\n",
       "  </thead>\n",
       "  <tbody>\n",
       "    <tr>\n",
       "      <th>fertilizer1</th>\n",
       "      <td>0.98</td>\n",
       "    </tr>\n",
       "    <tr>\n",
       "      <th>fertilizer2</th>\n",
       "      <td>0.97</td>\n",
       "    </tr>\n",
       "    <tr>\n",
       "      <th>fertilizer3</th>\n",
       "      <td>0.97</td>\n",
       "    </tr>\n",
       "  </tbody>\n",
       "</table>\n",
       "</div>"
      ],
      "text/plain": [
       "             production\n",
       "fertilizer             \n",
       "fertilizer1        0.98\n",
       "fertilizer2        0.97\n",
       "fertilizer3        0.97"
      ]
     },
     "execution_count": 5,
     "metadata": {},
     "output_type": "execute_result"
    }
   ],
   "source": [
    "fd.groupby('fertilizer').agg('std').round(2)"
   ]
  },
  {
   "cell_type": "markdown",
   "metadata": {},
   "source": [
    "Before performing one-way ANOVA, let’s check normality and homogeneity of variance assumptions.\n",
    "\n",
    "\n",
    "**HINT**: To check normality we can use the statistical test Kolmogorov-Smirnov (*stats.kstest()* function)\n",
    "This Kolmogorov-Smirnov tests is used to compare certain data with a certain distribution. It's a non parametric test"
   ]
  },
  {
   "cell_type": "code",
   "execution_count": 6,
   "metadata": {},
   "outputs": [
    {
     "data": {
      "text/plain": [
       "fertilizer1         AxesSubplot(0.1,0.559091;0.363636x0.340909)\n",
       "fertilizer2    AxesSubplot(0.536364,0.559091;0.363636x0.340909)\n",
       "fertilizer3             AxesSubplot(0.1,0.15;0.363636x0.340909)\n",
       "dtype: object"
      ]
     },
     "execution_count": 6,
     "metadata": {},
     "output_type": "execute_result"
    },
    {
     "data": {
      "image/png": "[encoded data removed]",
      "text/plain": [
       "<Figure size 432x288 with 4 Axes>"
      ]
     },
     "metadata": {
      "needs_background": "light"
     },
     "output_type": "display_data"
    }
   ],
   "source": [
    "fd.groupby(\"fertilizer\").boxplot()"
   ]
  },
  {
   "cell_type": "code",
   "execution_count": 7,
   "metadata": {},
   "outputs": [
    {
     "data": {
      "text/plain": [
       "array([[<matplotlib.axes._subplots.AxesSubplot object at 0x0000017134EC45C8>,\n",
       "        <matplotlib.axes._subplots.AxesSubplot object at 0x0000017135EB8208>],\n",
       "       [<matplotlib.axes._subplots.AxesSubplot object at 0x0000017135EEC948>,\n",
       "        <matplotlib.axes._subplots.AxesSubplot object at 0x0000017135F26388>]],\n",
       "      dtype=object)"
      ]
     },
     "execution_count": 7,
     "metadata": {},
     "output_type": "execute_result"
    },
    {
     "data": {
      "image/png": "[encoded data removed]",
      "text/plain": [
       "<Figure size 432x288 with 4 Axes>"
      ]
     },
     "metadata": {
      "needs_background": "light"
     },
     "output_type": "display_data"
    }
   ],
   "source": [
    "fd.production.hist(by=fd.fertilizer) #histogram by groups"
   ]
  },
  {
   "cell_type": "code",
   "execution_count": 8,
   "metadata": {},
   "outputs": [
    {
     "data": {
      "text/plain": [
       "KstestResult(statistic=0.9989297061453211, pvalue=1.5350444325246366e-89)"
      ]
     },
     "execution_count": 8,
     "metadata": {},
     "output_type": "execute_result"
    }
   ],
   "source": [
    "stats.kstest(fd.production, 'norm')"
   ]
  },
  {
   "cell_type": "markdown",
   "metadata": {},
   "source": [
    "Això no sé pas què vol dir, espero comentar-ho a la pràctica. El que jo hagués fet seria un gràfic.\n",
    "A més, fent-ho com a les solucions, la p dóna molt més gran, que correspon més a l'esperat ja que no sembla de cap manera una distribució normal (pels histogrames)"
   ]
  },
  {
   "cell_type": "code",
   "execution_count": 5,
   "metadata": {},
   "outputs": [
    {
     "data": {
      "text/plain": [
       "KstestResult(statistic=0.1453124706703378, pvalue=0.5130077002793969)"
      ]
     },
     "execution_count": 5,
     "metadata": {},
     "output_type": "execute_result"
    }
   ],
   "source": [
    "prod_mean = np.mean(fd['production'])\n",
    "prod_sd = np.std(fd['production'], ddof = 1)\n",
    "stats.kstest(fd['production'], 'norm', args = (prod_mean, prod_sd))"
   ]
  },
  {
   "cell_type": "markdown",
   "metadata": {},
   "source": [
    "H0: distribution normal\n",
    "H1: distribution not normal\n",
    "p is not small enough: accept H0\n",
    "\n",
    "This test is for goodness of fit: does the data fit the normal distribution? It's not about means, not about std, just to see if the data fits a certain distribution.\n",
    "\n",
    "What does the test do? \n",
    "Takes data and makes intervals and calculates %. Makes a comulative distribution (adding %), then we do the comulative for our expected distribution and calculates the differences (expected-what we have). This will give us the statistic. \n",
    "\n",
    "For a normal distribution, we know the percentages each interval is having. What we do is building intervals with our data, see the percentages and then compare how different they are from the theoretical normal, build statistic from that."
   ]
  },
  {
   "cell_type": "markdown",
   "metadata": {},
   "source": [
    "\n",
    "**HINT:** To test for homogeneity of variance, we can use Levene test. You could use *stats.levene()* function."
   ]
  },
  {
   "cell_type": "code",
   "execution_count": 6,
   "metadata": {},
   "outputs": [
    {
     "data": {
      "text/plain": [
       "LeveneResult(statistic=0.25557357081718185, pvalue=0.7763246395092929)"
      ]
     },
     "execution_count": 6,
     "metadata": {},
     "output_type": "execute_result"
    }
   ],
   "source": [
    "# Note that for this test we are using data instead of fertilizer_data\n",
    "# we do so for convenience with function input\n",
    "stats.levene(data['fertilizer1'], data['fertilizer2'], data['fertilizer3'])"
   ]
  },
  {
   "cell_type": "code",
   "execution_count": 7,
   "metadata": {},
   "outputs": [
    {
     "data": {
      "text/plain": [
       "LeveneResult(statistic=0.25557357081718185, pvalue=0.7763246395092929)"
      ]
     },
     "execution_count": 7,
     "metadata": {},
     "output_type": "execute_result"
    }
   ],
   "source": [
    "stats.levene(fd['production'][fd['fertilizer'] == 'fertilizer1'], \n",
    "                fd['production'][fd['fertilizer'] == 'fertilizer2'], \n",
    "                fd['production'][fd['fertilizer'] == 'fertilizer3'])"
   ]
  },
  {
   "cell_type": "markdown",
   "metadata": {},
   "source": [
    "Levene compares max and min variances and follows a chi distribution. Basically compares variances and says if they're the same"
   ]
  },
  {
   "cell_type": "markdown",
   "metadata": {},
   "source": [
    " I don't get what are these tests and what are the p-values representing. In this case, would we want p-values closer to one as we want to conclude variances are the same? Yes! We want to accept the null hypothesis.  Also, the data above doesn't look normal, and Levene tests are supposed to be used in normal distributions, isn't it? According to the ks test the distribution is normal, so we can use this test.\n",
    " \n",
    " We can use this assumption because the assumption is about the population, so the sample doesn't need to be completely normal in order to use this tests."
   ]
  },
  {
   "cell_type": "markdown",
   "metadata": {},
   "source": [
    "Now, let's perform one-way ANOVA. We can do it because: population follows a normal distribution, variances of groups are the same, random samples and not paired.\n",
    "\n",
    "\n",
    "**HINT:** You can use the Python functions *ols()* and *anova_lm()*: WHAT THE HELL DOES OLS DO? what does linear regression have to do with that?"
   ]
  },
  {
   "cell_type": "markdown",
   "metadata": {},
   "source": [
    "ols: we do a linear model. We want the production to be a function of the fertilizer. We use the data from our data and then we use it for the anova function.\n",
    "\n",
    "mod stands for model, because we're modelling our data for it to fit production is a function of fertilizer. Then we perform anova table. \n",
    "\n",
    "In this case between=fertilizer (name of the variable)\n",
    "Instead of within or error, it's called residual. \n",
    "\n",
    "We have 30 datapoints, three fertilizers. Therefore ddoftotal=29, ddofbetween=2, ddofwithin=27\n",
    "\n",
    "Result express that variation due to change of fertilizer is 5 times greater than what we would get by chance."
   ]
  },
  {
   "cell_type": "code",
   "execution_count": 8,
   "metadata": {},
   "outputs": [
    {
     "data": {
      "text/html": [
       "<div>\n",
       "<style scoped>\n",
       "    .dataframe tbody tr th:only-of-type {\n",
       "        vertical-align: middle;\n",
       "    }\n",
       "\n",
       "    .dataframe tbody tr th {\n",
       "        vertical-align: top;\n",
       "    }\n",
       "\n",
       "    .dataframe thead th {\n",
       "        text-align: right;\n",
       "    }\n",
       "</style>\n",
       "<table border=\"1\" class=\"dataframe\">\n",
       "  <thead>\n",
       "    <tr style=\"text-align: right;\">\n",
       "      <th></th>\n",
       "      <th>df</th>\n",
       "      <th>sum_sq</th>\n",
       "      <th>mean_sq</th>\n",
       "      <th>F</th>\n",
       "      <th>PR(&gt;F)</th>\n",
       "    </tr>\n",
       "  </thead>\n",
       "  <tbody>\n",
       "    <tr>\n",
       "      <th>fertilizer</th>\n",
       "      <td>2.0</td>\n",
       "      <td>10.822747</td>\n",
       "      <td>5.411373</td>\n",
       "      <td>5.702374</td>\n",
       "      <td>0.008594</td>\n",
       "    </tr>\n",
       "    <tr>\n",
       "      <th>Residual</th>\n",
       "      <td>27.0</td>\n",
       "      <td>25.622150</td>\n",
       "      <td>0.948969</td>\n",
       "      <td>NaN</td>\n",
       "      <td>NaN</td>\n",
       "    </tr>\n",
       "  </tbody>\n",
       "</table>\n",
       "</div>"
      ],
      "text/plain": [
       "              df     sum_sq   mean_sq         F    PR(>F)\n",
       "fertilizer   2.0  10.822747  5.411373  5.702374  0.008594\n",
       "Residual    27.0  25.622150  0.948969       NaN       NaN"
      ]
     },
     "execution_count": 8,
     "metadata": {},
     "output_type": "execute_result"
    }
   ],
   "source": [
    "mod = ols('production ~ fertilizer',\n",
    "                data=fd).fit()\n",
    "\n",
    "aov_table = sm.stats.anova_lm(mod)\n",
    "fvalue = aov_table['F'][0] # store f-value for downstream analyzes\n",
    "\n",
    "aov_table"
   ]
  },
  {
   "cell_type": "code",
   "execution_count": null,
   "metadata": {},
   "outputs": [],
   "source": [
    "pg.mixed_anova? #sembla que serà útil per two way anova."
   ]
  },
  {
   "cell_type": "markdown",
   "metadata": {},
   "source": [
    "The output of *anova_lm* function is a table where you will find in the first column the degrees of freedom of\n",
    "SS between (a-1) and SS within (an-a). In the second column: the SS between (first row) and\n",
    "SS within (also called Residual). In the fourth column you will see the F-statistic and in the fifth the p-value.\n",
    "\n",
    "# Post hoc test after a significant result\n",
    "\n",
    "Once a significant result is obtained with the one-way ANOVA, we can only say that at least one population mean is different from at least one other population mean. Now, we will learn how to know which is the population mean that is different from the others.\n",
    "For that we will use *pairwise t-tests* with Bonferroni p-adjustment. \n",
    "\n",
    "\n",
    "**HINT**: You could use *pg.pairwise_ttests()* function."
   ]
  },
  {
   "cell_type": "code",
   "execution_count": 12,
   "metadata": {},
   "outputs": [],
   "source": [
    "pg.pairwise_ttests?"
   ]
  },
  {
   "cell_type": "code",
   "execution_count": 13,
   "metadata": {},
   "outputs": [
    {
     "data": {
      "text/html": [
       "<div>\n",
       "<style scoped>\n",
       "    .dataframe tbody tr th:only-of-type {\n",
       "        vertical-align: middle;\n",
       "    }\n",
       "\n",
       "    .dataframe tbody tr th {\n",
       "        vertical-align: top;\n",
       "    }\n",
       "\n",
       "    .dataframe thead th {\n",
       "        text-align: right;\n",
       "    }\n",
       "</style>\n",
       "<table border=\"1\" class=\"dataframe\">\n",
       "  <thead>\n",
       "    <tr style=\"text-align: right;\">\n",
       "      <th></th>\n",
       "      <th>Contrast</th>\n",
       "      <th>A</th>\n",
       "      <th>B</th>\n",
       "      <th>Paired</th>\n",
       "      <th>Parametric</th>\n",
       "      <th>T</th>\n",
       "      <th>dof</th>\n",
       "      <th>Tail</th>\n",
       "      <th>p-unc</th>\n",
       "      <th>p-corr</th>\n",
       "      <th>p-adjust</th>\n",
       "      <th>BF10</th>\n",
       "      <th>hedges</th>\n",
       "    </tr>\n",
       "  </thead>\n",
       "  <tbody>\n",
       "    <tr>\n",
       "      <th>0</th>\n",
       "      <td>fertilizer</td>\n",
       "      <td>fertilizer1</td>\n",
       "      <td>fertilizer2</td>\n",
       "      <td>False</td>\n",
       "      <td>True</td>\n",
       "      <td>3.320116</td>\n",
       "      <td>18.0</td>\n",
       "      <td>two-sided</td>\n",
       "      <td>0.003808</td>\n",
       "      <td>0.011425</td>\n",
       "      <td>bonferroni</td>\n",
       "      <td>10.622</td>\n",
       "      <td>1.422063</td>\n",
       "    </tr>\n",
       "    <tr>\n",
       "      <th>1</th>\n",
       "      <td>fertilizer</td>\n",
       "      <td>fertilizer1</td>\n",
       "      <td>fertilizer3</td>\n",
       "      <td>False</td>\n",
       "      <td>True</td>\n",
       "      <td>2.196297</td>\n",
       "      <td>18.0</td>\n",
       "      <td>two-sided</td>\n",
       "      <td>0.041413</td>\n",
       "      <td>0.124239</td>\n",
       "      <td>bonferroni</td>\n",
       "      <td>1.926</td>\n",
       "      <td>0.940712</td>\n",
       "    </tr>\n",
       "    <tr>\n",
       "      <th>2</th>\n",
       "      <td>fertilizer</td>\n",
       "      <td>fertilizer2</td>\n",
       "      <td>fertilizer3</td>\n",
       "      <td>False</td>\n",
       "      <td>True</td>\n",
       "      <td>-1.121212</td>\n",
       "      <td>18.0</td>\n",
       "      <td>two-sided</td>\n",
       "      <td>0.276934</td>\n",
       "      <td>0.830801</td>\n",
       "      <td>bonferroni</td>\n",
       "      <td>0.615</td>\n",
       "      <td>-0.480235</td>\n",
       "    </tr>\n",
       "  </tbody>\n",
       "</table>\n",
       "</div>"
      ],
      "text/plain": [
       "     Contrast            A            B  Paired  Parametric         T   dof  \\\n",
       "0  fertilizer  fertilizer1  fertilizer2   False        True  3.320116  18.0   \n",
       "1  fertilizer  fertilizer1  fertilizer3   False        True  2.196297  18.0   \n",
       "2  fertilizer  fertilizer2  fertilizer3   False        True -1.121212  18.0   \n",
       "\n",
       "        Tail     p-unc    p-corr    p-adjust    BF10    hedges  \n",
       "0  two-sided  0.003808  0.011425  bonferroni  10.622  1.422063  \n",
       "1  two-sided  0.041413  0.124239  bonferroni   1.926  0.940712  \n",
       "2  two-sided  0.276934  0.830801  bonferroni   0.615 -0.480235  "
      ]
     },
     "execution_count": 13,
     "metadata": {},
     "output_type": "execute_result"
    }
   ],
   "source": [
    "pg.pairwise_ttests(data=fd, dv='production', between='fertilizer',\n",
    "                    subject=None, parametric=True, marginal=True, alpha=.05,\n",
    "                    tail='two-sided', padjust='bonferroni', effsize='hedges',\n",
    "                    correction='auto', nan_policy='listwise',\n",
    "                    return_desc=False, interaction=True, within_first=True)"
   ]
  },
  {
   "cell_type": "markdown",
   "metadata": {},
   "source": [
    "We have p-corrected: the comparison is part of a group of comparisons. We want the false positives to be 5% all together, not for each pair.\n",
    "For that, instead of working with our original alpha, we work with alpha=original alpha/num of comparisons, as as we do more comparisons the probability of getting a false positive grows. \n",
    "\n",
    "In our case, we have three comparisons: p-uncorrected*3=p-corrected.\n",
    "now the alpha is 0.05 for all data, not only for one single comparison."
   ]
  },
  {
   "cell_type": "markdown",
   "metadata": {},
   "source": [
    "What can we conclude after the pairwise t-test?"
   ]
  },
  {
   "cell_type": "markdown",
   "metadata": {},
   "source": [
    "i would conclude than f1 is different from f2 and f3 but 2 and 3 are not significantly different."
   ]
  },
  {
   "cell_type": "markdown",
   "metadata": {},
   "source": [
    "# Exercise 1. Randomization test\n",
    "\n",
    "If the assumptions of ANOVA were not applicable, it would be a good solution to perform a randomization test for the anova, as we already did for t-student.\n",
    "\n"
   ]
  },
  {
   "cell_type": "code",
   "execution_count": 12,
   "metadata": {},
   "outputs": [
    {
     "data": {
      "text/html": [
       "<div>\n",
       "<style scoped>\n",
       "    .dataframe tbody tr th:only-of-type {\n",
       "        vertical-align: middle;\n",
       "    }\n",
       "\n",
       "    .dataframe tbody tr th {\n",
       "        vertical-align: top;\n",
       "    }\n",
       "\n",
       "    .dataframe thead tr th {\n",
       "        text-align: left;\n",
       "    }\n",
       "\n",
       "    .dataframe thead tr:last-of-type th {\n",
       "        text-align: right;\n",
       "    }\n",
       "</style>\n",
       "<table border=\"1\" class=\"dataframe\">\n",
       "  <thead>\n",
       "    <tr>\n",
       "      <th></th>\n",
       "      <th colspan=\"8\" halign=\"left\">production</th>\n",
       "    </tr>\n",
       "    <tr>\n",
       "      <th></th>\n",
       "      <th>count</th>\n",
       "      <th>mean</th>\n",
       "      <th>std</th>\n",
       "      <th>min</th>\n",
       "      <th>25%</th>\n",
       "      <th>50%</th>\n",
       "      <th>75%</th>\n",
       "      <th>max</th>\n",
       "    </tr>\n",
       "    <tr>\n",
       "      <th>fertilizer</th>\n",
       "      <th></th>\n",
       "      <th></th>\n",
       "      <th></th>\n",
       "      <th></th>\n",
       "      <th></th>\n",
       "      <th></th>\n",
       "      <th></th>\n",
       "      <th></th>\n",
       "    </tr>\n",
       "  </thead>\n",
       "  <tbody>\n",
       "    <tr>\n",
       "      <th>fertilizer1</th>\n",
       "      <td>10.0</td>\n",
       "      <td>5.445</td>\n",
       "      <td>0.975981</td>\n",
       "      <td>4.07</td>\n",
       "      <td>4.8750</td>\n",
       "      <td>5.220</td>\n",
       "      <td>6.2000</td>\n",
       "      <td>7.14</td>\n",
       "    </tr>\n",
       "    <tr>\n",
       "      <th>fertilizer2</th>\n",
       "      <td>10.0</td>\n",
       "      <td>3.999</td>\n",
       "      <td>0.971750</td>\n",
       "      <td>3.07</td>\n",
       "      <td>3.3200</td>\n",
       "      <td>3.845</td>\n",
       "      <td>4.1525</td>\n",
       "      <td>6.28</td>\n",
       "    </tr>\n",
       "    <tr>\n",
       "      <th>fertilizer3</th>\n",
       "      <td>10.0</td>\n",
       "      <td>4.487</td>\n",
       "      <td>0.974714</td>\n",
       "      <td>3.53</td>\n",
       "      <td>3.8525</td>\n",
       "      <td>4.540</td>\n",
       "      <td>4.5575</td>\n",
       "      <td>7.00</td>\n",
       "    </tr>\n",
       "  </tbody>\n",
       "</table>\n",
       "</div>"
      ],
      "text/plain": [
       "            production                                                    \n",
       "                 count   mean       std   min     25%    50%     75%   max\n",
       "fertilizer                                                                \n",
       "fertilizer1       10.0  5.445  0.975981  4.07  4.8750  5.220  6.2000  7.14\n",
       "fertilizer2       10.0  3.999  0.971750  3.07  3.3200  3.845  4.1525  6.28\n",
       "fertilizer3       10.0  4.487  0.974714  3.53  3.8525  4.540  4.5575  7.00"
      ]
     },
     "execution_count": 12,
     "metadata": {},
     "output_type": "execute_result"
    }
   ],
   "source": [
    "fd.groupby('fertilizer').describe()"
   ]
  },
  {
   "cell_type": "code",
   "execution_count": 13,
   "metadata": {},
   "outputs": [],
   "source": [
    "f1=fd[fd.fertilizer == 'fertilizer1']\n",
    "f2=fd[fd.fertilizer == 'fertilizer2']\n",
    "f3=fd[fd.fertilizer == 'fertilizer3']"
   ]
  },
  {
   "cell_type": "code",
   "execution_count": 14,
   "metadata": {},
   "outputs": [],
   "source": [
    "t12=tvalue=stats.ttest_ind(f1.production, f2.production)[0]\n",
    "t23=tvalue=stats.ttest_ind(f2.production, f3.production)[0]\n",
    "t13=tvalue=stats.ttest_ind(f1.production, f3.production)[0]"
   ]
  },
  {
   "cell_type": "code",
   "execution_count": 15,
   "metadata": {},
   "outputs": [],
   "source": [
    "def doSamplingTlog(dat, numSamples, sizeSamples):\n",
    "    for i in range(numSamples):\n",
    "        g1 = np.random.choice(fd.production, size = 20)\n",
    "        g2 = [j for j in fd.production if j not in g1]\n",
    "        tval = stats.ttest_ind(g1,g2)[0]\n",
    "        yield(tval)\n",
    "z=doSamplingTlog(fd.product,10000,20)\n",
    "ttest=np.fromiter(z,float)\n"
   ]
  },
  {
   "cell_type": "code",
   "execution_count": 16,
   "metadata": {},
   "outputs": [
    {
     "data": {
      "text/plain": [
       "0.0044"
      ]
     },
     "execution_count": 16,
     "metadata": {},
     "output_type": "execute_result"
    }
   ],
   "source": [
    "\n",
    "signif = ttest[ttest >= t12]\n",
    "(len(signif) / 10000) *2"
   ]
  },
  {
   "cell_type": "code",
   "execution_count": 17,
   "metadata": {},
   "outputs": [
    {
     "data": {
      "text/plain": [
       "0.05"
      ]
     },
     "execution_count": 17,
     "metadata": {},
     "output_type": "execute_result"
    }
   ],
   "source": [
    "\n",
    "signif = ttest[ttest >= t13]\n",
    "(len(signif) / 10000) *2"
   ]
  },
  {
   "cell_type": "code",
   "execution_count": 18,
   "metadata": {},
   "outputs": [
    {
     "data": {
      "text/plain": [
       "1.6258"
      ]
     },
     "execution_count": 18,
     "metadata": {},
     "output_type": "execute_result"
    }
   ],
   "source": [
    "\n",
    "signif = ttest[ttest >= t23]\n",
    "(len(signif) / 10000) *2"
   ]
  },
  {
   "cell_type": "markdown",
   "metadata": {},
   "source": [
    "Check solutions to get another way of doing it."
   ]
  },
  {
   "cell_type": "markdown",
   "metadata": {},
   "source": [
    "It gives the same results: 1 is different from others, but 2 and 3 are not significantly different from each other."
   ]
  },
  {
   "cell_type": "markdown",
   "metadata": {},
   "source": [
    "Another solution would be to transform the dependent variable to rank and run the anova as usual, this will be equivalent to a non parametric test.\n",
    "\n",
    "\n",
    "**HINT**: You can use rank() function to rank a variable"
   ]
  },
  {
   "cell_type": "code",
   "execution_count": 20,
   "metadata": {},
   "outputs": [],
   "source": [
    "rank=fd.rank()"
   ]
  },
  {
   "cell_type": "code",
   "execution_count": 21,
   "metadata": {},
   "outputs": [
    {
     "data": {
      "text/html": [
       "<div>\n",
       "<style scoped>\n",
       "    .dataframe tbody tr th:only-of-type {\n",
       "        vertical-align: middle;\n",
       "    }\n",
       "\n",
       "    .dataframe tbody tr th {\n",
       "        vertical-align: top;\n",
       "    }\n",
       "\n",
       "    .dataframe thead th {\n",
       "        text-align: right;\n",
       "    }\n",
       "</style>\n",
       "<table border=\"1\" class=\"dataframe\">\n",
       "  <thead>\n",
       "    <tr style=\"text-align: right;\">\n",
       "      <th></th>\n",
       "      <th>df</th>\n",
       "      <th>sum_sq</th>\n",
       "      <th>mean_sq</th>\n",
       "      <th>F</th>\n",
       "      <th>PR(&gt;F)</th>\n",
       "    </tr>\n",
       "  </thead>\n",
       "  <tbody>\n",
       "    <tr>\n",
       "      <th>fertilizer</th>\n",
       "      <td>1.0</td>\n",
       "      <td>324.0125</td>\n",
       "      <td>324.012500</td>\n",
       "      <td>4.719068</td>\n",
       "      <td>0.038451</td>\n",
       "    </tr>\n",
       "    <tr>\n",
       "      <th>Residual</th>\n",
       "      <td>28.0</td>\n",
       "      <td>1922.4875</td>\n",
       "      <td>68.660268</td>\n",
       "      <td>NaN</td>\n",
       "      <td>NaN</td>\n",
       "    </tr>\n",
       "  </tbody>\n",
       "</table>\n",
       "</div>"
      ],
      "text/plain": [
       "              df     sum_sq     mean_sq         F    PR(>F)\n",
       "fertilizer   1.0   324.0125  324.012500  4.719068  0.038451\n",
       "Residual    28.0  1922.4875   68.660268       NaN       NaN"
      ]
     },
     "execution_count": 21,
     "metadata": {},
     "output_type": "execute_result"
    }
   ],
   "source": [
    "modr = ols('production ~ fertilizer',\n",
    "                data=rank).fit()\n",
    "\n",
    "aov_table = sm.stats.anova_lm(modr)\n",
    "fvalue = aov_table['F'][0] # store f-value for downstream analyzes\n",
    "\n",
    "aov_table"
   ]
  },
  {
   "cell_type": "markdown",
   "metadata": {},
   "source": [
    "different than the solutions."
   ]
  },
  {
   "cell_type": "markdown",
   "metadata": {},
   "source": [
    "# Exercise 2. To be delivered\n",
    "\n",
    "Medley and Clements (1998) investigated the impact of zinc contamination (and other heavy metals) on the\n",
    "diversity of diatom species in the USA Rocky Mountains. The diversity of diatoms (number of species) and\n",
    "degree of zinc contamination (categorized as either of high, medium, low or natural background level) were\n",
    "recorded from between four and six sampling stations within each of six streams known to be polluted. These\n",
    "data were used to test the null hypothesis that there were no differences the diversity of diatoms between\n",
    "different zinc levels. You can find the data in the contamination.txt file.\n",
    "Assess normality/homogeneity of variance using a boxplot of species diversity against zinc group. Test the $H_0$\n",
    "that the population group means are all equal and perform the analysis of variance of species diversity versus\n",
    "zinc-level groups. What is your conclusion?\n",
    "Perform post-hoc test to investigate pairwise mean differences between all groups."
   ]
  },
  {
   "cell_type": "code",
   "execution_count": 23,
   "metadata": {},
   "outputs": [
    {
     "data": {
      "text/html": [
       "<div>\n",
       "<style scoped>\n",
       "    .dataframe tbody tr th:only-of-type {\n",
       "        vertical-align: middle;\n",
       "    }\n",
       "\n",
       "    .dataframe tbody tr th {\n",
       "        vertical-align: top;\n",
       "    }\n",
       "\n",
       "    .dataframe thead th {\n",
       "        text-align: right;\n",
       "    }\n",
       "</style>\n",
       "<table border=\"1\" class=\"dataframe\">\n",
       "  <thead>\n",
       "    <tr style=\"text-align: right;\">\n",
       "      <th></th>\n",
       "      <th>STREAM</th>\n",
       "      <th>ZINC</th>\n",
       "      <th>DIVERSITY</th>\n",
       "    </tr>\n",
       "  </thead>\n",
       "  <tbody>\n",
       "    <tr>\n",
       "      <th>0</th>\n",
       "      <td>Eagle</td>\n",
       "      <td>BACK</td>\n",
       "      <td>2.27</td>\n",
       "    </tr>\n",
       "    <tr>\n",
       "      <th>1</th>\n",
       "      <td>Eagle</td>\n",
       "      <td>HIGH</td>\n",
       "      <td>1.25</td>\n",
       "    </tr>\n",
       "    <tr>\n",
       "      <th>2</th>\n",
       "      <td>Eagle</td>\n",
       "      <td>HIGH</td>\n",
       "      <td>1.15</td>\n",
       "    </tr>\n",
       "    <tr>\n",
       "      <th>3</th>\n",
       "      <td>Eagle</td>\n",
       "      <td>MED</td>\n",
       "      <td>1.62</td>\n",
       "    </tr>\n",
       "    <tr>\n",
       "      <th>4</th>\n",
       "      <td>Blue</td>\n",
       "      <td>BACK</td>\n",
       "      <td>1.70</td>\n",
       "    </tr>\n",
       "  </tbody>\n",
       "</table>\n",
       "</div>"
      ],
      "text/plain": [
       "  STREAM  ZINC  DIVERSITY\n",
       "0  Eagle  BACK       2.27\n",
       "1  Eagle  HIGH       1.25\n",
       "2  Eagle  HIGH       1.15\n",
       "3  Eagle   MED       1.62\n",
       "4   Blue  BACK       1.70"
      ]
     },
     "execution_count": 23,
     "metadata": {},
     "output_type": "execute_result"
    }
   ],
   "source": [
    "zinc=pd.read_table('contamination.txt', sep=' ')\n",
    "zinc.head()"
   ]
  },
  {
   "cell_type": "code",
   "execution_count": 65,
   "metadata": {},
   "outputs": [
    {
     "data": {
      "text/plain": [
       "<matplotlib.axes._subplots.AxesSubplot at 0x17136dac648>"
      ]
     },
     "execution_count": 65,
     "metadata": {},
     "output_type": "execute_result"
    },
    {
     "data": {
      "image/png": "[encoded data removed]",
      "text/plain": [
       "<Figure size 432x288 with 1 Axes>"
      ]
     },
     "metadata": {
      "needs_background": "light"
     },
     "output_type": "display_data"
    }
   ],
   "source": [
    "zinc.boxplot()"
   ]
  },
  {
   "cell_type": "code",
   "execution_count": 55,
   "metadata": {},
   "outputs": [
    {
     "data": {
      "text/plain": [
       "BACK         AxesSubplot(0.1,0.559091;0.363636x0.340909)\n",
       "HIGH    AxesSubplot(0.536364,0.559091;0.363636x0.340909)\n",
       "LOW              AxesSubplot(0.1,0.15;0.363636x0.340909)\n",
       "MED         AxesSubplot(0.536364,0.15;0.363636x0.340909)\n",
       "dtype: object"
      ]
     },
     "execution_count": 55,
     "metadata": {},
     "output_type": "execute_result"
    },
    {
     "data": {
      "image/png": "[encoded data removed]",
      "text/plain": [
       "<Figure size 432x288 with 4 Axes>"
      ]
     },
     "metadata": {
      "needs_background": "light"
     },
     "output_type": "display_data"
    }
   ],
   "source": [
    "zinc.groupby('ZINC').boxplot()"
   ]
  },
  {
   "cell_type": "code",
   "execution_count": 61,
   "metadata": {},
   "outputs": [
    {
     "data": {
      "text/plain": [
       "Text(0.5, 0.98, ' ')"
      ]
     },
     "execution_count": 61,
     "metadata": {},
     "output_type": "execute_result"
    },
    {
     "data": {
      "image/png": "[encoded data removed]",
      "text/plain": [
       "<Figure size 432x288 with 1 Axes>"
      ]
     },
     "metadata": {
      "needs_background": "light"
     },
     "output_type": "display_data"
    }
   ],
   "source": [
    "zinc.boxplot(column = 'DIVERSITY', by='ZINC')\n",
    "plt.title('Diversity vs Zinc groups')\n",
    "plt.ylabel('Diversity')\n",
    "plt.suptitle(' ') #Elimina el títol generat automàticament"
   ]
  },
  {
   "cell_type": "code",
   "execution_count": 63,
   "metadata": {},
   "outputs": [
    {
     "data": {
      "text/plain": [
       "KstestResult(statistic=0.1384456434977126, pvalue=0.4967067018023658)"
      ]
     },
     "execution_count": 63,
     "metadata": {},
     "output_type": "execute_result"
    }
   ],
   "source": [
    "#let's see if it follows a normal distribution\n",
    "total_mean = np.mean(zinc['DIVERSITY'])\n",
    "total_sd = np.std(zinc['DIVERSITY'], ddof = 1)\n",
    "stats.kstest(zinc['DIVERSITY'], 'norm', args = (total_mean, total_sd))"
   ]
  },
  {
   "cell_type": "markdown",
   "metadata": {},
   "source": [
    "Aquí volem comprovar si la distribució és normal. \n",
    "H0: distribution is normal\n",
    "Ha: distribution is not normal\n",
    "As p>0.05 we can't reject H0 and we can say the distribution follows a normal distribution.\n",
    "\n",
    "Seguidament comprovem si les variances són iguals."
   ]
  },
  {
   "cell_type": "code",
   "execution_count": 77,
   "metadata": {},
   "outputs": [],
   "source": [
    "g1=zinc['DIVERSITY'][zinc['ZINC']=='BACK']\n",
    "g2=zinc['DIVERSITY'][zinc['ZINC']=='HIGH']\n",
    "g3=zinc['DIVERSITY'][zinc['ZINC']=='LOW']\n",
    "g4=zinc['DIVERSITY'][zinc['ZINC']=='MED']\n"
   ]
  },
  {
   "cell_type": "code",
   "execution_count": 78,
   "metadata": {},
   "outputs": [
    {
     "data": {
      "text/plain": [
       "LeveneResult(statistic=0.01951130647607844, pvalue=0.9962139657365892)"
      ]
     },
     "execution_count": 78,
     "metadata": {},
     "output_type": "execute_result"
    }
   ],
   "source": [
    "stats.levene(g1,g2,g3,g4)"
   ]
  },
  {
   "cell_type": "markdown",
   "metadata": {},
   "source": [
    "Pvalue is very high: variations are the same\n"
   ]
  },
  {
   "cell_type": "code",
   "execution_count": 80,
   "metadata": {},
   "outputs": [
    {
     "data": {
      "text/html": [
       "<div>\n",
       "<style scoped>\n",
       "    .dataframe tbody tr th:only-of-type {\n",
       "        vertical-align: middle;\n",
       "    }\n",
       "\n",
       "    .dataframe tbody tr th {\n",
       "        vertical-align: top;\n",
       "    }\n",
       "\n",
       "    .dataframe thead th {\n",
       "        text-align: right;\n",
       "    }\n",
       "</style>\n",
       "<table border=\"1\" class=\"dataframe\">\n",
       "  <thead>\n",
       "    <tr style=\"text-align: right;\">\n",
       "      <th></th>\n",
       "      <th>df</th>\n",
       "      <th>sum_sq</th>\n",
       "      <th>mean_sq</th>\n",
       "      <th>F</th>\n",
       "      <th>PR(&gt;F)</th>\n",
       "    </tr>\n",
       "  </thead>\n",
       "  <tbody>\n",
       "    <tr>\n",
       "      <th>ZINC</th>\n",
       "      <td>3.0</td>\n",
       "      <td>2.566612</td>\n",
       "      <td>0.855537</td>\n",
       "      <td>3.93869</td>\n",
       "      <td>0.01756</td>\n",
       "    </tr>\n",
       "    <tr>\n",
       "      <th>Residual</th>\n",
       "      <td>30.0</td>\n",
       "      <td>6.516411</td>\n",
       "      <td>0.217214</td>\n",
       "      <td>NaN</td>\n",
       "      <td>NaN</td>\n",
       "    </tr>\n",
       "  </tbody>\n",
       "</table>\n",
       "</div>"
      ],
      "text/plain": [
       "            df    sum_sq   mean_sq        F   PR(>F)\n",
       "ZINC       3.0  2.566612  0.855537  3.93869  0.01756\n",
       "Residual  30.0  6.516411  0.217214      NaN      NaN"
      ]
     },
     "execution_count": 80,
     "metadata": {},
     "output_type": "execute_result"
    }
   ],
   "source": [
    "modr = ols('DIVERSITY ~ ZINC',\n",
    "                data=zinc).fit()\n",
    "\n",
    "aov_table = sm.stats.anova_lm(modr)\n",
    "fvalue = aov_table['F'][0] # store f-value for downstream analyzes\n",
    "\n",
    "aov_table"
   ]
  },
  {
   "cell_type": "markdown",
   "metadata": {},
   "source": [
    "P is very low (<0.05) therefore one of the groups are different. Let's do a pairwise t-test"
   ]
  },
  {
   "cell_type": "code",
   "execution_count": 83,
   "metadata": {},
   "outputs": [
    {
     "data": {
      "text/html": [
       "<div>\n",
       "<style scoped>\n",
       "    .dataframe tbody tr th:only-of-type {\n",
       "        vertical-align: middle;\n",
       "    }\n",
       "\n",
       "    .dataframe tbody tr th {\n",
       "        vertical-align: top;\n",
       "    }\n",
       "\n",
       "    .dataframe thead th {\n",
       "        text-align: right;\n",
       "    }\n",
       "</style>\n",
       "<table border=\"1\" class=\"dataframe\">\n",
       "  <thead>\n",
       "    <tr style=\"text-align: right;\">\n",
       "      <th></th>\n",
       "      <th>Contrast</th>\n",
       "      <th>A</th>\n",
       "      <th>B</th>\n",
       "      <th>Paired</th>\n",
       "      <th>Parametric</th>\n",
       "      <th>T</th>\n",
       "      <th>dof</th>\n",
       "      <th>Tail</th>\n",
       "      <th>p-unc</th>\n",
       "      <th>p-corr</th>\n",
       "      <th>p-adjust</th>\n",
       "      <th>BF10</th>\n",
       "      <th>hedges</th>\n",
       "    </tr>\n",
       "  </thead>\n",
       "  <tbody>\n",
       "    <tr>\n",
       "      <th>0</th>\n",
       "      <td>ZINC</td>\n",
       "      <td>BACK</td>\n",
       "      <td>HIGH</td>\n",
       "      <td>False</td>\n",
       "      <td>True</td>\n",
       "      <td>2.331709</td>\n",
       "      <td>14.103180</td>\n",
       "      <td>two-sided</td>\n",
       "      <td>0.035046</td>\n",
       "      <td>0.210277</td>\n",
       "      <td>bonf</td>\n",
       "      <td>2.235</td>\n",
       "      <td>1.084039</td>\n",
       "    </tr>\n",
       "    <tr>\n",
       "      <th>1</th>\n",
       "      <td>ZINC</td>\n",
       "      <td>BACK</td>\n",
       "      <td>MED</td>\n",
       "      <td>False</td>\n",
       "      <td>True</td>\n",
       "      <td>0.332326</td>\n",
       "      <td>14.879925</td>\n",
       "      <td>two-sided</td>\n",
       "      <td>0.744279</td>\n",
       "      <td>1.000000</td>\n",
       "      <td>bonf</td>\n",
       "      <td>0.436</td>\n",
       "      <td>0.152925</td>\n",
       "    </tr>\n",
       "    <tr>\n",
       "      <th>2</th>\n",
       "      <td>ZINC</td>\n",
       "      <td>BACK</td>\n",
       "      <td>LOW</td>\n",
       "      <td>False</td>\n",
       "      <td>True</td>\n",
       "      <td>-1.009528</td>\n",
       "      <td>14.000000</td>\n",
       "      <td>two-sided</td>\n",
       "      <td>0.329852</td>\n",
       "      <td>1.000000</td>\n",
       "      <td>bonf</td>\n",
       "      <td>0.601</td>\n",
       "      <td>-0.477231</td>\n",
       "    </tr>\n",
       "    <tr>\n",
       "      <th>3</th>\n",
       "      <td>ZINC</td>\n",
       "      <td>HIGH</td>\n",
       "      <td>MED</td>\n",
       "      <td>False</td>\n",
       "      <td>True</td>\n",
       "      <td>-2.000830</td>\n",
       "      <td>16.000000</td>\n",
       "      <td>two-sided</td>\n",
       "      <td>0.062674</td>\n",
       "      <td>0.376046</td>\n",
       "      <td>bonf</td>\n",
       "      <td>1.493</td>\n",
       "      <td>-0.898286</td>\n",
       "    </tr>\n",
       "    <tr>\n",
       "      <th>4</th>\n",
       "      <td>ZINC</td>\n",
       "      <td>HIGH</td>\n",
       "      <td>LOW</td>\n",
       "      <td>False</td>\n",
       "      <td>True</td>\n",
       "      <td>-3.557823</td>\n",
       "      <td>14.592185</td>\n",
       "      <td>two-sided</td>\n",
       "      <td>0.002974</td>\n",
       "      <td>0.017844</td>\n",
       "      <td>bonf</td>\n",
       "      <td>13.084</td>\n",
       "      <td>-1.645172</td>\n",
       "    </tr>\n",
       "    <tr>\n",
       "      <th>5</th>\n",
       "      <td>ZINC</td>\n",
       "      <td>MED</td>\n",
       "      <td>LOW</td>\n",
       "      <td>False</td>\n",
       "      <td>True</td>\n",
       "      <td>-1.368798</td>\n",
       "      <td>14.999855</td>\n",
       "      <td>two-sided</td>\n",
       "      <td>0.191213</td>\n",
       "      <td>1.000000</td>\n",
       "      <td>bonf</td>\n",
       "      <td>0.78</td>\n",
       "      <td>-0.626487</td>\n",
       "    </tr>\n",
       "  </tbody>\n",
       "</table>\n",
       "</div>"
      ],
      "text/plain": [
       "  Contrast     A     B  Paired  Parametric         T        dof       Tail  \\\n",
       "0     ZINC  BACK  HIGH   False        True  2.331709  14.103180  two-sided   \n",
       "1     ZINC  BACK   MED   False        True  0.332326  14.879925  two-sided   \n",
       "2     ZINC  BACK   LOW   False        True -1.009528  14.000000  two-sided   \n",
       "3     ZINC  HIGH   MED   False        True -2.000830  16.000000  two-sided   \n",
       "4     ZINC  HIGH   LOW   False        True -3.557823  14.592185  two-sided   \n",
       "5     ZINC   MED   LOW   False        True -1.368798  14.999855  two-sided   \n",
       "\n",
       "      p-unc    p-corr p-adjust    BF10    hedges  \n",
       "0  0.035046  0.210277     bonf   2.235  1.084039  \n",
       "1  0.744279  1.000000     bonf   0.436  0.152925  \n",
       "2  0.329852  1.000000     bonf   0.601 -0.477231  \n",
       "3  0.062674  0.376046     bonf   1.493 -0.898286  \n",
       "4  0.002974  0.017844     bonf  13.084 -1.645172  \n",
       "5  0.191213  1.000000     bonf    0.78 -0.626487  "
      ]
     },
     "execution_count": 83,
     "metadata": {},
     "output_type": "execute_result"
    }
   ],
   "source": [
    "pairedt=pg.pairwise_ttests(data = zinc, dv = 'DIVERSITY', \n",
    "                   between = 'ZINC', padjust = 'bonf')\n",
    "pairedt"
   ]
  },
  {
   "cell_type": "markdown",
   "metadata": {},
   "source": [
    "With alpha = 0.05\n",
    "The pairs that are statistically different are"
   ]
  },
  {
   "cell_type": "code",
   "execution_count": 88,
   "metadata": {},
   "outputs": [
    {
     "data": {
      "text/html": [
       "<div>\n",
       "<style scoped>\n",
       "    .dataframe tbody tr th:only-of-type {\n",
       "        vertical-align: middle;\n",
       "    }\n",
       "\n",
       "    .dataframe tbody tr th {\n",
       "        vertical-align: top;\n",
       "    }\n",
       "\n",
       "    .dataframe thead th {\n",
       "        text-align: right;\n",
       "    }\n",
       "</style>\n",
       "<table border=\"1\" class=\"dataframe\">\n",
       "  <thead>\n",
       "    <tr style=\"text-align: right;\">\n",
       "      <th></th>\n",
       "      <th>Contrast</th>\n",
       "      <th>A</th>\n",
       "      <th>B</th>\n",
       "      <th>Paired</th>\n",
       "      <th>Parametric</th>\n",
       "      <th>T</th>\n",
       "      <th>dof</th>\n",
       "      <th>Tail</th>\n",
       "      <th>p-unc</th>\n",
       "      <th>p-corr</th>\n",
       "      <th>p-adjust</th>\n",
       "      <th>BF10</th>\n",
       "      <th>hedges</th>\n",
       "    </tr>\n",
       "  </thead>\n",
       "  <tbody>\n",
       "    <tr>\n",
       "      <th>0</th>\n",
       "      <td>ZINC</td>\n",
       "      <td>BACK</td>\n",
       "      <td>HIGH</td>\n",
       "      <td>False</td>\n",
       "      <td>True</td>\n",
       "      <td>2.331709</td>\n",
       "      <td>14.103180</td>\n",
       "      <td>two-sided</td>\n",
       "      <td>0.035046</td>\n",
       "      <td>0.210277</td>\n",
       "      <td>bonf</td>\n",
       "      <td>2.235</td>\n",
       "      <td>1.084039</td>\n",
       "    </tr>\n",
       "    <tr>\n",
       "      <th>4</th>\n",
       "      <td>ZINC</td>\n",
       "      <td>HIGH</td>\n",
       "      <td>LOW</td>\n",
       "      <td>False</td>\n",
       "      <td>True</td>\n",
       "      <td>-3.557823</td>\n",
       "      <td>14.592185</td>\n",
       "      <td>two-sided</td>\n",
       "      <td>0.002974</td>\n",
       "      <td>0.017844</td>\n",
       "      <td>bonf</td>\n",
       "      <td>13.084</td>\n",
       "      <td>-1.645172</td>\n",
       "    </tr>\n",
       "  </tbody>\n",
       "</table>\n",
       "</div>"
      ],
      "text/plain": [
       "  Contrast     A     B  Paired  Parametric         T        dof       Tail  \\\n",
       "0     ZINC  BACK  HIGH   False        True  2.331709  14.103180  two-sided   \n",
       "4     ZINC  HIGH   LOW   False        True -3.557823  14.592185  two-sided   \n",
       "\n",
       "      p-unc    p-corr p-adjust    BF10    hedges  \n",
       "0  0.035046  0.210277     bonf   2.235  1.084039  \n",
       "4  0.002974  0.017844     bonf  13.084 -1.645172  "
      ]
     },
     "execution_count": 88,
     "metadata": {},
     "output_type": "execute_result"
    }
   ],
   "source": [
    "pairedt[pairedt['p-unc']<0.05]"
   ]
  },
  {
   "cell_type": "markdown",
   "metadata": {},
   "source": [
    "Black - high and high-low are significantly different"
   ]
  },
  {
   "cell_type": "markdown",
   "metadata": {},
   "source": [
    "<h1> Other stuff I tried"
   ]
  },
  {
   "cell_type": "code",
   "execution_count": 24,
   "metadata": {},
   "outputs": [
    {
     "data": {
      "text/html": [
       "<div>\n",
       "<style scoped>\n",
       "    .dataframe tbody tr th:only-of-type {\n",
       "        vertical-align: middle;\n",
       "    }\n",
       "\n",
       "    .dataframe tbody tr th {\n",
       "        vertical-align: top;\n",
       "    }\n",
       "\n",
       "    .dataframe thead tr th {\n",
       "        text-align: left;\n",
       "    }\n",
       "\n",
       "    .dataframe thead tr:last-of-type th {\n",
       "        text-align: right;\n",
       "    }\n",
       "</style>\n",
       "<table border=\"1\" class=\"dataframe\">\n",
       "  <thead>\n",
       "    <tr>\n",
       "      <th></th>\n",
       "      <th colspan=\"8\" halign=\"left\">DIVERSITY</th>\n",
       "    </tr>\n",
       "    <tr>\n",
       "      <th></th>\n",
       "      <th>count</th>\n",
       "      <th>mean</th>\n",
       "      <th>std</th>\n",
       "      <th>min</th>\n",
       "      <th>25%</th>\n",
       "      <th>50%</th>\n",
       "      <th>75%</th>\n",
       "      <th>max</th>\n",
       "    </tr>\n",
       "    <tr>\n",
       "      <th>ZINC</th>\n",
       "      <th></th>\n",
       "      <th></th>\n",
       "      <th></th>\n",
       "      <th></th>\n",
       "      <th></th>\n",
       "      <th></th>\n",
       "      <th></th>\n",
       "      <th></th>\n",
       "    </tr>\n",
       "  </thead>\n",
       "  <tbody>\n",
       "    <tr>\n",
       "      <th>BACK</th>\n",
       "      <td>8.0</td>\n",
       "      <td>1.797500</td>\n",
       "      <td>0.485261</td>\n",
       "      <td>0.76</td>\n",
       "      <td>1.6575</td>\n",
       "      <td>1.935</td>\n",
       "      <td>2.0875</td>\n",
       "      <td>2.27</td>\n",
       "    </tr>\n",
       "    <tr>\n",
       "      <th>HIGH</th>\n",
       "      <td>9.0</td>\n",
       "      <td>1.277778</td>\n",
       "      <td>0.426872</td>\n",
       "      <td>0.63</td>\n",
       "      <td>1.0400</td>\n",
       "      <td>1.250</td>\n",
       "      <td>1.4300</td>\n",
       "      <td>1.90</td>\n",
       "    </tr>\n",
       "    <tr>\n",
       "      <th>LOW</th>\n",
       "      <td>8.0</td>\n",
       "      <td>2.032500</td>\n",
       "      <td>0.444996</td>\n",
       "      <td>1.40</td>\n",
       "      <td>1.7875</td>\n",
       "      <td>1.990</td>\n",
       "      <td>2.2300</td>\n",
       "      <td>2.83</td>\n",
       "    </tr>\n",
       "    <tr>\n",
       "      <th>MED</th>\n",
       "      <td>9.0</td>\n",
       "      <td>1.717778</td>\n",
       "      <td>0.503010</td>\n",
       "      <td>0.80</td>\n",
       "      <td>1.6200</td>\n",
       "      <td>1.940</td>\n",
       "      <td>2.0600</td>\n",
       "      <td>2.19</td>\n",
       "    </tr>\n",
       "  </tbody>\n",
       "</table>\n",
       "</div>"
      ],
      "text/plain": [
       "     DIVERSITY                                                       \n",
       "         count      mean       std   min     25%    50%     75%   max\n",
       "ZINC                                                                 \n",
       "BACK       8.0  1.797500  0.485261  0.76  1.6575  1.935  2.0875  2.27\n",
       "HIGH       9.0  1.277778  0.426872  0.63  1.0400  1.250  1.4300  1.90\n",
       "LOW        8.0  2.032500  0.444996  1.40  1.7875  1.990  2.2300  2.83\n",
       "MED        9.0  1.717778  0.503010  0.80  1.6200  1.940  2.0600  2.19"
      ]
     },
     "execution_count": 24,
     "metadata": {},
     "output_type": "execute_result"
    }
   ],
   "source": [
    "zinc.groupby('ZINC').describe()"
   ]
  },
  {
   "cell_type": "code",
   "execution_count": 52,
   "metadata": {},
   "outputs": [
    {
     "data": {
      "text/html": [
       "<div>\n",
       "<style scoped>\n",
       "    .dataframe tbody tr th:only-of-type {\n",
       "        vertical-align: middle;\n",
       "    }\n",
       "\n",
       "    .dataframe tbody tr th {\n",
       "        vertical-align: top;\n",
       "    }\n",
       "\n",
       "    .dataframe thead th {\n",
       "        text-align: right;\n",
       "    }\n",
       "</style>\n",
       "<table border=\"1\" class=\"dataframe\">\n",
       "  <thead>\n",
       "    <tr style=\"text-align: right;\">\n",
       "      <th></th>\n",
       "      <th>DIVERSITY</th>\n",
       "    </tr>\n",
       "    <tr>\n",
       "      <th>ZINC</th>\n",
       "      <th></th>\n",
       "    </tr>\n",
       "  </thead>\n",
       "  <tbody>\n",
       "    <tr>\n",
       "      <th>BACK</th>\n",
       "      <td>1.797500</td>\n",
       "    </tr>\n",
       "    <tr>\n",
       "      <th>HIGH</th>\n",
       "      <td>1.277778</td>\n",
       "    </tr>\n",
       "    <tr>\n",
       "      <th>LOW</th>\n",
       "      <td>2.032500</td>\n",
       "    </tr>\n",
       "    <tr>\n",
       "      <th>MED</th>\n",
       "      <td>1.717778</td>\n",
       "    </tr>\n",
       "  </tbody>\n",
       "</table>\n",
       "</div>"
      ],
      "text/plain": [
       "      DIVERSITY\n",
       "ZINC           \n",
       "BACK   1.797500\n",
       "HIGH   1.277778\n",
       "LOW    2.032500\n",
       "MED    1.717778"
      ]
     },
     "execution_count": 52,
     "metadata": {},
     "output_type": "execute_result"
    }
   ],
   "source": [
    "means= zinc.groupby('ZINC').agg('mean')\n",
    "means.head()"
   ]
  },
  {
   "cell_type": "code",
   "execution_count": null,
   "metadata": {},
   "outputs": [],
   "source": []
  },
  {
   "cell_type": "code",
   "execution_count": 36,
   "metadata": {},
   "outputs": [
    {
     "data": {
      "text/plain": [
       "4"
      ]
     },
     "execution_count": 36,
     "metadata": {},
     "output_type": "execute_result"
    }
   ],
   "source": [
    "len(means)"
   ]
  },
  {
   "cell_type": "code",
   "execution_count": 43,
   "metadata": {},
   "outputs": [
    {
     "name": "stdout",
     "output_type": "stream",
     "text": [
      "<pandas.core.indexing._LocIndexer object at 0x00000171367329F8>\n"
     ]
    }
   ],
   "source": [
    "x=means.loc(0)\n",
    "print(x)"
   ]
  },
  {
   "cell_type": "code",
   "execution_count": 33,
   "metadata": {
    "scrolled": true
   },
   "outputs": [
    {
     "name": "stdout",
     "output_type": "stream",
     "text": [
      "DIVERSITY    1.7975\n",
      "dtype: float64 DIVERSITY    1.277778\n",
      "dtype: float64 DIVERSITY    2.0325\n",
      "dtype: float64 DIVERSITY    1.717778\n",
      "dtype: float64\n"
     ]
    }
   ],
   "source": [
    "back=zinc[zinc.ZINC == 'BACK'].mean()\n",
    "high=zinc[zinc.ZINC == 'HIGH'].mean()\n",
    "low=zinc[zinc.ZINC == 'LOW'].mean()\n",
    "med=zinc[zinc.ZINC == 'MED'].mean()\n",
    "print(back, high, low, med)"
   ]
  },
  {
   "cell_type": "code",
   "execution_count": 72,
   "metadata": {},
   "outputs": [],
   "source": [
    "x={}\n",
    "for i in range(len(means)):\n",
    "    x[i] = means.DIVERSITY[i]\n",
    "        "
   ]
  },
  {
   "cell_type": "code",
   "execution_count": 73,
   "metadata": {},
   "outputs": [
    {
     "data": {
      "text/plain": [
       "{0: 1.7974999999999999,\n",
       " 1: 1.2777777777777777,\n",
       " 2: 2.0324999999999998,\n",
       " 3: 1.7177777777777778}"
      ]
     },
     "execution_count": 73,
     "metadata": {},
     "output_type": "execute_result"
    }
   ],
   "source": [
    "x"
   ]
  },
  {
   "cell_type": "code",
   "execution_count": 74,
   "metadata": {},
   "outputs": [
    {
     "data": {
      "text/plain": [
       "1.2777777777777777"
      ]
     },
     "execution_count": 74,
     "metadata": {},
     "output_type": "execute_result"
    }
   ],
   "source": [
    "x[1]"
   ]
  },
  {
   "cell_type": "markdown",
   "metadata": {},
   "source": [
    "# Functions' guide\n",
    "\n",
    "Here you can find a brief help section for the most relevant functions and arguments used through the session. For detailled information about specific functions and extra functionalities remember that you can check the manual of a function by typing *help(your_function)* or just using Google. \n",
    "\n",
    "* **pd.read_table(data, sep = ' ')**\n",
    "\n",
    "    Read general delimited file into DataFrame.\n",
    "\n",
    "    sep = ' ' In this data frame we don't have the default tabulator separating the data columns. Instead, we have a whitespace, so we have to specify it to the the function via this argument.\n",
    "    \n",
    "* **stats.kstest(data, 'norm', args = (mean, sd))**\n",
    "\n",
    "    Performs the one sample Kolmogorov-Smirnov test for goodness of fit.\n",
    "    \n",
    "    We specify we want to test our data against a normal distribution with 'norm' argument. In addition, we specify we want that normal distribution to have a given mean and standard deviation with args = ().\n",
    "    \n",
    "    \n",
    "* **stats.levene(group1, group2, group3, ...)**\n",
    "\n",
    "    Perform Levene test for equal variances.\n",
    "    \n",
    "    You just need to provide separately the data of the groups you are testing for.\n",
    "    \n",
    "    \n",
    "* **ols('variable1 ~ variable2', data=data).fit()**\n",
    "\n",
    "    Create a model from a formula and dataframe\n",
    "\n",
    "    *variable1 ~ variable2* is the notation expected from the function.  It specifies that variable1 is the dependent variable and variable2 the independent variable. These variables should be present as columns of your data (long format data).\n",
    "    \n",
    "    *ols()* function creates the model and *fit()* is for fitting it.     \n",
    "    \n",
    "\n",
    "* **sm.stats.anova_lm(mod)**\n",
    "\n",
    "    Anova table for one or more fitted linear models\n",
    "    \n",
    "    mod is the fitted model created with the *ols().fit()* functions\n",
    "    \n",
    "\n",
    "* **pg.pairwise_ttests(data, dv = continous_variable_name,** \n",
    "    **between = categorical_variable_name, padjust = 'bonf')**\n",
    "\n",
    "    Pairwise T-tests.\n",
    "\n",
    "    Tests for multiple comparisons. In this case, we are using pairwise t-test.\n",
    "    \n",
    "    dv specifies the continuos variable (pumpkin production in this case)\n",
    "    \n",
    "    between refers to to categorial variable (type of fertilizer in this case)\n",
    "    \n",
    "    padjust indicates the type of multiple testing correction we want to use. In this case we want bonferroni. Other options are, for example, 'holm' or 'fdr_bh'"
   ]
  }
 ],
 "metadata": {
  "kernelspec": {
   "display_name": "Python 3",
   "language": "python",
   "name": "python3"
  },
  "language_info": {
   "codemirror_mode": {
    "name": "ipython",
    "version": 3
   },
   "file_extension": ".py",
   "mimetype": "text/x-python",
   "name": "python",
   "nbconvert_exporter": "python",
   "pygments_lexer": "ipython3",
   "version": "3.7.6"
  }
 },
 "nbformat": 4,
 "nbformat_minor": 2
}
