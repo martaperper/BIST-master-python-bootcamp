{
 "cells": [
  {
   "cell_type": "markdown",
   "metadata": {},
   "source": [
    "_Pablo Latorre and Hafid Laayouni_\n",
    "\n",
    "You need to install the following Python packages: pandas, numpy, matplotlib, statsmodels, scipy and pingouin.\n",
    "\n",
    "You can do it in Linux, for instance, with [pip installer](https://pip.pypa.io/en/stable/installing/) by typing the following command in the terminal:\n",
    "\n",
    "__sudo pip install pandas numpy matplotlib statsmodels scipy pingouin__\n",
    "\n",
    "First of all you have to import in Python the following packages:"
   ]
  },
  {
   "cell_type": "code",
   "execution_count": 55,
   "metadata": {},
   "outputs": [],
   "source": [
    "# loading required functions and modules #\n",
    "import pandas as pd\n",
    "import matplotlib.pyplot as plt\n",
    "import numpy as np\n",
    "import statsmodels.api as sm\n",
    "from statsmodels.formula.api import ols\n",
    "import scipy.stats as stats\n",
    "from statsmodels.graphics.factorplots import interaction_plot\n",
    "import pingouin as pg"
   ]
  },
  {
   "cell_type": "markdown",
   "metadata": {},
   "source": [
    "Besides, at the end of this document there is a **Functions' guide** section with practical information about some of the functions used in this session."
   ]
  },
  {
   "cell_type": "markdown",
   "metadata": {},
   "source": [
    "# Introduction to Two-way ANOVA\n",
    "\n",
    "## Definition\n",
    "\n",
    "In the last practical lesson we studied the relationship between one continuous dependent variable and one\n",
    "categorical independent variable. However, when we have more than one independent categorical variable we have to use _N-way_ ANOVA. We will see the case when we have two independent categorical variables, so we will use a _two-way_ ANOVA.\n",
    "\n",
    "## Assumptions\n",
    "\n",
    "Remember, in order to use the ANOVA test statistic, three main assumptions must be satisfied:\n",
    "\n",
    "* The dependent variable is normally distributed in each group.\n",
    "\n",
    "* There is homogeneity of variances, the population variances in each group are equal.\n",
    "\n",
    "* Independence of observations within and across groups.\n",
    "\n",
    "# Example\n",
    "\n",
    "A researcher wanted to study the effects of adult density and season on egg mass production by intertidal limpets. He manipulated the density of adults limpets within enclosures (8, 15, 30 and 45 individuals per enclosure) during two seasons (winter-spring and summer-autumn). Three replicate enclosures per density/season combination were used.\n",
    "\n",
    "![Figure 1: Limpet](limpet.png \"limpet\")\n",
    "\n",
    "First, import the limpet data set (_limpet.csv_). Look at the data: how many factors do we have? How many categories are in each factor? What is the number of replicates?\n",
    "\n",
    "**HINT**: You can use *pd.read_csv()* function to open a .csv file and *groupby()* function to group your continous variable ('EGGS') respect to the categorical variables ('DENSITY' and 'SEASON')."
   ]
  },
  {
   "cell_type": "code",
   "execution_count": 56,
   "metadata": {},
   "outputs": [
    {
     "data": {
      "text/html": [
       "<div>\n",
       "<style scoped>\n",
       "    .dataframe tbody tr th:only-of-type {\n",
       "        vertical-align: middle;\n",
       "    }\n",
       "\n",
       "    .dataframe tbody tr th {\n",
       "        vertical-align: top;\n",
       "    }\n",
       "\n",
       "    .dataframe thead th {\n",
       "        text-align: right;\n",
       "    }\n",
       "</style>\n",
       "<table border=\"1\" class=\"dataframe\">\n",
       "  <thead>\n",
       "    <tr style=\"text-align: right;\">\n",
       "      <th></th>\n",
       "      <th>DENSITY</th>\n",
       "      <th>SEASON</th>\n",
       "      <th>EGGS</th>\n",
       "    </tr>\n",
       "  </thead>\n",
       "  <tbody>\n",
       "    <tr>\n",
       "      <th>0</th>\n",
       "      <td>8</td>\n",
       "      <td>spring</td>\n",
       "      <td>2.875</td>\n",
       "    </tr>\n",
       "    <tr>\n",
       "      <th>1</th>\n",
       "      <td>8</td>\n",
       "      <td>spring</td>\n",
       "      <td>2.625</td>\n",
       "    </tr>\n",
       "    <tr>\n",
       "      <th>2</th>\n",
       "      <td>8</td>\n",
       "      <td>spring</td>\n",
       "      <td>1.750</td>\n",
       "    </tr>\n",
       "    <tr>\n",
       "      <th>3</th>\n",
       "      <td>8</td>\n",
       "      <td>summer</td>\n",
       "      <td>2.125</td>\n",
       "    </tr>\n",
       "    <tr>\n",
       "      <th>4</th>\n",
       "      <td>8</td>\n",
       "      <td>summer</td>\n",
       "      <td>1.500</td>\n",
       "    </tr>\n",
       "  </tbody>\n",
       "</table>\n",
       "</div>"
      ],
      "text/plain": [
       "   DENSITY  SEASON   EGGS\n",
       "0        8  spring  2.875\n",
       "1        8  spring  2.625\n",
       "2        8  spring  1.750\n",
       "3        8  summer  2.125\n",
       "4        8  summer  1.500"
      ]
     },
     "execution_count": 56,
     "metadata": {},
     "output_type": "execute_result"
    }
   ],
   "source": [
    "df=pd.read_csv('limpet.csv')\n",
    "df.head()"
   ]
  },
  {
   "cell_type": "code",
   "execution_count": 57,
   "metadata": {},
   "outputs": [
    {
     "data": {
      "text/html": [
       "<div>\n",
       "<style scoped>\n",
       "    .dataframe tbody tr th:only-of-type {\n",
       "        vertical-align: middle;\n",
       "    }\n",
       "\n",
       "    .dataframe tbody tr th {\n",
       "        vertical-align: top;\n",
       "    }\n",
       "\n",
       "    .dataframe thead th {\n",
       "        text-align: right;\n",
       "    }\n",
       "</style>\n",
       "<table border=\"1\" class=\"dataframe\">\n",
       "  <thead>\n",
       "    <tr style=\"text-align: right;\">\n",
       "      <th></th>\n",
       "      <th></th>\n",
       "      <th>EGGS</th>\n",
       "    </tr>\n",
       "    <tr>\n",
       "      <th>DENSITY</th>\n",
       "      <th>SEASON</th>\n",
       "      <th></th>\n",
       "    </tr>\n",
       "  </thead>\n",
       "  <tbody>\n",
       "    <tr>\n",
       "      <th rowspan=\"2\" valign=\"top\">8</th>\n",
       "      <th>spring</th>\n",
       "      <td>2.416667</td>\n",
       "    </tr>\n",
       "    <tr>\n",
       "      <th>summer</th>\n",
       "      <td>1.833333</td>\n",
       "    </tr>\n",
       "    <tr>\n",
       "      <th rowspan=\"2\" valign=\"top\">15</th>\n",
       "      <th>spring</th>\n",
       "      <td>2.177333</td>\n",
       "    </tr>\n",
       "    <tr>\n",
       "      <th>summer</th>\n",
       "      <td>1.177667</td>\n",
       "    </tr>\n",
       "    <tr>\n",
       "      <th rowspan=\"2\" valign=\"top\">30</th>\n",
       "      <th>spring</th>\n",
       "      <td>1.565333</td>\n",
       "    </tr>\n",
       "    <tr>\n",
       "      <th>summer</th>\n",
       "      <td>0.811333</td>\n",
       "    </tr>\n",
       "    <tr>\n",
       "      <th rowspan=\"2\" valign=\"top\">45</th>\n",
       "      <th>spring</th>\n",
       "      <td>1.199667</td>\n",
       "    </tr>\n",
       "    <tr>\n",
       "      <th>summer</th>\n",
       "      <td>0.592667</td>\n",
       "    </tr>\n",
       "  </tbody>\n",
       "</table>\n",
       "</div>"
      ],
      "text/plain": [
       "                    EGGS\n",
       "DENSITY SEASON          \n",
       "8       spring  2.416667\n",
       "        summer  1.833333\n",
       "15      spring  2.177333\n",
       "        summer  1.177667\n",
       "30      spring  1.565333\n",
       "        summer  0.811333\n",
       "45      spring  1.199667\n",
       "        summer  0.592667"
      ]
     },
     "execution_count": 57,
     "metadata": {},
     "output_type": "execute_result"
    }
   ],
   "source": [
    "df.groupby(['DENSITY','SEASON']).agg('mean')\n"
   ]
  },
  {
   "cell_type": "markdown",
   "metadata": {},
   "source": [
    "In this experiment both density and season were considered fixed factors, and thus the data represent a Model I design. Take a look at the dispersion of the variable of interest (number of Eggs) depending on each factor separately and together. For that, we can take a look to boxplots."
   ]
  },
  {
   "cell_type": "code",
   "execution_count": 15,
   "metadata": {},
   "outputs": [
    {
     "data": {
      "text/plain": [
       "{'whiskers': [<matplotlib.lines.Line2D at 0x25c4b089888>,\n",
       "  <matplotlib.lines.Line2D at 0x25c4b1cae48>],\n",
       " 'caps': [<matplotlib.lines.Line2D at 0x25c4b1caf48>,\n",
       "  <matplotlib.lines.Line2D at 0x25c4b1cafc8>],\n",
       " 'boxes': [<matplotlib.lines.Line2D at 0x25c4b1ca208>],\n",
       " 'medians': [<matplotlib.lines.Line2D at 0x25c4b1d1ec8>],\n",
       " 'fliers': [<matplotlib.lines.Line2D at 0x25c4b1d1fc8>],\n",
       " 'means': []}"
      ]
     },
     "execution_count": 15,
     "metadata": {},
     "output_type": "execute_result"
    },
    {
     "data": {
      "image/png": "[encoded data removed]",
      "text/plain": [
       "<Figure size 432x288 with 1 Axes>"
      ]
     },
     "metadata": {
      "needs_background": "light"
     },
     "output_type": "display_data"
    }
   ],
   "source": [
    "plt.boxplot(df.EGGS)"
   ]
  },
  {
   "cell_type": "code",
   "execution_count": 58,
   "metadata": {},
   "outputs": [
    {
     "data": {
      "text/plain": [
       "array([ 8, 15, 30, 45], dtype=int64)"
      ]
     },
     "execution_count": 58,
     "metadata": {},
     "output_type": "execute_result"
    }
   ],
   "source": [
    "#We have to treat density and season as a category:\n",
    "df['SEASON'].unique()\n",
    "df['DENSITY'].unique()"
   ]
  },
  {
   "cell_type": "code",
   "execution_count": 60,
   "metadata": {},
   "outputs": [
    {
     "data": {
      "text/plain": [
       "<matplotlib.axes._subplots.AxesSubplot at 0x1f0c33464c8>"
      ]
     },
     "execution_count": 60,
     "metadata": {},
     "output_type": "execute_result"
    },
    {
     "data": {
      "image/png": "[encoded data removed]",
      "text/plain": [
       "<Figure size 648x432 with 1 Axes>"
      ]
     },
     "metadata": {
      "needs_background": "light"
     },
     "output_type": "display_data"
    }
   ],
   "source": [
    "df.groupby(['DENSITY','SEASON']).boxplot(df.EGGS, figsize = (9,6))"
   ]
  },
  {
   "cell_type": "code",
   "execution_count": 61,
   "metadata": {},
   "outputs": [
    {
     "data": {
      "image/png": "[encoded data removed]",
      "text/plain": [
       "<Figure size 648x432 with 1 Axes>"
      ]
     },
     "metadata": {
      "needs_background": "light"
     },
     "output_type": "display_data"
    }
   ],
   "source": [
    "df.boxplot(column = 'EGGS', by = ['DENSITY','SEASON'], figsize = (9,6))\n",
    "plt.show()"
   ]
  },
  {
   "cell_type": "markdown",
   "metadata": {},
   "source": [
    "No evidence of non-normality (boxplots are not wildly asymmetrical).\n",
    "\n",
    "To ckeck normality in a formal way use the statistical test Kolmogorov-Smirnov."
   ]
  },
  {
   "cell_type": "code",
   "execution_count": 17,
   "metadata": {},
   "outputs": [
    {
     "data": {
      "text/plain": [
       "KstestResult(statistic=0.11160795826594538, pvalue=0.926028526039178)"
      ]
     },
     "execution_count": 17,
     "metadata": {},
     "output_type": "execute_result"
    }
   ],
   "source": [
    "mean = np.mean(df['EGGS'])\n",
    "sd = np.std(df['EGGS'], ddof = 1)\n",
    "stats.kstest(df['EGGS'], 'norm', args = (mean, sd))"
   ]
  },
  {
   "cell_type": "markdown",
   "metadata": {},
   "source": [
    "P-value is high, so we accept the null hypothesis: data follows a normal distribution."
   ]
  },
  {
   "cell_type": "markdown",
   "metadata": {},
   "source": [
    "To perform the two-way ANOVA we have to write the variable of interest as a function of the two factors and their interaction. \n",
    "\n",
    "**HINT**: You can take into account both factors together plus their interaction with the following expression: EGGS ~ C(DENSITY) + C(SEASON) + C(DENSITY) : C(SEASON), where C() indicates that a variable is categorical. Wouldn't be needed in season because it's a string. If not density would be considered an integer.\n",
    "\n",
    "We could also use 'EGGS ~ C(DENSITY)*C(SEASON)"
   ]
  },
  {
   "cell_type": "code",
   "execution_count": 51,
   "metadata": {},
   "outputs": [
    {
     "data": {
      "text/html": [
       "<div>\n",
       "<style scoped>\n",
       "    .dataframe tbody tr th:only-of-type {\n",
       "        vertical-align: middle;\n",
       "    }\n",
       "\n",
       "    .dataframe tbody tr th {\n",
       "        vertical-align: top;\n",
       "    }\n",
       "\n",
       "    .dataframe thead th {\n",
       "        text-align: right;\n",
       "    }\n",
       "</style>\n",
       "<table border=\"1\" class=\"dataframe\">\n",
       "  <thead>\n",
       "    <tr style=\"text-align: right;\">\n",
       "      <th></th>\n",
       "      <th>df</th>\n",
       "      <th>sum_sq</th>\n",
       "      <th>mean_sq</th>\n",
       "      <th>F</th>\n",
       "      <th>PR(&gt;F)</th>\n",
       "    </tr>\n",
       "  </thead>\n",
       "  <tbody>\n",
       "    <tr>\n",
       "      <th>C(DENSITY)</th>\n",
       "      <td>3.0</td>\n",
       "      <td>5.284139</td>\n",
       "      <td>1.761380</td>\n",
       "      <td>9.669120</td>\n",
       "      <td>0.000704</td>\n",
       "    </tr>\n",
       "    <tr>\n",
       "      <th>C(SEASON)</th>\n",
       "      <td>1.0</td>\n",
       "      <td>3.250176</td>\n",
       "      <td>3.250176</td>\n",
       "      <td>17.841890</td>\n",
       "      <td>0.000645</td>\n",
       "    </tr>\n",
       "    <tr>\n",
       "      <th>C(DENSITY):C(SEASON)</th>\n",
       "      <td>3.0</td>\n",
       "      <td>0.164688</td>\n",
       "      <td>0.054896</td>\n",
       "      <td>0.301353</td>\n",
       "      <td>0.823955</td>\n",
       "    </tr>\n",
       "    <tr>\n",
       "      <th>Residual</th>\n",
       "      <td>16.0</td>\n",
       "      <td>2.914647</td>\n",
       "      <td>0.182165</td>\n",
       "      <td>NaN</td>\n",
       "      <td>NaN</td>\n",
       "    </tr>\n",
       "  </tbody>\n",
       "</table>\n",
       "</div>"
      ],
      "text/plain": [
       "                        df    sum_sq   mean_sq          F    PR(>F)\n",
       "C(DENSITY)             3.0  5.284139  1.761380   9.669120  0.000704\n",
       "C(SEASON)              1.0  3.250176  3.250176  17.841890  0.000645\n",
       "C(DENSITY):C(SEASON)   3.0  0.164688  0.054896   0.301353  0.823955\n",
       "Residual              16.0  2.914647  0.182165        NaN       NaN"
      ]
     },
     "execution_count": 51,
     "metadata": {},
     "output_type": "execute_result"
    }
   ],
   "source": [
    "mod=ols('EGGS ~ C(DENSITY) + C(SEASON) + C(DENSITY):C(SEASON)',data=df).fit()\n",
    "sm.stats.anova_lm(mod)"
   ]
  },
  {
   "cell_type": "markdown",
   "metadata": {},
   "source": [
    "Looks like both season and density affect eggs but that there's not really an interaction between them. \n",
    "\n",
    "Effect size: That's what we should calculate in order to get importance. From the table, we could argue that season plays a more important role than density because F is larger, but apparently we shouldn't report it that way. p value is about statistical significance, not practical significance: ability to change something. "
   ]
  },
  {
   "cell_type": "markdown",
   "metadata": {},
   "source": [
    "The conclusion is that both the density and the season affect the number of eggs, but there is no interaction\n",
    "between the two factors. As we have seen that the means of each category of density and season are different,\n",
    "we will apply a *pairwise t-test* on each factor."
   ]
  },
  {
   "cell_type": "code",
   "execution_count": 62,
   "metadata": {},
   "outputs": [
    {
     "data": {
      "text/html": [
       "<div>\n",
       "<style scoped>\n",
       "    .dataframe tbody tr th:only-of-type {\n",
       "        vertical-align: middle;\n",
       "    }\n",
       "\n",
       "    .dataframe tbody tr th {\n",
       "        vertical-align: top;\n",
       "    }\n",
       "\n",
       "    .dataframe thead th {\n",
       "        text-align: right;\n",
       "    }\n",
       "</style>\n",
       "<table border=\"1\" class=\"dataframe\">\n",
       "  <thead>\n",
       "    <tr style=\"text-align: right;\">\n",
       "      <th></th>\n",
       "      <th>Contrast</th>\n",
       "      <th>A</th>\n",
       "      <th>B</th>\n",
       "      <th>Paired</th>\n",
       "      <th>Parametric</th>\n",
       "      <th>T</th>\n",
       "      <th>dof</th>\n",
       "      <th>Tail</th>\n",
       "      <th>p-unc</th>\n",
       "      <th>BF10</th>\n",
       "      <th>hedges</th>\n",
       "    </tr>\n",
       "  </thead>\n",
       "  <tbody>\n",
       "    <tr>\n",
       "      <th>0</th>\n",
       "      <td>SEASON</td>\n",
       "      <td>spring</td>\n",
       "      <td>summer</td>\n",
       "      <td>False</td>\n",
       "      <td>True</td>\n",
       "      <td>2.92396</td>\n",
       "      <td>22.0</td>\n",
       "      <td>two-sided</td>\n",
       "      <td>0.00786</td>\n",
       "      <td>6.159</td>\n",
       "      <td>1.15254</td>\n",
       "    </tr>\n",
       "  </tbody>\n",
       "</table>\n",
       "</div>"
      ],
      "text/plain": [
       "  Contrast       A       B  Paired  Parametric        T   dof       Tail  \\\n",
       "0   SEASON  spring  summer   False        True  2.92396  22.0  two-sided   \n",
       "\n",
       "     p-unc   BF10   hedges  \n",
       "0  0.00786  6.159  1.15254  "
      ]
     },
     "execution_count": 62,
     "metadata": {},
     "output_type": "execute_result"
    }
   ],
   "source": [
    "pg.pairwise_ttests(df, dv = 'EGGS', between = 'SEASON', padjust = 'bonf') #it doesn't do a correction because there's only one pair."
   ]
  },
  {
   "cell_type": "markdown",
   "metadata": {},
   "source": [
    "Spring and summer don't get the same results"
   ]
  },
  {
   "cell_type": "code",
   "execution_count": 21,
   "metadata": {},
   "outputs": [
    {
     "data": {
      "text/html": [
       "<div>\n",
       "<style scoped>\n",
       "    .dataframe tbody tr th:only-of-type {\n",
       "        vertical-align: middle;\n",
       "    }\n",
       "\n",
       "    .dataframe tbody tr th {\n",
       "        vertical-align: top;\n",
       "    }\n",
       "\n",
       "    .dataframe thead th {\n",
       "        text-align: right;\n",
       "    }\n",
       "</style>\n",
       "<table border=\"1\" class=\"dataframe\">\n",
       "  <thead>\n",
       "    <tr style=\"text-align: right;\">\n",
       "      <th></th>\n",
       "      <th>Contrast</th>\n",
       "      <th>A</th>\n",
       "      <th>B</th>\n",
       "      <th>Paired</th>\n",
       "      <th>Parametric</th>\n",
       "      <th>T</th>\n",
       "      <th>dof</th>\n",
       "      <th>Tail</th>\n",
       "      <th>p-unc</th>\n",
       "      <th>p-corr</th>\n",
       "      <th>p-adjust</th>\n",
       "      <th>BF10</th>\n",
       "      <th>hedges</th>\n",
       "    </tr>\n",
       "  </thead>\n",
       "  <tbody>\n",
       "    <tr>\n",
       "      <th>0</th>\n",
       "      <td>DENSITY</td>\n",
       "      <td>8</td>\n",
       "      <td>15</td>\n",
       "      <td>False</td>\n",
       "      <td>True</td>\n",
       "      <td>1.281540</td>\n",
       "      <td>10.0</td>\n",
       "      <td>two-sided</td>\n",
       "      <td>0.228921</td>\n",
       "      <td>1.000000</td>\n",
       "      <td>bonf</td>\n",
       "      <td>0.771</td>\n",
       "      <td>0.682983</td>\n",
       "    </tr>\n",
       "    <tr>\n",
       "      <th>1</th>\n",
       "      <td>DENSITY</td>\n",
       "      <td>8</td>\n",
       "      <td>30</td>\n",
       "      <td>False</td>\n",
       "      <td>True</td>\n",
       "      <td>2.795141</td>\n",
       "      <td>10.0</td>\n",
       "      <td>two-sided</td>\n",
       "      <td>0.018952</td>\n",
       "      <td>0.113711</td>\n",
       "      <td>bonf</td>\n",
       "      <td>3.386</td>\n",
       "      <td>1.489639</td>\n",
       "    </tr>\n",
       "    <tr>\n",
       "      <th>2</th>\n",
       "      <td>DENSITY</td>\n",
       "      <td>8</td>\n",
       "      <td>45</td>\n",
       "      <td>False</td>\n",
       "      <td>True</td>\n",
       "      <td>4.627887</td>\n",
       "      <td>10.0</td>\n",
       "      <td>two-sided</td>\n",
       "      <td>0.000939</td>\n",
       "      <td>0.005635</td>\n",
       "      <td>bonf</td>\n",
       "      <td>29.585</td>\n",
       "      <td>2.466380</td>\n",
       "    </tr>\n",
       "    <tr>\n",
       "      <th>3</th>\n",
       "      <td>DENSITY</td>\n",
       "      <td>15</td>\n",
       "      <td>30</td>\n",
       "      <td>False</td>\n",
       "      <td>True</td>\n",
       "      <td>1.305124</td>\n",
       "      <td>10.0</td>\n",
       "      <td>two-sided</td>\n",
       "      <td>0.221082</td>\n",
       "      <td>1.000000</td>\n",
       "      <td>bonf</td>\n",
       "      <td>0.785</td>\n",
       "      <td>0.695551</td>\n",
       "    </tr>\n",
       "    <tr>\n",
       "      <th>4</th>\n",
       "      <td>DENSITY</td>\n",
       "      <td>15</td>\n",
       "      <td>45</td>\n",
       "      <td>False</td>\n",
       "      <td>True</td>\n",
       "      <td>2.487161</td>\n",
       "      <td>10.0</td>\n",
       "      <td>two-sided</td>\n",
       "      <td>0.032146</td>\n",
       "      <td>0.192877</td>\n",
       "      <td>bonf</td>\n",
       "      <td>2.4</td>\n",
       "      <td>1.325504</td>\n",
       "    </tr>\n",
       "    <tr>\n",
       "      <th>5</th>\n",
       "      <td>DENSITY</td>\n",
       "      <td>30</td>\n",
       "      <td>45</td>\n",
       "      <td>False</td>\n",
       "      <td>True</td>\n",
       "      <td>0.979066</td>\n",
       "      <td>10.0</td>\n",
       "      <td>two-sided</td>\n",
       "      <td>0.350639</td>\n",
       "      <td>1.000000</td>\n",
       "      <td>bonf</td>\n",
       "      <td>0.631</td>\n",
       "      <td>0.521782</td>\n",
       "    </tr>\n",
       "  </tbody>\n",
       "</table>\n",
       "</div>"
      ],
      "text/plain": [
       "  Contrast   A   B  Paired  Parametric         T   dof       Tail     p-unc  \\\n",
       "0  DENSITY   8  15   False        True  1.281540  10.0  two-sided  0.228921   \n",
       "1  DENSITY   8  30   False        True  2.795141  10.0  two-sided  0.018952   \n",
       "2  DENSITY   8  45   False        True  4.627887  10.0  two-sided  0.000939   \n",
       "3  DENSITY  15  30   False        True  1.305124  10.0  two-sided  0.221082   \n",
       "4  DENSITY  15  45   False        True  2.487161  10.0  two-sided  0.032146   \n",
       "5  DENSITY  30  45   False        True  0.979066  10.0  two-sided  0.350639   \n",
       "\n",
       "     p-corr p-adjust    BF10    hedges  \n",
       "0  1.000000     bonf   0.771  0.682983  \n",
       "1  0.113711     bonf   3.386  1.489639  \n",
       "2  0.005635     bonf  29.585  2.466380  \n",
       "3  1.000000     bonf   0.785  0.695551  \n",
       "4  0.192877     bonf     2.4  1.325504  \n",
       "5  1.000000     bonf   0.631  0.521782  "
      ]
     },
     "execution_count": 21,
     "metadata": {},
     "output_type": "execute_result"
    }
   ],
   "source": [
    "pg.pairwise_ttests(df, dv = 'EGGS', between = 'DENSITY', padjust = 'bonf')"
   ]
  },
  {
   "cell_type": "markdown",
   "metadata": {},
   "source": [
    "Only significant diffeerences betweeen 8-45"
   ]
  },
  {
   "cell_type": "markdown",
   "metadata": {},
   "source": [
    "We only find differences between the mean of the highest (45) and lowest (8) density, and the difference on number of eggs in summer and spring is significant. To look at the combined effect of both factors, we draw the interaction plot.\n",
    "\n",
    "**HINT**: For drawing an interaction plot, you can use *interaction_plot()* function"
   ]
  },
  {
   "cell_type": "code",
   "execution_count": 34,
   "metadata": {},
   "outputs": [
    {
     "name": "stderr",
     "output_type": "stream",
     "text": [
      "C:\\Users\\marta\\anaconda3\\lib\\site-packages\\ipykernel_launcher.py:2: UserWarning: Matplotlib is currently using module://ipykernel.pylab.backend_inline, which is a non-GUI backend, so cannot show the figure.\n",
      "  \n"
     ]
    },
    {
     "data": {
      "image/png": "[encoded data removed]",
      "text/plain": [
       "<Figure size 432x288 with 1 Axes>"
      ]
     },
     "metadata": {
      "needs_background": "light"
     },
     "output_type": "display_data"
    }
   ],
   "source": [
    "fig=interaction_plot(x=df.DENSITY, trace=df.SEASON, response=df.EGGS)\n",
    "fig.show()"
   ]
  },
  {
   "cell_type": "markdown",
   "metadata": {},
   "source": [
    "If we need to calculate, for instance the mean, for each of the combinations of season and density (8 combinations) we may use again the *groupby()* function from Pandas."
   ]
  },
  {
   "cell_type": "markdown",
   "metadata": {},
   "source": [
    "\n",
    "# Exercise 1. To be submited\n",
    "In a similar experiment to that shown in the example, the same researcher also manipulated the density of larger adults limpets further down the shoreline within enclosures (6, 12 and 24 individuals per enclosure)\n",
    "during the two seasons (winter-spring and summer-autumn) so as to investigate their effects on egg mass\n",
    "production. Again, three replicate enclosures per density/season combination were used, and both density\n",
    "and season were considered fixed factors. Data is available in a separate document (\"Table_Exercise1.png\").\n",
    "Look at the data: how many factors do we have? How many categories are in each factor? What is the\n",
    "number of replicates?\n",
    "\n",
    "\n",
    "From the table construct the dataset in order to be able to analyse it in Python (remember to create it in long\n",
    "format). Either write the data directly in the script or create a file and read it into Python. If you create a file\n",
    "remember to upload it to the Campus too.\n",
    "\n",
    "\n",
    "In this experiment both density and season were considered fixed factors, and thus the data represent a\n",
    "Model I design. Look at the dispersion of the variable of interest (number of Eggs) depending on each factor\n",
    "separately and together. Perform the two-way ANOVA and do the interaction plot. What can you say about the plot? In which season do they lay more eggs? How affects the density to the number of eggs? Do the factors interact?"
   ]
  },
  {
   "cell_type": "markdown",
   "metadata": {},
   "source": [
    "In this case we have two independent variables : Density and season, which are the factors. Density has three categories (6,12,24) and Season has two : spring and summer. The number of replicates, also known as the number of measurements under the same conditions is three.\n"
   ]
  },
  {
   "cell_type": "code",
   "execution_count": 4,
   "metadata": {},
   "outputs": [
    {
     "data": {
      "text/html": [
       "<div>\n",
       "<style scoped>\n",
       "    .dataframe tbody tr th:only-of-type {\n",
       "        vertical-align: middle;\n",
       "    }\n",
       "\n",
       "    .dataframe tbody tr th {\n",
       "        vertical-align: top;\n",
       "    }\n",
       "\n",
       "    .dataframe thead th {\n",
       "        text-align: right;\n",
       "    }\n",
       "</style>\n",
       "<table border=\"1\" class=\"dataframe\">\n",
       "  <thead>\n",
       "    <tr style=\"text-align: right;\">\n",
       "      <th></th>\n",
       "      <th>Density</th>\n",
       "      <th>Season</th>\n",
       "      <th>Egg</th>\n",
       "    </tr>\n",
       "  </thead>\n",
       "  <tbody>\n",
       "    <tr>\n",
       "      <th>0</th>\n",
       "      <td>6</td>\n",
       "      <td>Spring</td>\n",
       "      <td>1.167</td>\n",
       "    </tr>\n",
       "    <tr>\n",
       "      <th>1</th>\n",
       "      <td>6</td>\n",
       "      <td>Spring</td>\n",
       "      <td>0.500</td>\n",
       "    </tr>\n",
       "    <tr>\n",
       "      <th>2</th>\n",
       "      <td>6</td>\n",
       "      <td>Spring</td>\n",
       "      <td>1.667</td>\n",
       "    </tr>\n",
       "    <tr>\n",
       "      <th>3</th>\n",
       "      <td>6</td>\n",
       "      <td>Summer</td>\n",
       "      <td>4.000</td>\n",
       "    </tr>\n",
       "    <tr>\n",
       "      <th>4</th>\n",
       "      <td>6</td>\n",
       "      <td>Summer</td>\n",
       "      <td>3.830</td>\n",
       "    </tr>\n",
       "  </tbody>\n",
       "</table>\n",
       "</div>"
      ],
      "text/plain": [
       "   Density  Season    Egg\n",
       "0        6  Spring  1.167\n",
       "1        6  Spring  0.500\n",
       "2        6  Spring  1.667\n",
       "3        6  Summer  4.000\n",
       "4        6  Summer  3.830"
      ]
     },
     "execution_count": 4,
     "metadata": {},
     "output_type": "execute_result"
    }
   ],
   "source": [
    "density = np.repeat([6,12,24],6)\n",
    "season = np.repeat(['Spring','Summer']*3,3)\n",
    "egg = np.array(\n",
    "    [1.167,0.5,1.667,4,3.83,3.83,\n",
    "     1.5,0.833,1,3.33,2.58,2.75,\n",
    "     0.667,0.667,0.75,2.54,1.83,1.63],\n",
    "    dtype=float\n",
    "              )\n",
    "\n",
    "data_ex1 = pd.DataFrame(\n",
    "    list(zip(density, season,egg)), \n",
    "    columns =['Density', 'Season', 'Egg']\n",
    ")\n",
    "\n",
    "data_ex1.head()"
   ]
  },
  {
   "cell_type": "code",
   "execution_count": 11,
   "metadata": {},
   "outputs": [
    {
     "data": {
      "text/plain": [
       "Text(0.5, 1.0, 'Distribution of eggs within the two factors')"
      ]
     },
     "execution_count": 11,
     "metadata": {},
     "output_type": "execute_result"
    },
    {
     "data": {
      "image/png": "[encoded data removed]",
      "text/plain": [
       "<Figure size 432x288 with 1 Axes>"
      ]
     },
     "metadata": {
      "needs_background": "light"
     },
     "output_type": "display_data"
    }
   ],
   "source": [
    "plt.boxplot(data_ex1.Egg)\n",
    "plt.title('Distribution of eggs within the two factors')"
   ]
  },
  {
   "cell_type": "code",
   "execution_count": 25,
   "metadata": {},
   "outputs": [
    {
     "name": "stdout",
     "output_type": "stream",
     "text": [
      "1.9483888888888887 1.2019102021311443\n"
     ]
    }
   ],
   "source": [
    "mean=np.mean(data_ex1['Egg'])\n",
    "std=np.std(data_ex1['Egg'], ddof=1)\n",
    "print(mean,std)"
   ]
  },
  {
   "cell_type": "code",
   "execution_count": 26,
   "metadata": {},
   "outputs": [
    {
     "data": {
      "text/plain": [
       "KstestResult(statistic=0.15034371757673393, pvalue=0.8105590496858872)"
      ]
     },
     "execution_count": 26,
     "metadata": {},
     "output_type": "execute_result"
    }
   ],
   "source": [
    "stats.kstest(data_ex1.Egg, 'norm', args=(mean, std))"
   ]
  },
  {
   "cell_type": "markdown",
   "metadata": {},
   "source": [
    "P value is almost one: the distribution is nearly normal!\n"
   ]
  },
  {
   "cell_type": "code",
   "execution_count": 48,
   "metadata": {},
   "outputs": [
    {
     "data": {
      "text/html": [
       "<div>\n",
       "<style scoped>\n",
       "    .dataframe tbody tr th:only-of-type {\n",
       "        vertical-align: middle;\n",
       "    }\n",
       "\n",
       "    .dataframe tbody tr th {\n",
       "        vertical-align: top;\n",
       "    }\n",
       "\n",
       "    .dataframe thead th {\n",
       "        text-align: right;\n",
       "    }\n",
       "</style>\n",
       "<table border=\"1\" class=\"dataframe\">\n",
       "  <thead>\n",
       "    <tr style=\"text-align: right;\">\n",
       "      <th></th>\n",
       "      <th>df</th>\n",
       "      <th>sum_sq</th>\n",
       "      <th>mean_sq</th>\n",
       "      <th>F</th>\n",
       "      <th>PR(&gt;F)</th>\n",
       "    </tr>\n",
       "  </thead>\n",
       "  <tbody>\n",
       "    <tr>\n",
       "      <th>C(Density)</th>\n",
       "      <td>2.0</td>\n",
       "      <td>4.001910</td>\n",
       "      <td>2.000955</td>\n",
       "      <td>13.984179</td>\n",
       "      <td>7.324696e-04</td>\n",
       "    </tr>\n",
       "    <tr>\n",
       "      <th>C(Season)</th>\n",
       "      <td>1.0</td>\n",
       "      <td>17.148320</td>\n",
       "      <td>17.148320</td>\n",
       "      <td>119.845363</td>\n",
       "      <td>1.335587e-07</td>\n",
       "    </tr>\n",
       "    <tr>\n",
       "      <th>C(Density):C(Season)</th>\n",
       "      <td>2.0</td>\n",
       "      <td>1.690723</td>\n",
       "      <td>0.845362</td>\n",
       "      <td>5.908024</td>\n",
       "      <td>1.636324e-02</td>\n",
       "    </tr>\n",
       "    <tr>\n",
       "      <th>Residual</th>\n",
       "      <td>12.0</td>\n",
       "      <td>1.717045</td>\n",
       "      <td>0.143087</td>\n",
       "      <td>NaN</td>\n",
       "      <td>NaN</td>\n",
       "    </tr>\n",
       "  </tbody>\n",
       "</table>\n",
       "</div>"
      ],
      "text/plain": [
       "                        df     sum_sq    mean_sq           F        PR(>F)\n",
       "C(Density)             2.0   4.001910   2.000955   13.984179  7.324696e-04\n",
       "C(Season)              1.0  17.148320  17.148320  119.845363  1.335587e-07\n",
       "C(Density):C(Season)   2.0   1.690723   0.845362    5.908024  1.636324e-02\n",
       "Residual              12.0   1.717045   0.143087         NaN           NaN"
      ]
     },
     "execution_count": 48,
     "metadata": {},
     "output_type": "execute_result"
    }
   ],
   "source": [
    "mod=ols('Egg ~ C(Density) + C(Season) + C(Density):C(Season)',data=data_ex1).fit()\n",
    "sm.stats.anova_lm(mod)"
   ]
  },
  {
   "cell_type": "code",
   "execution_count": 29,
   "metadata": {},
   "outputs": [
    {
     "data": {
      "text/html": [
       "<div>\n",
       "<style scoped>\n",
       "    .dataframe tbody tr th:only-of-type {\n",
       "        vertical-align: middle;\n",
       "    }\n",
       "\n",
       "    .dataframe tbody tr th {\n",
       "        vertical-align: top;\n",
       "    }\n",
       "\n",
       "    .dataframe thead th {\n",
       "        text-align: right;\n",
       "    }\n",
       "</style>\n",
       "<table border=\"1\" class=\"dataframe\">\n",
       "  <thead>\n",
       "    <tr style=\"text-align: right;\">\n",
       "      <th></th>\n",
       "      <th>Contrast</th>\n",
       "      <th>A</th>\n",
       "      <th>B</th>\n",
       "      <th>Paired</th>\n",
       "      <th>Parametric</th>\n",
       "      <th>T</th>\n",
       "      <th>dof</th>\n",
       "      <th>Tail</th>\n",
       "      <th>p-unc</th>\n",
       "      <th>BF10</th>\n",
       "      <th>hedges</th>\n",
       "    </tr>\n",
       "  </thead>\n",
       "  <tbody>\n",
       "    <tr>\n",
       "      <th>0</th>\n",
       "      <td>Season</td>\n",
       "      <td>Spring</td>\n",
       "      <td>Summer</td>\n",
       "      <td>False</td>\n",
       "      <td>True</td>\n",
       "      <td>-6.085147</td>\n",
       "      <td>16.0</td>\n",
       "      <td>two-sided</td>\n",
       "      <td>0.000016</td>\n",
       "      <td>930.203</td>\n",
       "      <td>-2.731968</td>\n",
       "    </tr>\n",
       "  </tbody>\n",
       "</table>\n",
       "</div>"
      ],
      "text/plain": [
       "  Contrast       A       B  Paired  Parametric         T   dof       Tail  \\\n",
       "0   Season  Spring  Summer   False        True -6.085147  16.0  two-sided   \n",
       "\n",
       "      p-unc     BF10    hedges  \n",
       "0  0.000016  930.203 -2.731968  "
      ]
     },
     "execution_count": 29,
     "metadata": {},
     "output_type": "execute_result"
    }
   ],
   "source": [
    "pg.pairwise_ttests(data_ex1, dv = 'Egg', between = 'Season', padjust = 'bonf')"
   ]
  },
  {
   "cell_type": "code",
   "execution_count": 30,
   "metadata": {},
   "outputs": [
    {
     "data": {
      "text/html": [
       "<div>\n",
       "<style scoped>\n",
       "    .dataframe tbody tr th:only-of-type {\n",
       "        vertical-align: middle;\n",
       "    }\n",
       "\n",
       "    .dataframe tbody tr th {\n",
       "        vertical-align: top;\n",
       "    }\n",
       "\n",
       "    .dataframe thead th {\n",
       "        text-align: right;\n",
       "    }\n",
       "</style>\n",
       "<table border=\"1\" class=\"dataframe\">\n",
       "  <thead>\n",
       "    <tr style=\"text-align: right;\">\n",
       "      <th></th>\n",
       "      <th>Contrast</th>\n",
       "      <th>A</th>\n",
       "      <th>B</th>\n",
       "      <th>Paired</th>\n",
       "      <th>Parametric</th>\n",
       "      <th>T</th>\n",
       "      <th>dof</th>\n",
       "      <th>Tail</th>\n",
       "      <th>p-unc</th>\n",
       "      <th>p-corr</th>\n",
       "      <th>p-adjust</th>\n",
       "      <th>BF10</th>\n",
       "      <th>hedges</th>\n",
       "    </tr>\n",
       "  </thead>\n",
       "  <tbody>\n",
       "    <tr>\n",
       "      <th>0</th>\n",
       "      <td>Density</td>\n",
       "      <td>6</td>\n",
       "      <td>12</td>\n",
       "      <td>False</td>\n",
       "      <td>True</td>\n",
       "      <td>0.654157</td>\n",
       "      <td>10.0</td>\n",
       "      <td>two-sided</td>\n",
       "      <td>0.527767</td>\n",
       "      <td>1.000000</td>\n",
       "      <td>bonf</td>\n",
       "      <td>0.536</td>\n",
       "      <td>0.348626</td>\n",
       "    </tr>\n",
       "    <tr>\n",
       "      <th>1</th>\n",
       "      <td>Density</td>\n",
       "      <td>6</td>\n",
       "      <td>24</td>\n",
       "      <td>False</td>\n",
       "      <td>True</td>\n",
       "      <td>1.613901</td>\n",
       "      <td>10.0</td>\n",
       "      <td>two-sided</td>\n",
       "      <td>0.137624</td>\n",
       "      <td>0.412871</td>\n",
       "      <td>bonf</td>\n",
       "      <td>1.007</td>\n",
       "      <td>0.860110</td>\n",
       "    </tr>\n",
       "    <tr>\n",
       "      <th>2</th>\n",
       "      <td>Density</td>\n",
       "      <td>12</td>\n",
       "      <td>24</td>\n",
       "      <td>False</td>\n",
       "      <td>True</td>\n",
       "      <td>1.238799</td>\n",
       "      <td>10.0</td>\n",
       "      <td>two-sided</td>\n",
       "      <td>0.243709</td>\n",
       "      <td>0.731128</td>\n",
       "      <td>bonf</td>\n",
       "      <td>0.748</td>\n",
       "      <td>0.660204</td>\n",
       "    </tr>\n",
       "  </tbody>\n",
       "</table>\n",
       "</div>"
      ],
      "text/plain": [
       "  Contrast   A   B  Paired  Parametric         T   dof       Tail     p-unc  \\\n",
       "0  Density   6  12   False        True  0.654157  10.0  two-sided  0.527767   \n",
       "1  Density   6  24   False        True  1.613901  10.0  two-sided  0.137624   \n",
       "2  Density  12  24   False        True  1.238799  10.0  two-sided  0.243709   \n",
       "\n",
       "     p-corr p-adjust   BF10    hedges  \n",
       "0  1.000000     bonf  0.536  0.348626  \n",
       "1  0.412871     bonf  1.007  0.860110  \n",
       "2  0.731128     bonf  0.748  0.660204  "
      ]
     },
     "execution_count": 30,
     "metadata": {},
     "output_type": "execute_result"
    }
   ],
   "source": [
    "pg.pairwise_ttests(data_ex1, dv = 'Egg', between = 'Density', padjust = 'bonf')"
   ]
  },
  {
   "cell_type": "code",
   "execution_count": 54,
   "metadata": {},
   "outputs": [
    {
     "name": "stderr",
     "output_type": "stream",
     "text": [
      "C:\\Users\\marta\\anaconda3\\lib\\site-packages\\ipykernel_launcher.py:2: UserWarning: Matplotlib is currently using module://ipykernel.pylab.backend_inline, which is a non-GUI backend, so cannot show the figure.\n",
      "  \n"
     ]
    },
    {
     "data": {
      "image/png": "[encoded data removed]",
      "text/plain": [
       "<Figure size 432x288 with 1 Axes>"
      ]
     },
     "metadata": {
      "needs_background": "light"
     },
     "output_type": "display_data"
    }
   ],
   "source": [
    "fig=interaction_plot(x=data_ex1.Season, trace=data_ex1.Density, response=data_ex1.Egg, ylabel='mean of number of eggs', colors=['green', 'orange', 'pink'])\n",
    "fig.show()"
   ]
  },
  {
   "cell_type": "code",
   "execution_count": 64,
   "metadata": {},
   "outputs": [
    {
     "name": "stderr",
     "output_type": "stream",
     "text": [
      "C:\\Users\\marta\\anaconda3\\lib\\site-packages\\ipykernel_launcher.py:2: UserWarning: Matplotlib is currently using module://ipykernel.pylab.backend_inline, which is a non-GUI backend, so cannot show the figure.\n",
      "  \n"
     ]
    },
    {
     "data": {
      "image/png": "[encoded data removed]",
      "text/plain": [
       "<Figure size 432x288 with 1 Axes>"
      ]
     },
     "metadata": {
      "needs_background": "light"
     },
     "output_type": "display_data"
    }
   ],
   "source": [
    "fig=interaction_plot(x=data_ex1.Density, trace=data_ex1.Season, response=data_ex1.Egg, ylabel='mean of number of eggs', colors=['purple', 'red'])\n",
    "fig.show()"
   ]
  },
  {
   "cell_type": "code",
   "execution_count": 35,
   "metadata": {},
   "outputs": [],
   "source": [
    "interaction_plot?"
   ]
  },
  {
   "cell_type": "markdown",
   "metadata": {},
   "source": [
    "# Functions' guide\n",
    "\n",
    "\n",
    "Here you can find a brief help section for the most relevant functions and arguments used through the session. For detailled information about specific functions and extra functionalities remember that you can check the manual of a function by typing *help(your_function)* or just using Google. \n",
    "  \n",
    "\n",
    "* **stats.kstest(data, 'norm', args = (mean, sd))**\n",
    "\n",
    "    Performs the one sample Kolmogorov-Smirnov test for goodness of fit.\n",
    "    \n",
    "    We specify we want to test our data against a normal distribution with 'norm' argument. In addition, we specify we want that normal distribution to have a given mean and standard deviation with args = ().\n",
    "    \n",
    "  \n",
    "* **ols('variable1 ~ variable2 + variable3 + variable2:variable3',data=data).fit()**\n",
    "\n",
    "    Create a model from a formula and dataframe\n",
    "\n",
    "    *variable1 ~ variable2 + variable3 + variable2:variable3* is the notation expected from the function in this case. It specifies that variable1 is the dependent variable and variable2 and 3 are the independent variables. In addition, with variable2:variable3 we specify that we want to test the interaction of variable2 and variable3. These variables should be present as columns of your data (long format data).\n",
    "    \n",
    "    *ols()* function creates the model and *fit()* is for fitting it.     \n",
    "    \n",
    "\n",
    "* **sm.stats.anova_lm(mod)**\n",
    "\n",
    "    Anova table for one or more fitted linear models.\n",
    "    \n",
    "    mod is the fitted model created with the *ols().fit()* functions.\n",
    "    \n",
    "\n",
    "* **pg.pairwise_ttests(data, dv = continous_variable_name,** \n",
    "    **between = categorical_variable_name, padjust = 'bonf')**\n",
    "\n",
    "    Pairwise T-tests.\n",
    "\n",
    "    Tests for multiple comparisons. In this case, we are using pairwise t-test.\n",
    "    \n",
    "    dv specifes the continuos variable,\n",
    "    \n",
    "    between refers to to categorial variable.\n",
    "    \n",
    "    padjust indicates the type of multiple testing correction we want to use. In this case we want bonferroni. Other options are, for example, 'holm' or 'fdr_bh.'\n",
    "    \n",
    "    \n",
    "* **interaction_plot(x = categorical_variable1, trace = categorial_varible2, response = continous_variable)**\n",
    "\n",
    "    Interaction plot for factor level statistics.\n",
    "\n",
    "    categorical_variable1 = Categorical variable that will be displayed in the x-axis.\n",
    "    \n",
    "    categorical_variable2 = Categorical variable that will be considered as different lines in the interaction plot.\n",
    "    \n",
    "    continous_variable = Dependent variable that will be displayed in the y-axis.\n",
    "    \n",
    "\n",
    "\n"
   ]
  },
  {
   "cell_type": "markdown",
   "metadata": {},
   "source": [
    "Bonforroni is not really good for small datasets"
   ]
  },
  {
   "cell_type": "code",
   "execution_count": null,
   "metadata": {},
   "outputs": [],
   "source": []
  }
 ],
 "metadata": {
  "kernelspec": {
   "display_name": "Python 3",
   "language": "python",
   "name": "python3"
  },
  "language_info": {
   "codemirror_mode": {
    "name": "ipython",
    "version": 3
   },
   "file_extension": ".py",
   "mimetype": "text/x-python",
   "name": "python",
   "nbconvert_exporter": "python",
   "pygments_lexer": "ipython3",
   "version": "3.7.6"
  }
 },
 "nbformat": 4,
 "nbformat_minor": 2
}
