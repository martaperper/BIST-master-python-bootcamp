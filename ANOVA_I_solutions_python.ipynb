{
 "cells": [
  {
   "cell_type": "markdown",
   "metadata": {},
   "source": [
    "_Pablo Latorre and Hafid Laayouni_\n",
    "\n",
    "You need to install the following Python packages: _pandas, numpy, scipy, statsmodels, matplotlib and pingouin._\n",
    "\n",
    "You can do it in Linux, for instance, with [pip installer](https://pip.pypa.io/en/stable/installing/) by typing the following command in the terminal:\n",
    "\n",
    "__sudo pip install pandas numpy statsmodels scipy matplotlib pingouin__\n",
    "\n",
    "Then, you have to import in Python the following packages:"
   ]
  },
  {
   "cell_type": "code",
   "execution_count": 1,
   "metadata": {},
   "outputs": [],
   "source": [
    "# loading required functions and modules #\n",
    "import pandas as pd\n",
    "import numpy as np\n",
    "import statsmodels.api as sm\n",
    "from statsmodels.formula.api import ols\n",
    "import scipy.stats as stats\n",
    "import matplotlib.pyplot as plt\n",
    "import pingouin as pg"
   ]
  },
  {
   "cell_type": "markdown",
   "metadata": {},
   "source": [
    "Besides, at the end of this document there is a **Functions' guide** section with practical information about some of the functions used in this session."
   ]
  },
  {
   "cell_type": "markdown",
   "metadata": {},
   "source": [
    "# Introduction to One-way Analysis of Variance\n",
    "\n",
    "## Definition\n",
    "\n",
    "The one-way analysis of variance (ANOVA) is used to compare several groups of a quantitative variable.\n",
    "Specifically, it is a way to calculate if there are any statistically significant differences between the means of\n",
    "three or more independent groups. It tests the following null hypothesis:\n",
    "\\begin{equation*}\n",
    "H_0: \\mu_1 = \\mu_2 = \\mu_3 = ... = \\mu_a\n",
    "\\end{equation*}\n",
    "Where $\\mu =$ group mean and $a =$ number of groups.\n",
    "\n",
    "In the case that the one-way ANOVA returns a significant result, the alternative hypothesis ($H_A$) is accepted,\n",
    "meaning that at least two group means are statistically different. However, the ANOVA statistic will not tell\n",
    "you which are the significantly different groups, for that we will need a post hoc test.\n",
    "\n",
    "## Assumptions\n",
    "\n",
    "In order to use the ANOVA test statistic, three main assumptions must be satisfied:\n",
    "\n",
    "* The dependent variable is normally distributed in each group.\n",
    "\n",
    "* There is homogeneity of variances, the population variances in each group are equal.\n",
    "\n",
    "* Independence of observations.\n",
    "\n",
    "## Example\n",
    "\n",
    "Let’s work with the following simple example:\n"
   ]
  },
  {
   "cell_type": "code",
   "execution_count": 2,
   "metadata": {},
   "outputs": [
    {
     "data": {
      "text/html": [
       "<div>\n",
       "<style scoped>\n",
       "    .dataframe tbody tr th:only-of-type {\n",
       "        vertical-align: middle;\n",
       "    }\n",
       "\n",
       "    .dataframe tbody tr th {\n",
       "        vertical-align: top;\n",
       "    }\n",
       "\n",
       "    .dataframe thead th {\n",
       "        text-align: right;\n",
       "    }\n",
       "</style>\n",
       "<table border=\"1\" class=\"dataframe\">\n",
       "  <thead>\n",
       "    <tr style=\"text-align: right;\">\n",
       "      <th></th>\n",
       "      <th>fertilizer1</th>\n",
       "      <th>fertilizer2</th>\n",
       "      <th>fertilizer3</th>\n",
       "    </tr>\n",
       "  </thead>\n",
       "  <tbody>\n",
       "    <tr>\n",
       "      <th>0</th>\n",
       "      <td>6.27</td>\n",
       "      <td>3.07</td>\n",
       "      <td>4.04</td>\n",
       "    </tr>\n",
       "    <tr>\n",
       "      <th>1</th>\n",
       "      <td>5.36</td>\n",
       "      <td>3.29</td>\n",
       "      <td>3.79</td>\n",
       "    </tr>\n",
       "    <tr>\n",
       "      <th>2</th>\n",
       "      <td>6.39</td>\n",
       "      <td>4.04</td>\n",
       "      <td>4.56</td>\n",
       "    </tr>\n",
       "    <tr>\n",
       "      <th>3</th>\n",
       "      <td>4.85</td>\n",
       "      <td>4.19</td>\n",
       "      <td>4.55</td>\n",
       "    </tr>\n",
       "    <tr>\n",
       "      <th>4</th>\n",
       "      <td>5.99</td>\n",
       "      <td>3.41</td>\n",
       "      <td>4.55</td>\n",
       "    </tr>\n",
       "    <tr>\n",
       "      <th>5</th>\n",
       "      <td>7.14</td>\n",
       "      <td>3.75</td>\n",
       "      <td>4.53</td>\n",
       "    </tr>\n",
       "    <tr>\n",
       "      <th>6</th>\n",
       "      <td>5.08</td>\n",
       "      <td>4.87</td>\n",
       "      <td>3.53</td>\n",
       "    </tr>\n",
       "    <tr>\n",
       "      <th>7</th>\n",
       "      <td>4.07</td>\n",
       "      <td>3.94</td>\n",
       "      <td>3.71</td>\n",
       "    </tr>\n",
       "    <tr>\n",
       "      <th>8</th>\n",
       "      <td>4.35</td>\n",
       "      <td>6.28</td>\n",
       "      <td>7.00</td>\n",
       "    </tr>\n",
       "    <tr>\n",
       "      <th>9</th>\n",
       "      <td>4.95</td>\n",
       "      <td>3.15</td>\n",
       "      <td>4.61</td>\n",
       "    </tr>\n",
       "  </tbody>\n",
       "</table>\n",
       "</div>"
      ],
      "text/plain": [
       "   fertilizer1  fertilizer2  fertilizer3\n",
       "0         6.27         3.07         4.04\n",
       "1         5.36         3.29         3.79\n",
       "2         6.39         4.04         4.56\n",
       "3         4.85         4.19         4.55\n",
       "4         5.99         3.41         4.55\n",
       "5         7.14         3.75         4.53\n",
       "6         5.08         4.87         3.53\n",
       "7         4.07         3.94         3.71\n",
       "8         4.35         6.28         7.00\n",
       "9         4.95         3.15         4.61"
      ]
     },
     "execution_count": 2,
     "metadata": {},
     "output_type": "execute_result"
    }
   ],
   "source": [
    "# dictionary with type of fertilizer as key and array of production as values\n",
    "values = {'fertilizer1' : [6.27,5.36,6.39,4.85,5.99,7.14,5.08,4.07,4.35,4.95],\n",
    "'fertilizer2' : [3.07,3.29,4.04,4.19,3.41,3.75,4.87,3.94,6.28,3.15],\n",
    "'fertilizer3' : [4.04,3.79,4.56,4.55,4.55,4.53,3.53,3.71,7.00,4.61]}\n",
    "# create panda dataframe\n",
    "data = pd.DataFrame(values)\n",
    "data"
   ]
  },
  {
   "cell_type": "markdown",
   "metadata": {},
   "source": [
    "The data represents the production of pumpkins of plots that received treatments with different fertilizers.\n",
    "The question we ask ourselves here is: does the fertilizer have an effect on the pumpkin production?\n",
    "To answer this question, we could use one-way ANOVA."
   ]
  },
  {
   "cell_type": "markdown",
   "metadata": {},
   "source": [
    "\n",
    "# The ANOVA Python function\n",
    "First, we need a special format of the data to work with Python, it is called long-format data. We will import it from the file *fertilizer_long_format.txt*"
   ]
  },
  {
   "cell_type": "code",
   "execution_count": 3,
   "metadata": {},
   "outputs": [
    {
     "data": {
      "text/html": [
       "<div>\n",
       "<style scoped>\n",
       "    .dataframe tbody tr th:only-of-type {\n",
       "        vertical-align: middle;\n",
       "    }\n",
       "\n",
       "    .dataframe tbody tr th {\n",
       "        vertical-align: top;\n",
       "    }\n",
       "\n",
       "    .dataframe thead th {\n",
       "        text-align: right;\n",
       "    }\n",
       "</style>\n",
       "<table border=\"1\" class=\"dataframe\">\n",
       "  <thead>\n",
       "    <tr style=\"text-align: right;\">\n",
       "      <th></th>\n",
       "      <th>fertilizer</th>\n",
       "      <th>production</th>\n",
       "    </tr>\n",
       "  </thead>\n",
       "  <tbody>\n",
       "    <tr>\n",
       "      <th>0</th>\n",
       "      <td>fertilizer1</td>\n",
       "      <td>6.27</td>\n",
       "    </tr>\n",
       "    <tr>\n",
       "      <th>1</th>\n",
       "      <td>fertilizer1</td>\n",
       "      <td>5.36</td>\n",
       "    </tr>\n",
       "    <tr>\n",
       "      <th>2</th>\n",
       "      <td>fertilizer1</td>\n",
       "      <td>6.39</td>\n",
       "    </tr>\n",
       "    <tr>\n",
       "      <th>3</th>\n",
       "      <td>fertilizer1</td>\n",
       "      <td>4.85</td>\n",
       "    </tr>\n",
       "    <tr>\n",
       "      <th>4</th>\n",
       "      <td>fertilizer1</td>\n",
       "      <td>5.99</td>\n",
       "    </tr>\n",
       "  </tbody>\n",
       "</table>\n",
       "</div>"
      ],
      "text/plain": [
       "    fertilizer  production\n",
       "0  fertilizer1        6.27\n",
       "1  fertilizer1        5.36\n",
       "2  fertilizer1        6.39\n",
       "3  fertilizer1        4.85\n",
       "4  fertilizer1        5.99"
      ]
     },
     "execution_count": 3,
     "metadata": {},
     "output_type": "execute_result"
    }
   ],
   "source": [
    "fertilizer_data = pd.read_table(\"fertilizer_long_format.txt\", sep=' ')\n",
    "fertilizer_data.head()"
   ]
  },
  {
   "cell_type": "markdown",
   "metadata": {},
   "source": [
    "Before performing one-way ANOVA, let’s check normality and homogeneity of variance assumptions.\n",
    "\n",
    "\n",
    "**HINT**: To check normality we can use the statistical test Kolmogorov-Smirnov (*stats.kstest()* function)"
   ]
  },
  {
   "cell_type": "code",
   "execution_count": 4,
   "metadata": {},
   "outputs": [
    {
     "data": {
      "text/plain": [
       "KstestResult(statistic=0.1453124706703378, pvalue=0.5049329274179539)"
      ]
     },
     "execution_count": 4,
     "metadata": {},
     "output_type": "execute_result"
    }
   ],
   "source": [
    "prod_mean = np.mean(fertilizer_data['production'])\n",
    "prod_sd = np.std(fertilizer_data['production'], ddof = 1)\n",
    "stats.kstest(fertilizer_data['production'], 'norm', args = (prod_mean, prod_sd))"
   ]
  },
  {
   "cell_type": "markdown",
   "metadata": {},
   "source": [
    "\n",
    "**HINT:** To test for homogeneity of variance, we can use Levene test. You could use *stats.levene()* function."
   ]
  },
  {
   "cell_type": "code",
   "execution_count": 5,
   "metadata": {},
   "outputs": [
    {
     "data": {
      "text/plain": [
       "LeveneResult(statistic=0.25557357081718185, pvalue=0.7763246395092929)"
      ]
     },
     "execution_count": 5,
     "metadata": {},
     "output_type": "execute_result"
    }
   ],
   "source": [
    "# Note that for this test we are using data instead of fertilizer_data\n",
    "# we do so for convenience with function input\n",
    "stats.levene(data['fertilizer1'], data['fertilizer2'], data['fertilizer3'])"
   ]
  },
  {
   "cell_type": "markdown",
   "metadata": {},
   "source": [
    "Now, let's perform one-way ANOVA. \n",
    "\n",
    "\n",
    "**HINT:** You can use the Python functions *ols()* and *anova_lm()*:"
   ]
  },
  {
   "cell_type": "code",
   "execution_count": 6,
   "metadata": {},
   "outputs": [
    {
     "data": {
      "text/html": [
       "<div>\n",
       "<style scoped>\n",
       "    .dataframe tbody tr th:only-of-type {\n",
       "        vertical-align: middle;\n",
       "    }\n",
       "\n",
       "    .dataframe tbody tr th {\n",
       "        vertical-align: top;\n",
       "    }\n",
       "\n",
       "    .dataframe thead th {\n",
       "        text-align: right;\n",
       "    }\n",
       "</style>\n",
       "<table border=\"1\" class=\"dataframe\">\n",
       "  <thead>\n",
       "    <tr style=\"text-align: right;\">\n",
       "      <th></th>\n",
       "      <th>df</th>\n",
       "      <th>sum_sq</th>\n",
       "      <th>mean_sq</th>\n",
       "      <th>F</th>\n",
       "      <th>PR(&gt;F)</th>\n",
       "    </tr>\n",
       "  </thead>\n",
       "  <tbody>\n",
       "    <tr>\n",
       "      <th>fertilizer</th>\n",
       "      <td>2.0</td>\n",
       "      <td>10.822747</td>\n",
       "      <td>5.411373</td>\n",
       "      <td>5.702374</td>\n",
       "      <td>0.008594</td>\n",
       "    </tr>\n",
       "    <tr>\n",
       "      <th>Residual</th>\n",
       "      <td>27.0</td>\n",
       "      <td>25.622150</td>\n",
       "      <td>0.948969</td>\n",
       "      <td>NaN</td>\n",
       "      <td>NaN</td>\n",
       "    </tr>\n",
       "  </tbody>\n",
       "</table>\n",
       "</div>"
      ],
      "text/plain": [
       "              df     sum_sq   mean_sq         F    PR(>F)\n",
       "fertilizer   2.0  10.822747  5.411373  5.702374  0.008594\n",
       "Residual    27.0  25.622150  0.948969       NaN       NaN"
      ]
     },
     "execution_count": 6,
     "metadata": {},
     "output_type": "execute_result"
    }
   ],
   "source": [
    "mod = ols('production ~ fertilizer',\n",
    "                data=fertilizer_data).fit()\n",
    "      \n",
    "aov_table = sm.stats.anova_lm(mod)\n",
    "fvalue = aov_table['F'][0] # store f-value for downstream analyzes\n",
    "\n",
    "aov_table"
   ]
  },
  {
   "cell_type": "markdown",
   "metadata": {},
   "source": [
    "The output of *anova_lm* function is a table where you will find in the first column the degrees of freedom of\n",
    "SS between (a-1) and SS within (an-a). In the second column: the SS between (first row) and\n",
    "SS within (also called Residual). In the fourth column you will see the F-statistic and in the fifth the p-value.\n",
    "\n",
    "# Post hoc test after a significant result\n",
    "\n",
    "Once a significant result is obtained with the one-way ANOVA, we can only say that at least one population mean is different from at least one other population mean. Now, we will learn how to know which is the population mean that is different from the others.\n",
    "For that we will use *pairwise t-tests* with Bonferroni p-adjustment. \n",
    "\n",
    "\n",
    "**HINT**: You could use *pg.pairwise_ttests()* function."
   ]
  },
  {
   "cell_type": "code",
   "execution_count": 7,
   "metadata": {},
   "outputs": [
    {
     "data": {
      "text/html": [
       "<div>\n",
       "<style scoped>\n",
       "    .dataframe tbody tr th:only-of-type {\n",
       "        vertical-align: middle;\n",
       "    }\n",
       "\n",
       "    .dataframe tbody tr th {\n",
       "        vertical-align: top;\n",
       "    }\n",
       "\n",
       "    .dataframe thead th {\n",
       "        text-align: right;\n",
       "    }\n",
       "</style>\n",
       "<table border=\"1\" class=\"dataframe\">\n",
       "  <thead>\n",
       "    <tr style=\"text-align: right;\">\n",
       "      <th></th>\n",
       "      <th>Contrast</th>\n",
       "      <th>A</th>\n",
       "      <th>B</th>\n",
       "      <th>Paired</th>\n",
       "      <th>Parametric</th>\n",
       "      <th>T</th>\n",
       "      <th>dof</th>\n",
       "      <th>Tail</th>\n",
       "      <th>p-unc</th>\n",
       "      <th>p-corr</th>\n",
       "      <th>p-adjust</th>\n",
       "      <th>BF10</th>\n",
       "      <th>hedges</th>\n",
       "    </tr>\n",
       "  </thead>\n",
       "  <tbody>\n",
       "    <tr>\n",
       "      <th>0</th>\n",
       "      <td>fertilizer</td>\n",
       "      <td>fertilizer1</td>\n",
       "      <td>fertilizer2</td>\n",
       "      <td>False</td>\n",
       "      <td>True</td>\n",
       "      <td>3.320116</td>\n",
       "      <td>18.0</td>\n",
       "      <td>two-sided</td>\n",
       "      <td>0.003808</td>\n",
       "      <td>0.011425</td>\n",
       "      <td>bonf</td>\n",
       "      <td>10.622</td>\n",
       "      <td>1.422063</td>\n",
       "    </tr>\n",
       "    <tr>\n",
       "      <th>1</th>\n",
       "      <td>fertilizer</td>\n",
       "      <td>fertilizer1</td>\n",
       "      <td>fertilizer3</td>\n",
       "      <td>False</td>\n",
       "      <td>True</td>\n",
       "      <td>2.196297</td>\n",
       "      <td>18.0</td>\n",
       "      <td>two-sided</td>\n",
       "      <td>0.041413</td>\n",
       "      <td>0.124239</td>\n",
       "      <td>bonf</td>\n",
       "      <td>1.926</td>\n",
       "      <td>0.940712</td>\n",
       "    </tr>\n",
       "    <tr>\n",
       "      <th>2</th>\n",
       "      <td>fertilizer</td>\n",
       "      <td>fertilizer2</td>\n",
       "      <td>fertilizer3</td>\n",
       "      <td>False</td>\n",
       "      <td>True</td>\n",
       "      <td>-1.121212</td>\n",
       "      <td>18.0</td>\n",
       "      <td>two-sided</td>\n",
       "      <td>0.276934</td>\n",
       "      <td>0.830801</td>\n",
       "      <td>bonf</td>\n",
       "      <td>0.615</td>\n",
       "      <td>-0.480235</td>\n",
       "    </tr>\n",
       "  </tbody>\n",
       "</table>\n",
       "</div>"
      ],
      "text/plain": [
       "     Contrast            A            B  Paired  Parametric         T   dof  \\\n",
       "0  fertilizer  fertilizer1  fertilizer2   False        True  3.320116  18.0   \n",
       "1  fertilizer  fertilizer1  fertilizer3   False        True  2.196297  18.0   \n",
       "2  fertilizer  fertilizer2  fertilizer3   False        True -1.121212  18.0   \n",
       "\n",
       "        Tail     p-unc    p-corr p-adjust    BF10    hedges  \n",
       "0  two-sided  0.003808  0.011425     bonf  10.622  1.422063  \n",
       "1  two-sided  0.041413  0.124239     bonf   1.926  0.940712  \n",
       "2  two-sided  0.276934  0.830801     bonf   0.615 -0.480235  "
      ]
     },
     "execution_count": 7,
     "metadata": {},
     "output_type": "execute_result"
    }
   ],
   "source": [
    "pg.pairwise_ttests(data = fertilizer_data, dv = 'production', \n",
    "                   between = 'fertilizer', padjust = 'bonf')"
   ]
  },
  {
   "cell_type": "markdown",
   "metadata": {},
   "source": [
    "What can we conclude after the pairwise t-test?"
   ]
  },
  {
   "cell_type": "markdown",
   "metadata": {},
   "source": [
    "# Exercise 1. Randomization test\n",
    "\n",
    "If the assumptions of ANOVA were not applicable, it would be a good solution to perform a randomization test for the anova, as we already did for t-student.\n",
    "\n"
   ]
  },
  {
   "cell_type": "code",
   "execution_count": 8,
   "metadata": {},
   "outputs": [
    {
     "data": {
      "image/png": "[encoded data removed]",
      "text/plain": [
       "<Figure size 432x288 with 1 Axes>"
      ]
     },
     "metadata": {
      "needs_background": "light"
     },
     "output_type": "display_data"
    }
   ],
   "source": [
    "nReplicates = 10000\n",
    "\n",
    "def randomTest(fertilizer_data):\n",
    "    # Random sample of size 30 extracted from production variable\n",
    "    p1 = np.random.choice(fertilizer_data['production'], size = 30)\n",
    "    fertilizer_random = pd.DataFrame({'production': p1, \n",
    "                                      'fertilizer': fertilizer_data['fertilizer']})\n",
    "    mod = ols('production ~ fertilizer',\n",
    "                data=fertilizer_random).fit()\n",
    "      \n",
    "    aov_table = sm.stats.anova_lm(mod)\n",
    "    fval = aov_table['F'][0]\n",
    "    return(fval)\n",
    "    \n",
    "fSamples = np.array([])\n",
    "\n",
    "for _ in range(nReplicates):\n",
    "    fval = randomTest(fertilizer_data)\n",
    "    fSamples = np.append(fSamples, fval)\n",
    "\n",
    "plt.hist(fSamples)\n",
    "plt.plot(fvalue, 0, 'ro')\n",
    "plt.show()"
   ]
  },
  {
   "cell_type": "code",
   "execution_count": 9,
   "metadata": {},
   "outputs": [
    {
     "data": {
      "text/plain": [
       "0.0104"
      ]
     },
     "execution_count": 9,
     "metadata": {},
     "output_type": "execute_result"
    }
   ],
   "source": [
    "signif = fSamples[fSamples >= fvalue]\n",
    "len(signif) / nReplicates"
   ]
  },
  {
   "cell_type": "markdown",
   "metadata": {},
   "source": [
    "Another solution would be to transform the dependent variable to rank and run the anova as usual, this will be equivalent to a non parametric test.\n",
    "\n",
    "\n",
    "**HINT**: You can use rank() function to rank a variable"
   ]
  },
  {
   "cell_type": "code",
   "execution_count": 10,
   "metadata": {},
   "outputs": [
    {
     "data": {
      "text/html": [
       "<div>\n",
       "<style scoped>\n",
       "    .dataframe tbody tr th:only-of-type {\n",
       "        vertical-align: middle;\n",
       "    }\n",
       "\n",
       "    .dataframe tbody tr th {\n",
       "        vertical-align: top;\n",
       "    }\n",
       "\n",
       "    .dataframe thead th {\n",
       "        text-align: right;\n",
       "    }\n",
       "</style>\n",
       "<table border=\"1\" class=\"dataframe\">\n",
       "  <thead>\n",
       "    <tr style=\"text-align: right;\">\n",
       "      <th></th>\n",
       "      <th>df</th>\n",
       "      <th>sum_sq</th>\n",
       "      <th>mean_sq</th>\n",
       "      <th>F</th>\n",
       "      <th>PR(&gt;F)</th>\n",
       "    </tr>\n",
       "  </thead>\n",
       "  <tbody>\n",
       "    <tr>\n",
       "      <th>fertilizer</th>\n",
       "      <td>2.0</td>\n",
       "      <td>819.95</td>\n",
       "      <td>409.975000</td>\n",
       "      <td>7.759507</td>\n",
       "      <td>0.002175</td>\n",
       "    </tr>\n",
       "    <tr>\n",
       "      <th>Residual</th>\n",
       "      <td>27.0</td>\n",
       "      <td>1426.55</td>\n",
       "      <td>52.835185</td>\n",
       "      <td>NaN</td>\n",
       "      <td>NaN</td>\n",
       "    </tr>\n",
       "  </tbody>\n",
       "</table>\n",
       "</div>"
      ],
      "text/plain": [
       "              df   sum_sq     mean_sq         F    PR(>F)\n",
       "fertilizer   2.0   819.95  409.975000  7.759507  0.002175\n",
       "Residual    27.0  1426.55   52.835185       NaN       NaN"
      ]
     },
     "execution_count": 10,
     "metadata": {},
     "output_type": "execute_result"
    }
   ],
   "source": [
    "fertilizer_data['rank'] = fertilizer_data['production'].rank()\n",
    "\n",
    "mod_rank = ols('rank ~ fertilizer',\n",
    "                data=fertilizer_data).fit()\n",
    "      \n",
    "aov_table_rank = sm.stats.anova_lm(mod_rank)\n",
    "\n",
    "aov_table_rank"
   ]
  },
  {
   "cell_type": "markdown",
   "metadata": {},
   "source": [
    "# Exercise 2. To be delivered\n",
    "\n",
    "Medley and Clements (1998) investigated the impact of zinc contamination (and other heavy metals) on the\n",
    "diversity of diatom species in the USA Rocky Mountains. The diversity of diatoms (number of species) and\n",
    "degree of zinc contamination (categorized as either of high, medium, low or natural background level) were\n",
    "recorded from between four and six sampling stations within each of six streams known to be polluted. These\n",
    "data were used to test the null hypothesis that there were no differences the diversity of diatoms between\n",
    "different zinc levels. You can find the data in the contamination.txt file.\n",
    "Assess normality/homogeneity of variance using a boxplot of species diversity against zinc group. Test the $H_0$\n",
    "that the population group means are all equal and perform the analysis of variance of species diversity versus\n",
    "zinc-level groups. What is your conclusion?\n",
    "Perform post-hoc test to investigate pairwise mean differences between all groups.\n",
    "\n",
    "\n",
    "# Functions' guide\n",
    "\n",
    "Here you can find a brief help section for the most relevant functions and arguments used through the session. For detailled information about specific functions and extra functionalities remember that you can check the manual of a function by typing *help(your_function)* or just using Google. \n",
    "\n",
    "* **pd.read_table(data, sep = ' ')**\n",
    "\n",
    "    Read general delimited file into DataFrame.\n",
    "\n",
    "    sep = ' ' In this data frame we don't have the default tabulator separating the data columns. Instead, we have a whitespace, so we have to specify it to the the function via this argument.\n",
    "    \n",
    "* **stats.kstest(data, 'norm', args = (mean, sd))**\n",
    "\n",
    "    Performs the one sample Kolmogorov-Smirnov test for goodness of fit.\n",
    "    \n",
    "    We specify we want to test our data against a normal distribution with 'norm' argument. In addition, we specify we want that normal distribution to have a given mean and standard deviation with args = ().\n",
    "    \n",
    "    \n",
    "* **stats.levene(group1, group2, group3, ...)**\n",
    "\n",
    "    Perform Levene test for equal variances.\n",
    "    \n",
    "    You just need to provide separately the data of the groups you are testing for.\n",
    "    \n",
    "    \n",
    "* **ols('variable1 ~ variable2', data=data).fit()**\n",
    "\n",
    "    Create a model from a formula and dataframe\n",
    "\n",
    "    *variable1 ~ variable2* is the notation expected from the function.  It specifies that variable1 is the dependent variable and variable2 the independent variable. These variables should be present as columns of your data (long format data).\n",
    "    \n",
    "    *ols()* function creates the model and *fit()* is for fitting it.     \n",
    "    \n",
    "\n",
    "* **sm.stats.anova_lm(mod)**\n",
    "\n",
    "    Anova table for one or more fitted linear models\n",
    "    \n",
    "    mod is the fitted model created with the *ols().fit()* functions\n",
    "    \n",
    "\n",
    "* **pg.pairwise_ttests(data, dv = continous_variable_name,** \n",
    "    **between = categorical_variable_name, padjust = 'bonf')**\n",
    "\n",
    "    Pairwise T-tests.\n",
    "\n",
    "    Tests for multiple comparisons. In this case, we are using pairwise t-test.\n",
    "    \n",
    "    dv specifies the continuos variable (pumpkin production in this case)\n",
    "    \n",
    "    between refers to to categorial variable (type of fertilizer in this case)\n",
    "    \n",
    "    padjust indicates the type of multiple testing correction we want to use. In this case we want bonferroni. Other options are, for example, 'holm' or 'fdr_bh'"
   ]
  }
 ],
 "metadata": {
  "kernelspec": {
   "display_name": "Python 3",
   "language": "python",
   "name": "python3"
  },
  "language_info": {
   "codemirror_mode": {
    "name": "ipython",
    "version": 3
   },
   "file_extension": ".py",
   "mimetype": "text/x-python",
   "name": "python",
   "nbconvert_exporter": "python",
   "pygments_lexer": "ipython3",
   "version": "3.7.6"
  }
 },
 "nbformat": 4,
 "nbformat_minor": 2
}
